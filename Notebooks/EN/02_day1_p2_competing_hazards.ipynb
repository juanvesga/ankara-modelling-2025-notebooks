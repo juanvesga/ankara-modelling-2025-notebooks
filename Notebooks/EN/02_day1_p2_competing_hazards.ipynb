{
 "cells": [
  {
   "cell_type": "markdown",
   "id": "2870d1ea",
   "metadata": {},
   "source": [
    "# Day 1 part 2: Demonstration of a simple compartmental model with competing hazards"
   ]
  },
  {
   "cell_type": "markdown",
   "id": "7c21a16c",
   "metadata": {},
   "source": [
    "<div style=\"background: #f8f9fa; padding: 0.5rem 1rem; border-radius: 8px; margin-bottom: 1rem; border-left: 4px solid #007bff;\">\n",
    "<a href=\"../../index.ipynb\" style=\"text-decoration: none; color: #007bff; font-weight: bold;\">← Back to Course Index</a> | \n",
    "<a href=\"../../index-tr.ipynb\" style=\"text-decoration: none; color: #dc3545; font-weight: bold;\">🇹🇷 Türkçe Index</a>\n",
    "</div>\n",
    "\n",
    "---"
   ]
  },
  {
   "cell_type": "markdown",
   "id": "d6b5f014",
   "metadata": {},
   "source": [
    "## 1. Competing hazards\n",
    "\n",
    "Now that we have our model we can add complexity by examining further compartments and the case of competing hazards. In the next exercise we want to add a mortality compartment, that flows out of I, to describe the probability of death among the infected individuals.\n",
    "\n",
    "For the next steps, imagine that we have gathered information which suggets that the CFR for the disease we are modelling is 30%. Using that information, and the concepts we have reviewed try to incorporate a new M compartment, specify a mortality rate rate mu and run the model.\n",
    "\n",
    "Try and fill out the missing gaps in the script below:"
   ]
  },
  {
   "cell_type": "code",
   "execution_count": null,
   "id": "b95ee1c0",
   "metadata": {
    "eval": false,
    "include": true,
    "vscode": {
     "languageId": "r"
    },
    "warning": false
   },
   "outputs": [],
   "source": [
    "# Load some useful packages:\n",
    "library(deSolve)  # To solve differential equations \n",
    "library(reshape2) # To To manipulate our model output\n",
    "library(ggplot2)  # To produce nice plots!\n",
    "library(here)     # To ensure that we always are in our working directory\n",
    "\n",
    "## Add mortality to our cohort model \n",
    "\n",
    "# Population size:\n",
    "N <- 1000\n",
    "\n",
    "# MODEL INPUTS:\n",
    "\n",
    "# Initial conditions\n",
    "initial_state_values <- c(\n",
    "  I = N,\n",
    "  M = ?,  # <----------------- Fill  the gap\n",
    "  R = 0)           \n",
    "\n",
    "# Parameter values per day\n",
    "\n",
    "# For a CFR of 30% , what is mu? \n",
    "\n",
    "mu= ?    # <----------------- Fill  the gap\n",
    "\n",
    "parameters <- c(gamma = 1/2, mu)\n",
    "\n",
    "# TIMESTEPS:\n",
    "\n",
    "# Vector storing the sequence of timesteps to solve the model at\n",
    "times <- seq(from = 0, to = 50, by = 1)   # from 0 to 365 days in daily intervals\n",
    "\n",
    "# MODEL FUNCTION: \n",
    "\n",
    "# The model function takes as input arguments (in the following order): time, state and parameters\n",
    "cohort_model2 <- function(time, state, parameters) {  \n",
    "  \n",
    "  with(as.list(c(state, parameters)), {     \n",
    "    \n",
    "    # Calculating the total population size N (the sum of the number of people in each compartment)\n",
    "    N <- I+R\n",
    "    \n",
    "    # The differential equations\n",
    "    dI <- -(gamma+ ?? ) * I    # <----------------- Fill  the gap \n",
    "    dM <- ??                   # <----------------- Fill  the gap\n",
    "    dR <- gamma * I\n",
    "    \n",
    "    return(list(c(dI, dM, dR))) \n",
    "  })\n",
    "  \n",
    "}\n",
    "\n",
    "# MODEL OUTPUT (solving the differential equations):\n",
    "\n",
    "# Solving the differential equations using the ode integration algorithm\n",
    "output2 <- as.data.frame(ode(y = initial_state_values, \n",
    "                             times = times, \n",
    "                             func = cohort_model2,\n",
    "                             parms = parameters))\n",
    "\n",
    "\n",
    "# turn output dataset into long format\n",
    "output2_long <- melt(as.data.frame(output2), id = \"time\")                 \n",
    "\n",
    "\n",
    "# Plot the new output\n",
    "ggplot(data = output2_long,                                               \n",
    "       aes(x = time, y = value, colour = variable, group = variable)) +  \n",
    "  geom_line(size=2) +                                                          \n",
    "  xlab(\"Time (days)\")+                                                   \n",
    "  ylab(\"Number\") +                                                       \n",
    "  labs(colour = \"Compartment\",                                          \n",
    "       title = \"Cohort model\")    "
   ]
  },
  {
   "cell_type": "markdown",
   "id": "4230ea3f",
   "metadata": {},
   "source": [
    "### 2.1 Explore CFR from our simulation\n",
    "\n",
    "We have our model now with added mortality, try and check if CFR as estimated from the model corresponds to CFR =30%.\n",
    "\n",
    "For that, we might want to see the proportion of people in each compartment"
   ]
  },
  {
   "cell_type": "code",
   "execution_count": null,
   "id": "e1924eee",
   "metadata": {
    "eval": false,
    "include": true,
    "vscode": {
     "languageId": "r"
    },
    "warning": false
   },
   "outputs": [],
   "source": [
    "\n",
    "\n",
    "output3_long<- output2_long\n",
    "output3_long$value<-output2_long$value/N\n",
    "\n",
    "\n",
    "# Plot the proportion of people in the S, I and R compartments over time\n",
    "ggplot(data = output3_long,                                               \n",
    "       aes(x = time, y = value, colour = variable, group = variable)) +  \n",
    "  geom_line(size=2) +                                                        \n",
    "  xlab(\"Time (days)\")+                                                  \n",
    "  ylab(\"Number\") +                                                      \n",
    "  labs(colour = \"Compartment\",                                          \n",
    "       title = \"Cohort model\")  \n",
    "\n",
    "\n"
   ]
  },
  {
   "cell_type": "markdown",
   "id": "1c143adb",
   "metadata": {},
   "source": [
    "Can you tell from the graph what proportion of people have died as a result of the disease?"
   ]
  }
 ],
 "metadata": {
  "jupytext": {
   "cell_metadata_filter": "name,eval,warning,include,tags,-all",
   "main_language": "R",
   "notebook_metadata_filter": "-all"
  },
  "kernelspec": {
   "display_name": "R",
   "language": "R",
   "name": "ir"
  },
  "language_info": {
   "codemirror_mode": "r",
   "file_extension": ".r",
   "mimetype": "text/x-r-source",
   "name": "R",
   "pygments_lexer": "r",
   "version": "4.3.2"
  }
 },
 "nbformat": 4,
 "nbformat_minor": 5
}
