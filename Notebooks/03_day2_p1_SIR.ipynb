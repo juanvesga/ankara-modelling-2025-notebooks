{
 "cells": [
  {
   "cell_type": "markdown",
   "id": "19fb31b7",
   "metadata": {},
   "source": [
    "# Day 2 part 1: Building blocks of an SIR"
   ]
  },
  {
   "cell_type": "code",
   "execution_count": null,
   "id": "52d4cadc",
   "metadata": {
    "name": "setup",
    "tags": [
     "remove_cell"
    ]
   },
   "outputs": [],
   "source": [
    "knitr::opts_chunk$set(echo = TRUE)"
   ]
  },
  {
   "cell_type": "markdown",
   "id": "1e094d3f",
   "metadata": {},
   "source": [
    "By now we know how to code a compartmental model. We also know what an SIR model is and what are its main building blocks. In this exercise we will build on our previous code to construct a fully dynamic SIR model.   \n",
    "\n",
    "## 1. Building an SIR model "
   ]
  },
  {
   "cell_type": "markdown",
   "id": "704f3946",
   "metadata": {},
   "source": [
    "### Case study: a new virus X2021 has been identified in your town and is currently causing an outbreak. You have been commissioned by WHO to provide modelling projections to have a broad idea of the potential size of this outbreak. The ongoing epidemiological investigation have identified the following facts that might guide you in your model development:    \n",
    "\n",
    "1)\tThe virus transmits from human to human via micro droplets from the respiratory tract.    \n",
    "\n",
    "2)\tOnce infection is established infected individuals remain infectious for an average period of 6 days    \n",
    "\n",
    "3)\tFrom a previous outbreak of X2021 in a neighboring town we know that the CFR is ~15%    \n",
    "\n",
    "4)\tNo known factors have been identified for increased susceptibility in any particular population group   \n",
    "\n",
    "5)\tFrom the same previous outbreak, an infection rate of 0.5 per day (CI95% 0.3 to 0.6) has been estimated\n",
    "Task: Using the code below (from our previous session) build an SIR model that reflects the case above and try to answer the following questions, providing a :   \n",
    "\n",
    "    1)\tWhen do we expect the X2021 outbreak to peak (in days) ?\n",
    "    2)\tHow many people do we expect to get infected at the end of the outbreak?\n",
    "    3)\tCan you provide a range for the final size of the epidemic (number infected)  and the expected peak (in days) based in the uncertainty around the infection rate?\n",
    "\n",
    "\n",
    "Note: Copy the code below into your R Studio session. Try to fill the gaps marked with ??   "
   ]
  },
  {
   "cell_type": "code",
   "execution_count": null,
   "id": "9c80e1be",
   "metadata": {
    "eval": false,
    "include": true,
    "warning": false
   },
   "outputs": [],
   "source": [
    "# LOAD THE PACKAGES:\n",
    "library(deSolve)\n",
    "library(reshape2)\n",
    "library(ggplot2)\n",
    "library(here)\n",
    "\n",
    "rm(list = ls())\n",
    "setwd(here())\n",
    "# Population size:\n",
    "N <- 1000\n",
    "\n",
    "# MODEL INPUTS:\n",
    "\n",
    "# Initial conditions\n",
    "initial_state_values <- c(\n",
    "  S = N-1,\n",
    "  I = 1,\n",
    "  R = 0,\n",
    "  M = 0)           \n",
    "\n",
    "# Parameter values per day\n",
    "  CFR<- ?? # <---------------------- FIll the gap\n",
    "   \n",
    "  gamma <- ?? # Recovery rate # <---------------------- FIll the gap\n",
    "  \n",
    "  beta <- ??  # infection rate # <---------------------- FIll the gap\n",
    "  \n",
    "  mu <- ?? ## # <---------------------- FIll the gap\n",
    "  \n",
    "  parameters <- c(beta, gamma, mu)\n",
    "\n",
    "\n",
    "# MODEL FUNCTION: \n",
    "times <- seq(from = 0, to = 150, by = 1)   # from 0 to 365 days in daily intervals\n",
    "\n",
    "sir_model <- function(time, state, parameters) {  \n",
    "  \n",
    "  with(as.list(c(state, parameters)), {     \n",
    "    \n",
    "    # Calculating the total population size N (the sum of the number of people in each compartment)\n",
    "    \n",
    "    N <- S+I+R\n",
    "    \n",
    "    # Calculating the FOI\n",
    "    #How can we define the force of infection? #\n",
    "    \n",
    "    lambda <- ??  #   <---------------------- FIll the gap\n",
    "      \n",
    "      # The differential equations\n",
    "      dS <-  - lambda * S # can you write the differential equation for S? \n",
    "      dI <- lambda * S - I*(gamma+mu)     \n",
    "    dR <- gamma * I\n",
    "    dM <- I*mu\n",
    "    \n",
    "    return(list(c(dS, dI, dR, dM))) \n",
    "  })\n",
    "  \n",
    "}\n",
    "\n",
    "\n",
    "\n",
    "# MODEL OUTPUT (solving the differential equations):\n",
    "\n",
    "# Solving the differential equations using the ode integration algorithm\n",
    "output <- as.data.frame(ode(y = initial_state_values, \n",
    "                            times = times, \n",
    "                            func = sir_model,\n",
    "                            parms = parameters))\n",
    "\n",
    "\n",
    "\n",
    "# turn output data set into long format\n",
    "output_long <- melt(as.data.frame(output), id = \"time\")                 \n",
    "\n",
    "\n",
    "# Plot the number of people in the S, I and R compartments over time\n",
    "ggplot(data = output_long,                                               # specify object containing data to plot\n",
    "       aes(x = time, y = value, colour = variable, group = variable)) +  # assign columns to axes and groups\n",
    "  geom_line(size=2) +                                                          # represent data as lines\n",
    "  xlab(\"Time (days)\")+                                                   # add label for x axis\n",
    "  ylab(\"Number\") +                                                       # add label for y axis\n",
    "  labs(colour = \"Compartment\",                                           # add legend title  \n",
    "       title = \"SIR model\")    \n",
    "\n",
    "\n",
    "\n",
    "# Plot the proportion of individuals \n",
    "\n",
    "output2_long<- output_long\n",
    "output2_long$value<-output_long$value/N\n",
    "\n",
    "\n",
    "# Plot the proportion of people in the S, I and R compartments over time\n",
    "ggplot(data = output2_long,                                               # specify object containing data to plot\n",
    "       aes(x = time, y = value, colour = variable, group = variable)) +  # assign columns to axes and groups\n",
    "  geom_line(size=2) +                                                          # represent data as lines\n",
    "  xlab(\"Time (days)\")+                                                   # add label for x axis\n",
    "  ylab(\"Number\") +                                                       # add label for y axis\n",
    "  labs(colour = \"Compartment\",                                           # add legend title  \n",
    "       title = \"SIR model\")   \n"
   ]
  },
  {
   "cell_type": "markdown",
   "id": "575466ef",
   "metadata": {},
   "source": [
    "## Analysis of SIR assumptions\n",
    "\n",
    "Think about the main assumptions and concepts reviewed in our lesson and try to answer:   \n",
    "\n",
    "1)\tWhy is the homogeneous assumption of risk of infection a simplification and what factors can affect this? What are potential sources of heterogeneity?   \n",
    "\n",
    "2)\tWhat factors might affect our assumption of a homogeneous p across the population?    \n",
    "\n",
    "\n"
   ]
  }
 ],
 "metadata": {
  "jupytext": {
   "cell_metadata_filter": "name,tags,eval,include,warning,-all",
   "main_language": "R",
   "notebook_metadata_filter": "-all"
  },
  "language_info": {
   "name": "python"
  }
 },
 "nbformat": 4,
 "nbformat_minor": 5
}
