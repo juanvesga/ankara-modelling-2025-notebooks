{
 "cells": [
  {
   "cell_type": "markdown",
   "id": "13c716ea",
   "metadata": {},
   "source": [
    "# Gün 4, bölüm 2: Salgın tahminleri"
   ]
  },
  {
   "cell_type": "markdown",
   "id": "92d53df6",
   "metadata": {},
   "source": [
    "<div style=\"background: #f8f9fa; padding: 0.5rem 1rem; border-radius: 8px; margin-bottom: 1rem; border-left: 4px solid #007bff;\">\n",
    "<a href=\"../../index.ipynb\" style=\"text-decoration: none; color: #007bff; font-weight: bold;\">← Kurs İndeksine Geri Dön</a> | \n",
    "<a href=\"../../index-tr.ipynb\" style=\"text-decoration: none; color: #dc3545; font-weight: bold;\">🇹🇷 Türkçe İndeks</a>\n",
    "</div>\n",
    "\n",
    "---"
   ]
  },
  {
   "cell_type": "markdown",
   "id": "0cb224de",
   "metadata": {},
   "source": [
    "## Giriş\n",
    "\n",
    "Bu uygulama, bir Ebola Virüs Hastalığı (EVD) salgınının erken değerlendirmesini ve yeniden yapılandırılmasını simüle eden uygulamanın ikinci (iki bölümden) bölümüdür. \n",
    "**Bölüm 2**'ye başlamadan önce **bölüm 1**'i tamamladığınızdan emin olun. \n",
    "Uygulamanın **bölüm 2**'sinde, büyüme oranı tahmini, temas izleme verileri, gecikmeler ve bulaştırıcılık tahminleri dahil olmak üzere salgının erken aşamasının analizinin çeşitli yönlerini tanıtıyoruz. \n",
    "\n",
    "\n",
    "## Öğrenme çıktıları\n",
    "\n",
    "Bu uygulamanın **bölüm 2**'sinin sonunda şunları yapabilmelisiniz:\n",
    "\n",
    "- Salgının büyüme oranını ve ikiye katlanma süresini tahmin etme ve yorumlama\n",
    "\n",
    "- Bulaştıran / bulaşan birey çiftlerine dair verilerden seri aralığı tahmin etme\n",
    "\n",
    "- Salgının üreme sayısını tahmin etme ve yorumlama\n",
    "\n",
    "- Kısa vadeli gelecekteki insidansı öngörme\n",
    "\n",
    "## Bağlam: Batı Afrika'da kurgusal bir ülkede yeni bir EVD salgını\n",
    "\n",
    "Batı Afrika'da kurgusal bir ülkede yeni bir EVD salgını bildirildi. Sağlık Bakanlığı salgın müdahalesini koordine etmekle görevli ve sizi gerçek zamanlı müdahaleyi bilgilendirmek için salgın analizi konusunda danışman olarak görevlendirdi. Verileri okudunuz ve tanımlayıcı analiz yaptınız (**bölüm 1**). Şimdi biraz istatistiksel analiz yapalım! \n",
    "\n",
    "## Gerekli paketler \n",
    "\n",
    "CRAN veya github'da mevcut olan aşağıdaki paketler bu analiz için gereklidir.\n",
    "Bunları **bölüm 1**'de kurmuş olmanız gerekir ancak kurmediyseniz, gerekli paketleri şu şekilde kurun:"
   ]
  },
  {
   "cell_type": "markdown",
   "id": "fab8ad25",
   "metadata": {},
   "source": [
    "Paketler kurulduktan sonra yeni bir R oturumu açmanız gerekebilir. Ardından kütüphaneleri şu şekilde yükleyin:"
   ]
  },
  {
   "cell_type": "code",
   "execution_count": null,
   "id": "0a29dedb",
   "metadata": {
    "name": "load_library",
    "vscode": {
     "languageId": "r"
    },
    "warning": false
   },
   "outputs": [],
   "source": [
    "library(readxl)\n",
    "library(outbreaks)\n",
    "library(incidence)\n",
    "library(epicontacts)\n",
    "library(distcrete)\n",
    "library(epitrix)\n",
    "library(EpiEstim)\n",
    "library(projections)\n",
    "library(ggplot2)\n",
    "library(magrittr)\n",
    "library(binom)\n",
    "library(ape)\n",
    "library(outbreaker2)\n",
    "library(here)"
   ]
  },
  {
   "cell_type": "markdown",
   "id": "a6d5b75c",
   "metadata": {},
   "source": [
    "## [Bölüm 1](./real-time-response-1.html)'de işlenen verileri okuma"
   ]
  },
  {
   "cell_type": "markdown",
   "id": "07483ef3",
   "metadata": {},
   "source": [
    "<!--\n",
    "ZNK: These two chunks are needed because of the way the documents are structured\n",
    "in blogdown. The source that we edit is not the same as the site that is\n",
    "rendered. Everything in this directory will end up in the same directory as the\n",
    "\"static\" when the website is displayed, but the current directory structure is\n",
    "present when the practicals are built, so we have to do this silly \n",
    "song-and-dance to appease the directory gods.\n",
    "-->"
   ]
  },
  {
   "cell_type": "code",
   "execution_count": null,
   "id": "97f15de5",
   "metadata": {
    "name": "read_data_ni",
    "vscode": {
     "languageId": "r"
    }
   },
   "outputs": [],
   "source": [
    "i_daily <- readRDS(here(\"data/clean/i_daily.rds\"))\n",
    "i_weekly <- readRDS(here(\"data/clean/i_weekly.rds\"))\n",
    "linelist <- readRDS(here(\"data/clean/linelist.rds\"))\n",
    "linelist_clean <- readRDS(here(\"data/clean/linelist_clean.rds\"))\n",
    "contacts <- readRDS(here(\"data/clean/contacts.rds\"))"
   ]
  },
  {
   "cell_type": "markdown",
   "id": "46186903",
   "metadata": {},
   "source": [
    "## Log-lineer model kullanarak büyüme oranını tahmin etme\n",
    "\n",
    "İnsidansın en basit modeli muhtemelen log-lineer model, yani log-dönüştürülmüş insidanslarda lineer regresyondur. \n",
    "Bunun için sıfır insidansla (log alınamayan) çok fazla sorun yaşamamak için haftalık insidansla çalışacağız. \n",
    "\n",
    "Log-dönüştürülmüş insidansı görselleştirin:"
   ]
  },
  {
   "cell_type": "code",
   "execution_count": null,
   "id": "a22b7f74",
   "metadata": {
    "name": "log_transform_weekly",
    "vscode": {
     "languageId": "r"
    }
   },
   "outputs": [],
   "source": [
    "ggplot(as.data.frame(i_weekly)) + \n",
    "  geom_point(aes(x = dates, y = log(counts))) + \n",
    "  scale_x_incidence(i_weekly) +\n",
    "  xlab(\"tarih\") +\n",
    "  ylab(\"log haftalık insidans\") + \n",
    "  theme_minimal()"
   ]
  },
  {
   "cell_type": "markdown",
   "id": "c6c8f851",
   "metadata": {},
   "source": [
    "Bu çizim size salgın hakkında ne söylüyor?   \n",
    "\n",
    "`incidence` paketinde, `fit` fonksiyonu bu modelin parametrelerini bir insidans nesnesinden (burada, `i_weekly`) tahmin edecektir. Bunu verilere uygulayın ve sonucu `f` adında yeni bir nesnede saklayın. `f`'yi yazdırabilir ve büyüme oranı r ve ikiye katlanma süresinin tahminlerini türetmek için kullanabilir ve ilgili modeli insidans çizmine ekleyebilirsiniz:  \n",
    "\n",
    "Haftalık insidans verilerine log-lineer model uydurma:  "
   ]
  },
  {
   "cell_type": "code",
   "execution_count": null,
   "id": "181383f0",
   "metadata": {
    "name": "log_linear_full",
    "vscode": {
     "languageId": "r"
    }
   },
   "outputs": [],
   "source": [
    "f <- incidence::fit(i_weekly)\n",
    "f\n",
    "plot(i_weekly, fit = f)"
   ]
  },
  {
   "cell_type": "markdown",
   "id": "ddbae27d",
   "metadata": {},
   "source": [
    "Çizime ve uyuma bakarak, bunun makul bir uyum olduğunu düşünüyor musunuz?   \n",
    "\n",
    "## Gözlenen gecikmelere dayalı olarak log-lineer model için uygun eşik tarihi bulma\n",
    "\n",
    "Yukarıda çizdiğiniz log(insidans) çizimini kullanarak ve en son haftalarda neden üstel büyüme gözlemlenmeyebileceğini düşünerek, bir eşik tarihi seçin ve log-lineer modeli büyüme oranı r'yi ve ikiye katlanma süresini daha güvenilir bir şekilde tahmin edebileceğimizi düşündüğünüz epieğrinin uygun bir bölümüne uydurma.  \n",
    "\n",
    "Vakaların semptom başlangıcından ne kadar sonra hastaneye yatırıldığını incelemek isteyebilirsiniz; \n",
    "bu, aşağıdaki gibi seçeceğiniz eşik tarihi konusunda bilgi verebilir:  "
   ]
  },
  {
   "cell_type": "code",
   "execution_count": null,
   "id": "ded84382",
   "metadata": {
    "name": "delays_in_reporting",
    "vscode": {
     "languageId": "r"
    }
   },
   "outputs": [],
   "source": [
    "summary(as.numeric(linelist_clean$date_of_hospitalisation - linelist_clean$date_of_onset))"
   ]
  },
  {
   "cell_type": "code",
   "execution_count": null,
   "id": "d7c87039",
   "metadata": {
    "eval": false,
    "name": "n_weeks_to_remove",
    "vscode": {
     "languageId": "r"
    }
   },
   "outputs": [],
   "source": [
    "# epieğrinin sonunda kaç hafta atmamız gerekiyor\n",
    "n_weeks_to_discard <- "
   ]
  },
  {
   "cell_type": "code",
   "execution_count": null,
   "id": "e2980bdc",
   "metadata": {
    "name": "trunc_incidence",
    "vscode": {
     "languageId": "r"
    }
   },
   "outputs": [],
   "source": [
    "min_date <- min(i_daily$dates)\n",
    "max_date <- max(i_daily$dates) - n_weeks_to_discard * 7\n",
    "# haftalık kesik insidans\n",
    "i_weekly_trunc <- subset(i_weekly, \n",
    "                         from = min_date, \n",
    "                         to = max_date) # son birkaç haftalık veriyi at\n",
    "# günlük kesik insidans (lineer regresyon için kullanılmaz ama daha sonra kullanılabilir)\n",
    "i_daily_trunc <- subset(i_daily, \n",
    "                         from = min_date, \n",
    "                         to = max_date) # son iki haftalık veriyi kaldır"
   ]
  },
  {
   "cell_type": "markdown",
   "id": "f19c7686",
   "metadata": {},
   "source": [
    "Log-lineer modelinizi daha önce olduğu gibi yeniden uydurma ve çizme ancak kesik veri `i_weekly_trunc` kullanma. "
   ]
  },
  {
   "cell_type": "code",
   "execution_count": null,
   "id": "b2d0027d",
   "metadata": {
    "echo": "#R_CODE#params$full_version",
    "name": "fit_truncated",
    "vscode": {
     "languageId": "r"
    }
   },
   "outputs": [],
   "source": [
    "f <- incidence::fit(i_weekly_trunc)\n",
    "f\n",
    "plot(i_weekly_trunc, fit = f)"
   ]
  },
  {
   "cell_type": "markdown",
   "id": "9a8fb489",
   "metadata": {},
   "source": [
    "Uyumunuzun özet istatistiklerine bakın:"
   ]
  },
  {
   "cell_type": "code",
   "execution_count": null,
   "id": "07b275b4",
   "metadata": {
    "name": "fit_summary",
    "vscode": {
     "languageId": "r"
    }
   },
   "outputs": [],
   "source": [
    "summary(f$model)"
   ]
  },
  {
   "cell_type": "markdown",
   "id": "979129c6",
   "metadata": {},
   "source": [
    "Uyum iyiliğini (Rsquared), tahmin edilen eğimi (büyüme oranı)\n",
    "ve karşılık gelen ikiye katlanma süresini aşağıdaki gibi görebilirsiniz:  "
   ]
  },
  {
   "cell_type": "code",
   "execution_count": null,
   "id": "2a45b211",
   "metadata": {
    "name": "growth_rate",
    "vscode": {
     "languageId": "r"
    }
   },
   "outputs": [],
   "source": [
    "# model verilere iyi uyuyor mu? \n",
    "adjRsq_model_fit <- summary(f$model)$adj.r.squared\n",
    "# salgının tahmin edilen büyüme oranı nedir?\n",
    "daily_growth_rate <- f$model$coefficients['dates.x']\n",
    "# güven aralığı:\n",
    "daily_growth_rate_CI <- confint(f$model, 'dates.x', level=0.95)\n",
    "# salgının ikiye katlanma süresi nedir? \n",
    "doubling_time_days <- log(2) / daily_growth_rate\n",
    "# güven aralığı:\n",
    "doubling_time_days_CI <- log(2) / rev(daily_growth_rate_CI)\n"
   ]
  },
  {
   "cell_type": "markdown",
   "id": "2204181b",
   "metadata": {},
   "source": [
    "Log-lineer erken salgın değerlendirmesi için basit ve hızlı bir yöntem olmasına rağmen, sadece salgın büyümesinin olduğu noktaya kadar uydurma konusunda dikkatli olunmalıdır. Bu noktayı tanımlamanın zor olabileceğini unutmayın.  "
   ]
  },
  {
   "cell_type": "markdown",
   "id": "aa12809a",
   "metadata": {},
   "source": [
    "## Temas İzleme - Temasları inceleme\n",
    "\n",
    "Temas izleme bir Ebola salgın müdahalesinin temel taşlarından biridir. Bu, bilinen bir vaka ile temas kurmuş (yani enfekte olmuş olabilir) risk altındaki bireyleri belirlemeyi ve takip etmeyi içerir. Ebola için temaslı kişiler 21 gün boyunca takip edilir (kuluçka döneminin üst sınırı). Bu, semptomatik hale gelen temaslı kişilerin hızla izole edilebilmesini sağlar ve daha fazla bulaşma şansını azaltır. Burada tarihlerde hata olan girişleri attığımız `linelist_clean` yerine tam çizgi listesini kullanıyoruz. Ancak temas yine de geçerli olabilir.\n",
    "\n",
    "`epicontacts` paketindeki `make_epicontacts` fonksiyonunu kullanarak, `epi_contacts` adında yeni bir `epicontacts` nesnesi oluşturun. İlgili `to` ve `from` argümanlarının sütun isimlerini kontrol ettiğinizden emin olun. "
   ]
  },
  {
   "cell_type": "code",
   "execution_count": null,
   "id": "229d158c",
   "metadata": {
    "echo": "#R_CODE#params$full_version",
    "name": "epicontacts",
    "vscode": {
     "languageId": "r"
    }
   },
   "outputs": [],
   "source": [
    "epi_contacts <- make_epicontacts(linelist = linelist, contacts = contacts, \n",
    "                                 id = \"case_id\", # çizgi listesinde tanımlayıcının adı\n",
    "                                 from = \"infector\", # temaslar içinde 'from' sütununun adı\n",
    "                                 to = \"case_id\",  # temaslar içinde 'to' sütununun adı\n",
    "                                 directed = TRUE)"
   ]
  },
  {
   "cell_type": "code",
   "execution_count": null,
   "id": "151fa77f",
   "metadata": {
    "name": "show_output_contacts",
    "vscode": {
     "languageId": "r"
    }
   },
   "outputs": [],
   "source": [
    "epi_contacts"
   ]
  },
  {
   "cell_type": "markdown",
   "id": "642afb15",
   "metadata": {},
   "source": [
    "Bu temasları kolayca çizebilirsiniz, ancak biraz düzenleme ile (`?vis_epicontacts`'a bakın) örneğin şekilleri cinsiyete göre ve ok renklerini maruz kalma kaynağına göre (veya ilginizi çeken diğer değişkenlere göre) özelleştirebilirsiniz:"
   ]
  },
  {
   "cell_type": "code",
   "execution_count": null,
   "id": "d459e16d",
   "metadata": {
    "name": "table_contact_type",
    "vscode": {
     "languageId": "r"
    }
   },
   "outputs": [],
   "source": [
"# örneğin, temasların bildirilen enfeksiyon kaynağına bakın.\n",
    "table(epi_contacts$contacts$source, useNA = \"ifany\")\n"
   ]
  },
  {
   "cell_type": "code",
   "execution_count": null,
   "id": "7734356f",
   "metadata": {
    "eval": false,
    "name": "plot_contacts",
    "vscode": {
     "languageId": "r"
    }
   },
   "outputs": [],
   "source": [
    "p <- plot(epi_contacts, node_shape = \"gender\", shapes = c(m = \"male\", f = \"female\"), node_color = \"gender\", edge_color = \"source\", selector = FALSE)\n",
    "p"
   ]
  },
  {
   "cell_type": "code",
   "execution_count": null,
   "id": "cd733c04",
   "metadata": {
    "lines_to_next_cell": 0,
    "name": "plot_contacts-ns",
    "tags": [
     "remove_input"
    ],
    "vscode": {
     "languageId": "r"
    }
   },
   "outputs": [],
   "source": [
    "p <- plot(epi_contacts, node_shape = \"gender\", shapes = c(m = \"male\", f = \"female\"), node_color = \"gender\", edge_color = \"source\", selector = FALSE)\n",
    "#learn::save_and_use_widget(p, 'real-time-response-2-nework.html')"
   ]
  },
  {
   "cell_type": "markdown",
   "id": "1ad346c1",
   "metadata": {},
   "source": [
    "`match` fonksiyonunu kullanarak (`?match`'a bakın) görselleştirilen temasların gerçekten vaka olduğunu kontrol edin."
   ]
  },
  {
   "cell_type": "code",
   "execution_count": null,
   "id": "0bf4a137",
   "metadata": {
    "echo": "#R_CODE#params$full_version",
    "name": "check_contact_cases",
    "vscode": {
     "languageId": "r"
    }
   },
   "outputs": [],
   "source": [
    "match(contacts$case_id, linelist$case_id)"
   ]
  },
  {
   "cell_type": "markdown",
   "id": "868ae570",
   "metadata": {},
   "source": [
    "Bunların gerçekten hepsinin vaka olduğundan memnun kaldıktan sonra ağa bakın:  \n",
    "\n",
    "- süper yayılım (heterojen bulaşma) var gibi görünüyor mu?\n",
    "- vakaların cinsiyetine bakarak bundan bir şey çıkarabilir misiniz? Cinsiyete göre görünür farklar var mı?"
   ]
  },
  {
   "cell_type": "markdown",
   "id": "134fc2a2",
   "metadata": {},
   "source": [
    "## Bulaştırıcılığı tahmin etme (`$R$`)  \n",
    "\n",
    "### Dallanma süreci modeli  \n",
    "\n",
    "Hastalığın bulaştırıcılığı, enfekte vaka başına beklenen ikincil vaka sayısı olarak tanımlanan üreme sayısı R'nin tahmini yoluyla değerlendirilebilir. Bir salgının erken aşamalarında ve bağışıklığı olmayan büyük bir popülasyon varsayıldığında, bu miktar aynı zamanda temel üreme sayısı $$R_0$$'dır, yani tamamen duyarlı büyük bir popülasyonda $$R$$.  \n",
    "\n",
    "`EpiEstim` paketi, semptom başlangıcı tarihlerini ve seri aralık dağılımı bilgisini, yani vakadaki semptom başlangıcından bulaştırıcısındaki semptom başlangıcına kadar geçen sürenin dağılımını kullanarak $$R$$'nin Bayesian tahminini uygular (Cori ve ark., 2013, AJE 178: 1505–1512'ye bakın).\n",
    "\n",
    "Kısaca, `EpiEstim` belirli bir gündeki insidansı Poisson dağılımlı olarak tanımlayan basit bir model kullanır ve ortalaması o gündeki toplam enfeksiyon kuvveti tarafından belirlenir:\n",
    "\n",
    "$$ I_t  ∼  Poisson(\\lambda_t)$$\n",
    "\n",
    "burada $$I_t$$ $$t$$ günündeki insidans (semptom başlangıcına dayalı) ve $$\\lambda_t$$ o gündeki enfeksiyon kuvvetidir. R'yi üreme sayısı ve w()'yi ayrık seri aralık dağılımı olarak belirtirsek:\n",
    "\n",
    " $$\\lambda_t = R \\sum_{s=1}^t I_sw(t-s)$$\n",
    "\n",
    "Olabilirlik (model ve parametreler verildiğinde verileri gözlemleme olasılığı) R'nin bir fonksiyonu olarak tanımlanır:\n",
    "\n",
    " $$L(I) = p(I|R) = \\prod_{t = 1}^{T} f_P(I_t, \\lambda_t)$$\n",
    "\n",
    "burada $$f_P(.,\\mu)$$ ortalaması $$\\mu$$ olan Poisson dağılımının olasılık kütle fonksiyonudur.\n",
    "\n",
    "### Seri aralığı tahmin etme\n",
    "\n",
    "Bulaştıran ve bulaşan birey çiftleri hakkında veri toplandığından, bu seri aralık dağılımını tahmin etmek için yeterli olmalıdır. Durum böyle olmasaydı, bunun yerine geçmiş salgınlardan veri kullanabilirdik.  \n",
    "\n",
    "`get_pairwise` fonksiyonu seri aralığı (yani bulaştıranlar ve bulaşan bireyler arasındaki başlangıç tarihi farkı) çıkarmak için kullanılabilir:"
   ]
  },
  {
   "cell_type": "code",
   "execution_count": null,
   "id": "d87fa08c",
   "metadata": {
    "name": "si_estim",
    "vscode": {
     "languageId": "r"
    }
   },
   "outputs": [],
   "source": [
    "si_obs <- get_pairwise(epi_contacts, \"date_of_onset\")\n",
    "summary(si_obs)\n",
    "## Min. 1st Qu.  Median    Mean 3rd Qu.    Max. \n",
    "## 1.000   5.000   6.500   9.117  12.250  30.000 \n",
    "hist(si_obs, breaks = 0:30,\n",
    "     xlab = \"Semptom başlangıcından sonra günler\", ylab = \"Frekans\",\n",
    "     main = \"Seri aralık (ampirik dağılım)\",\n",
    "     col = \"grey\", border = \"white\")\n"
   ]
  },
  {
   "cell_type": "markdown",
   "id": "c9b6c6f7",
   "metadata": {},
   "source": [
    "Bu dağılım hakkında ne düşünüyorsunuz? Gerekli gördüğünüz herhangi bir ayarlama yapın ve sonra `epitrix` paketindeki `fit_disc_gamma` fonksiyonunu kullanarak bu verilere ayrıklaştırılmış Gamma dağılımı uydurma. Sonuçlarınız yaklaşık olarak şöyle görünmelidir:  "
   ]
  },
  {
   "cell_type": "code",
   "execution_count": null,
   "id": "eb7c0aec",
   "metadata": {
    "name": "fit_gamma",
    "vscode": {
     "languageId": "r"
    }
   },
   "outputs": [],
   "source": [
    "si_fit <- fit_disc_gamma(si_obs, w = 1)\n",
    "si_fit"
   ]
  },
  {
   "cell_type": "markdown",
   "id": "700eff42",
   "metadata": {},
   "source": [
    "`si_fit` uydurulmuş gecikmeler hakkında `$distribution` yuvasındaki tahmin edilen dağılım dahil olmak üzere çeşitli bilgiler içerir. Bu dağılımı aşağıdaki çizimde ampirik verilerle karşılaştırabilirsiniz:"
   ]
  },
  {
   "cell_type": "code",
   "execution_count": null,
   "id": "68aba06c",
   "metadata": {
    "name": "compare_empirical",
    "vscode": {
     "languageId": "r"
    }
   },
   "outputs": [],
   "source": [
    "si <- si_fit$distribution\n",
    "si\n",
    "\n",
    "## uydurulmuş dağılımı karşılaştır\n",
    "hist(si_obs, xlab = \"Semptom başlangıcından sonra günler\", ylab = \"Frekans\",\n",
    "     main = \"Seri aralık: verilere uyum\", col = \"salmon\", border = \"white\",\n",
    "     50, ylim = c(0, 0.15), freq = FALSE, breaks = 0:35)\n",
    "points(0:60, si$d(0:60), col = \"#9933ff\", pch = 20)\n",
    "points(0:60, si$d(0:60), col = \"#9933ff\", type = \"l\", lty = 2)\n"
   ]
  },
  {
   "cell_type": "markdown",
   "id": "77947b11",
   "metadata": {},
   "source": [
    "Bu nesil süresi tahminini güvenir miydiniz? Bunu Batı Afrika EVD salgınından gerçek tahminlerle (WHO Ebola Response Team (2014) NEJM 371:1481–1495) ortalama 15.3 gün ve standart sapma 9.3 gün ile nasıl karşılaştırırsınız?  "
   ]
  },
  {
   "cell_type": "markdown",
   "id": "bbd29235",
   "metadata": {},
   "source": [
    "### Üreme Sayısının Tahmini\n",
    "\n",
    "Artık seri aralık tahminlerimiz olduğuna göre, bu bilgiyi hastalığın bulaştırıcılığını (`$R_0$` ile ölçülen) tahmin etmek için kullanabiliriz. Üstel büyüme olduğuna karar verdiğiniz döneme kesilmiş günlük (haftalık değil) insidans nesnesini (`i_daily_trunc`) kullandığınızdan emin olun.  \n",
    "\n",
    "Az önce elde ettiğiniz seri aralığın ortalama ve standart sapma tahminlerini kullanarak, üreme sayısını tahmin etmek için `estimate_R` fonksiyonunu kullanın (`?estimate_R`'ye bakın) ve sonucu `R` adında yeni bir nesnede saklayın.  \n",
    "\n",
    "`estimate_R` kullanmadan önce, `make_config` fonksiyonunu kullanarak bir `config` nesnesi oluşturmanız gerekir; burada üreme sayısını tahmin etmek istediğiniz zaman penceresini ve kullanılacak `mean_si` ve `std_si`'yi belirteceksiniz. Zaman penceresi için `t_start = 2` kullanın (geçmişte gözlemlenen insidansa koşullandırdığınız için R'yi ancak 2. günden itibaren tahmin edebilirsiniz) ve kesik insidansınızın `i_daily_trunc` son tarihine kadar R tahmin etmek için `t_end = length(i_daily_trunc$counts)` belirtin.  "
   ]
  },
  {
   "cell_type": "code",
   "execution_count": null,
   "id": "6ca73227",
   "metadata": {
    "name": "config",
    "vscode": {
     "languageId": "r"
    }
   },
   "outputs": [],
   "source": [
    "\n",
    "config <- make_config(mean_si = si_fit$mu, # daha önce tahmin edilen si dağılımının ortalaması\n",
    "                      std_si = si_fit$sd,  # daha önce tahmin edilen si dağılımının standart sapması\n",
    "                      t_start = 2,         # zaman penceresinin başlangıç günü\n",
    "                      t_end = length(i_daily_trunc$counts)) # zaman penceresinin son günü\n"
   ]
  },
  {
   "cell_type": "code",
   "execution_count": null,
   "id": "c27c6c44",
   "metadata": {
    "echo": "#R_CODE#params$full_version",
    "name": "calc_R",
    "vscode": {
     "languageId": "r"
    },
    "warning": false
   },
   "outputs": [],
   "source": [
    "R <- estimate_R(i_daily_trunc, method = \"parametric_si\", config = config)\n",
    "plot(R, legend = FALSE)"
   ]
  },
  {
   "cell_type": "markdown",
   "id": "30e1fcbb",
   "metadata": {},
   "source": [
    "Üreme sayısı için medyan ve %95 güvenilirlik aralıklarını (%95CrI) şu şekilde çıkarın:"
   ]
  },
  {
   "cell_type": "code",
   "execution_count": null,
   "id": "78203dba",
   "metadata": {
    "name": "calc_R2",
    "vscode": {
     "languageId": "r"
    }
   },
   "outputs": [],
   "source": [
    "R_median <- R$R$`Median(R)`\n",
    "R_CrI <- c(R$R$`Quantile.0.025(R)`, R$R$`Quantile.0.975(R)`)\n",
    "R_median\n",
    "R_CrI"
   ]
  },
  {
   "cell_type": "markdown",
   "id": "b4c90388",
   "metadata": {},
   "source": [
    "Bu sonuçları yorumlayın: üreme sayısı hakkında ne düşünüyorsunuz? Neyi yansıtıyor? Epieğrinin son bölümüne dayanarak, bazı meslektaşlar insidansın düştüğünü ve salgının kontrol altına alınmış olabileceğini öne sürüyor. Bu konudaki görüşünüz nedir?"
   ]
  },
{
   "cell_type": "markdown",
   "id": "de10c461",
   "metadata": {},
   "source": [
    "R0'ı doğrudan büyüme oranından ve seri aralıktan tahmin edebileceğinizi unutmayın, \n",
    "Wallinga ve Lipsitch, Proc Biol Sci, 2007'de açıklanan formülü kullanarak: \n",
    "$$R_0 = \\frac{1}{\\int_{s=0}^{+\\infty}e^{-rs}w(s)ds}$$ , ve `epitrix` paketinin `r2R0` fonksiyonunda uygulanmıştır. Bu karmaşık bir formül gibi görünse de, arkasındaki mantık basittir ve aşağıdaki şekilde gösterilmiştir: gözlemlenen üssel olarak büyüyen bir insidans eğrisi için, \n",
    "seri aralığı biliyorsanız, üreme sayısını türetebilirsiniz. \n",
    "\n",
    "![Büyüme oranından ve seri aralıktan R0 tahmin etme.](../static/img/R0fromr.png)\n",
    "\n",
    "Yukarıdaki şekille karşılaştırıldığında, büyüme oranı r'de belirsizlik vardır ve seri aralık tek bir değer yerine tam bir dağılıma sahiptir. Bu, R'yi tahmin ederken aşağıdaki gibi hesaba katılabilir:"
   ]
  },
  {
   "cell_type": "code",
   "execution_count": null,
   "id": "51a83f63",
   "metadata": {
    "name": "R_from_growth_rate",
    "vscode": {
     "languageId": "r"
    }
   },
   "outputs": [],
   "source": [
    "# yukarıda tahmin ettiğimiz büyüme oranı ve seri aralıktan R0 tahminlerinin bir örneği oluştur \n",
    "R_sample_from_growth_rate <- lm2R0_sample(f$model, # büyüme oranı r tahminlerimizi içeren log-lineer model\n",
    "                                          si$d(1:100), # seri aralık dağılımı (100 gün sonra kesilmiş)\n",
    "                                          n = 1000) # istenen örnek boyutu\n",
    "# bunları çiz:\n",
    "hist(R_sample_from_growth_rate)\n",
    "# medyan nedir?\n",
    "R_median_from_growth_rate <- median(R_sample_from_growth_rate)\n",
    "R_median_from_growth_rate # R_median ile karşılaştır\n",
    "# %95GA nedir?\n",
    "R_CI_from_growth_rate <- quantile(R_sample_from_growth_rate, c(0.025, 0.975))\n",
    "R_CI_from_growth_rate # R_CrI ile karşılaştır"
   ]
  },
  {
   "cell_type": "markdown",
   "id": "a37c078d",
   "metadata": {},
   "source": [
    "Yukarıdaki tahminlerin dallanma süreci modeli kullanılarak elde edilenlerden biraz farklı olduğuna dikkat edin. \n",
    "Bunun birkaç nedeni vardır. \n",
    "İlk olarak, dallanma süreci (EpiEstim) tahmini için daha ayrıntılı veriler (haftalık vs günlük insidans) kullandınız. \n",
    "Ayrıca, log-lineer model tüm veri noktalarına aynı ağırlığı verirken, dallanma süreci modeli her veri noktasına farklı ağırlık verir (her zaman adımında gözlemlenen insidansa bağlı olarak). \n",
    "Bu, biraz farklı R tahminlerine yol açabilir. \n",
    "\n",
    "## Kısa vadeli insidans öngörüsü  \n",
    "\n",
    "`projections` paketindeki `project` fonksiyonu, `EpiEstim`'de `$R$`'yi tahmin etmek için kullanılan aynı dallanma sürecini kullanarak günlük insidansı simüle ederek makul salgın yörüngelerini simüle etmek için kullanılabilir. Tek ihtiyaç duyulan bir veya birkaç `$R$` değeri ve `distcrete` nesnesi olarak saklanan bir seri aralık dağılımıdır.  \n",
    "\n",
    "Burada, önce yukarıdan R'nin medyan tahmini olan sabit bir `$R$` = `r signif(R_median, 3)` değerini kullanarak 5 rastgele yörüngeyi nasıl simüle edebileceğimizi gösteriyoruz.  \n",
    "Gelecekteki insidansı simüle etmek için yukarıdaki aynı günlük kesilmiş insidans nesnesini kullanın.  "
   ]
  },
  {
   "cell_type": "code",
   "execution_count": null,
   "id": "a0b4d8c2",
   "metadata": {
    "name": "projections",
    "vscode": {
     "languageId": "r"
    }
   },
   "outputs": [],
   "source": [
    "#?project\n",
    "small_proj <- project(i_daily_trunc,# insidans nesnesi \n",
    "                      R = R_median, # kullanılacak R tahmini\n",
    "                      si = si,      # seri aralık dağılımı\n",
    "                      n_sim = 5,    # 5 yörünge simüle et\n",
    "                      n_days = 10,  # 10 gün boyunca\n",
    "                      R_fix_within = TRUE) # her gün aynı R değerini koru\n",
    "\n",
    "# her öngörülen yörüngeye bak (sütunlar olarak):\n",
    "as.matrix(small_proj)"
   ]
  },
  {
   "cell_type": "markdown",
   "id": "6a3d500d",
   "metadata": {},
   "source": [
    "Aynı prensibi kullanarak, makul `$R$` değerleri aralığını kullanarak önümüzdeki 2 hafta için 1.000 yörünge oluşturun.  \n",
    "R'nin posterior dağılımı gamma dağılımlıdır (Cori ve ark. AJE 2013'e bakın) bu nedenle bu dağılımdan rastgele değerler çekmek için `rgamma` fonksiyonunu kullanabilirsiniz. Aşağıda gösterildiği gibi `epitrix` paketindeki `gamma_mucv2shapescale` fonksiyonunu da kullanmanız gerekecektir.  "
   ]
  },
  {
   "cell_type": "code",
   "execution_count": null,
   "id": "2067c7d2",
   "metadata": {
    "name": "sampling_posterior_R",
    "vscode": {
     "languageId": "r"
    }
   },
   "outputs": [],
   "source": [
    "\n",
    "sample_R <- function(R, n_sim = 1000)\n",
    "{\n",
    "  mu <- R$R$`Mean(R)`\n",
    "  sigma <- R$R$`Std(R)`\n",
    "  Rshapescale <- gamma_mucv2shapescale(mu = mu, cv = sigma / mu)\n",
    "  R_sample <- rgamma(n_sim, shape = Rshapescale$shape, scale = Rshapescale$scale)\n",
    "  return(R_sample)\n",
    "}\n",
    "\n",
    "R_sample <- sample_R(R, 1000) # posterior dağılımdan 1000 R değeri örnekle\n",
    "hist(R_sample, col = \"grey\")  # örneğin histogramını çiz\n",
    "abline(v = R_median, col = \"red\") # tahmin edilen medyan R'yi kırmızı düz dikey çizgi olarak göster\n",
    "abline(v = R_CrI, col = \"red\", lty = 2) # R'nin %95CrI'sını kırmızı kesikli dikey çizgiler olarak göster"
   ]
  },
  {
   "cell_type": "markdown",
   "id": "a45a5533",
   "metadata": {},
   "source": [
    "Yeni projeksiyonlarınızın sonuçlarını `proj` adlı bir nesnede saklayın."
   ]
  },
  {
   "cell_type": "code",
   "execution_count": null,
   "id": "ae52ca43",
   "metadata": {
    "echo": "#R_CODE#params$full_version",
    "name": "projections2",
    "vscode": {
     "languageId": "r"
    }
   },
   "outputs": [],
   "source": [
    "proj <- project(x = i_daily_trunc, \n",
    "                R = R_sample, # şimdi R değerlerinin bir örneğini kullanıyor\n",
    "                si = si, \n",
    "                n_sim = 1000, \n",
    "                n_days = 14, # 2 hafta boyunca öngör\n",
    "                R_fix_within = TRUE)\n"
   ]
  },
  {
   "cell_type": "markdown",
   "id": "ea1e801c",
   "metadata": {},
   "source": [
    "Projeksiyonları şu şekilde görselleştirebilirsiniz:  "
   ]
  },
  {
   "cell_type": "code",
   "execution_count": null,
   "id": "c0cc1781",
   "metadata": {
    "name": "plot_projections",
    "vscode": {
     "languageId": "r"
    }
   },
   "outputs": [],
   "source": [
    "plot(i_daily_trunc) %>% add_projections(proj, c(0.025, 0.5, 0.975))"
   ]
  },
  {
   "cell_type": "markdown",
   "id": "a3e371d2",
   "metadata": {},
   "source": [
    "Projeksiyonların aşağıdaki özetini nasıl yorumlarsınız?  "
   ]
  },
  {
   "cell_type": "code",
   "execution_count": null,
   "id": "56902800",
   "metadata": {
    "name": "interpret_results",
    "vscode": {
     "languageId": "r"
    }
   },
   "outputs": [],
   "source": [
    "apply(proj, 1, summary)\n",
    "apply(proj, 1, function(x) mean(x > 0)) # her belirtilen günde en az \n",
    "                                        # bir vakası olan yörüngelerin oranı\n",
    "\n",
    "apply(proj, 1, mean) # günlük ortalama vaka sayısı \n",
    "\n",
    "apply(apply(proj, 2, cumsum), 1, summary) # önümüzdeki iki haftada öngörülen \n",
    "                                          # kümülatif vaka sayısı"
   ]
  },
  {
   "cell_type": "markdown",
   "id": "f3e6adf1",
   "metadata": {},
   "source": [
    "Bu sonuçlara göre, yakın gelecekte daha fazla vakanın ortaya çıkma şansı nedir? Bu salgın kontrol altına alınıyor mu? Müdahaleyi büyütmeyi / küçültmeyi önerir misiniz? Bu, $$R$$ tahmininizle tutarlı mı?\n",
    " "
   ]
  },
  {
   "cell_type": "markdown",
   "id": "f093913d",
   "metadata": {},
   "source": [
    "## Dur!\n",
    "\n",
    "Daha ileri gitmeden önce bu noktaya ulaştığınızda lütfen bir gösterici kişiye haber verin. \n",
    "\n",
    "## Üreme sayısını tahmin ederken seri aralık tahminlerindeki belirsizliği hesaba katma\n",
    "\n",
    "Bu bölümün aşağıdaki bölümlerden bağımsız olduğunu unutmayın, zamanınız yoksa atlayın. \n",
    "\n",
    "EpiEstim, bulaştıran/bulaşan birey çiftlerinin sınırlı örnek boyutu nedeniyle seri aralık tahminlerindeki belirsizliği açıkça hesaba katmaya izin verir. Ayrıca bu çiftlerin her biri için semptom başlangıcı tarihlerindeki belirsizliği hesaba katmaya da izin verdiğini unutmayın (burada gerekli değildir). \n",
    "\n",
    "`estimate_R`'de `method = \"si_from_data\"` seçeneğini kullanın. \n",
    "Bu seçeneği kullanmak için 4 sütunlu bir veri çerçevesi oluşturmanız gerekir: \n",
    "`EL`, `ER`, `SL` ve `SR` bulaştıran (E) ve bulaşan (S ikincil için) vakalarda gözlemlenen semptom zamanının sol (L) ve sağ (R) sınırları için. Burada bunu `si_obs`'tan şu şekilde türetiyoruz:"
   ]
  },
  {
   "cell_type": "code",
   "execution_count": null,
   "id": "1a2ca13c",
   "metadata": {
    "name": "si_data",
    "vscode": {
     "languageId": "r"
    }
   },
   "outputs": [],
   "source": [
    "si_data <- data.frame(EL = rep(0L, length(si_obs)), \n",
    "                      ER = rep(1L, length(si_obs)), \n",
    "                      SL = si_obs, SR = si_obs + 1L)"
   ]
  },
  {
   "cell_type": "markdown",
   "id": "44bd9d07",
   "metadata": {},
   "source": [
    "Daha sonra bunu `estimate_R`'ye besleyebiliriz (ancak MCMC kullanarak seri aralık dağılımını tahmin ettiği ve üreme sayısını tahmin etmek için seri aralıktaki belirsizliği tam olarak hesaba kattığı için çalışması biraz zaman alacaktır)."
   ]
  },
  {
   "cell_type": "code",
   "execution_count": null,
   "id": "4cd9336a",
   "metadata": {
    "cache": true,
    "name": "R_variableSI",
    "vscode": {
     "languageId": "r"
    },
    "warning": false
   },
   "outputs": [],
   "source": [
    "config <- make_config(t_start = 2, \n",
    "                      t_end = length(i_daily_trunc$counts))\n",
    "R_variableSI <- estimate_R(i_daily_trunc, method = \"si_from_data\", \n",
    "                           si_data = si_data,\n",
    "                           config = config)\n",
    "# MCMC'nin yakınsadığını kontrol etme: \n",
    "R_variableSI$MCMC_converged\n",
    "# ve çıktıyı çizme:\n",
    "plot(R_variableSI)"
   ]
  },
  {
   "cell_type": "markdown",
   "id": "642cbd9d",
   "metadata": {},
   "source": [
    "Yeni medyan tahmin edilen R ve %95CrI'ye bakın: önceki tahminlerinizden ne kadar farklı? Temaslar veri setinin boyutunun sonuçlarınız üzerinde etkisi olduğunu düşünüyor musunuz? "
   ]
  },
  {
   "cell_type": "code",
   "execution_count": null,
   "id": "2cbadae9",
   "metadata": {
    "name": "summary_R_variableSI",
    "vscode": {
     "languageId": "r"
    }
   },
   "outputs": [],
   "source": [
    "R_variableSI_median <- R_variableSI$R$`Median(R)`\n",
    "R_variableSI_CrI <- c(R_variableSI$R$`Quantile.0.025(R)`, R_variableSI$R$`Quantile.0.975(R)`)\n",
    "R_variableSI_median\n",
    "R_variableSI_CrI"
   ]
  },
  {
   "cell_type": "markdown",
   "id": "1e975cbc",
   "metadata": {},
   "source": [
    "## Zamana göre değişen bulaştırıcılığı tahmin etme  \n",
    "\n",
    "($$R$$)'nin zaman içinde sabit olduğu varsayımı sürdürülemez hale geldiğinde, bir alternatif anlık üreme sayısını ($$R_t$$) kullanarak zamana göre değişen bulaştırıcılığı tahmin etmektir. Cori ve ark. (2013) tarafından tanıtılan bu yaklaşım, `EpiEstim` paketinde de uygulanmıştır. Yukarıda açıklanan aynı Poisson olabilirliği kullanarak özel zaman pencereleri için (varsayılan, ardışık kayan zaman pencerelerinin bir dizisidir) ($$R_t$$) tahmin eder. Aşağıda, 1 haftalık kayan zaman pencereleri için bulaştırıcılığı tahmin ediyoruz (`estimate_R`'nin varsayılanı):  "
   ]
  },
  {
   "cell_type": "code",
   "execution_count": null,
   "id": "dea0dfae",
   "metadata": {
    "name": "config_Rt",
    "vscode": {
     "languageId": "r"
    }
   },
   "outputs": [],
   "source": [
    "config = make_config(list(mean_si = si_fit$mu, std_si = si_fit$sd))  \n",
    "# t_start ve t_end varsayılan olarak 1 haftalık kayan pencereler üzerinde R tahmin etmek için otomatik olarak ayarlanır. "
   ]
  },
  {
   "cell_type": "code",
   "execution_count": null,
   "id": "dda016b3",
   "metadata": {
    "echo": "#R_CODE#params$full_version",
    "name": "timevarying_r",
    "vscode": {
     "languageId": "r"
    },
    "warning": false
   },
   "outputs": [],
   "source": [
    "Rt <- estimate_R(incid = i_daily_trunc,      # insidans nesnesi\n",
    "                 method = \"parametric_si\",   # parametrik seri aralık kullan\n",
    "                 config = config)            # yukarıda belirtilen yapılandırma\n",
    "\n",
    "# en son Rt tahminlerine bak:\n",
    "tail(Rt$R[, c(\"t_start\", \"t_end\", \"Median(R)\", \n",
    "             \"Quantile.0.025(R)\", \"Quantile.0.975(R)\")])"
   ]
  },
  {
   "cell_type": "markdown",
   "id": "749d48f6",
   "metadata": {
    "lines_to_next_cell": 0
   },
   "source": [
    "Zaman içinde `$R$` tahminini çizin:"
   ]
  },
  {
   "cell_type": "code",
   "execution_count": null,
   "id": "75b4058d",
   "metadata": {
    "name": "new_EpiEstim",
    "vscode": {
     "languageId": "r"
    },
    "warnings": false
   },
   "outputs": [],
   "source": [
    "plot(Rt, legend = FALSE)"
   ]
  },
  {
   "cell_type": "markdown",
   "id": "d85ea984",
   "metadata": {},
   "source": [
    "Bu sonucu nasıl yorumlarsınız? Bu gösterimin uyarısı nedir?\n",
    "\n",
    "Yukarıdaki gibi `i_daily_trunc` kullanmak yerine tüm salgın eğrisini yani `i_daily`'yi kullanmış olsaydınız ne sonuca varırdınız? "
   ]
  },
  {
   "cell_type": "code",
   "execution_count": null,
   "id": "551fb52d",
   "metadata": {
    "echo": "#R_CODE#params$full_version",
    "name": "timevarying_r_whole_incid",
    "vscode": {
     "languageId": "r"
    }
   },
   "outputs": [],
   "source": [
    "Rt_whole_incid <- estimate_R(incid = i_daily, \n",
    "                             method = \"parametric_si\", \n",
    "                             config = config) \n",
    "\n",
    "tail(Rt_whole_incid$R[, c(\"t_start\", \"t_end\", \n",
    "                         \"Median(R)\", \"Quantile.0.025(R)\", \"Quantile.0.975(R)\")])  \n",
    "# yukarıdaki yanlış olarak son bulaştırıcılığın <1 olduğunu çıkarır"
   ]
  },
  {
   "cell_type": "code",
   "execution_count": null,
   "id": "ff75d5e2",
   "metadata": {
    "eval": "#R_CODE#params$full_version",
    "name": "Rt_plot",
    "results": "#R_CODE#render_snippet",
    "tags": [
     "remove_input"
    ],
    "vscode": {
     "languageId": "r"
    }
   },
   "outputs": [],
   "source": [
    "cat(\"- yukarıdaki kayan zaman penceresi içinde sabit R varsayar\")  \n"
   ]
  }
 ],
 "metadata": {
  "jupytext": {
   "cell_metadata_filter": "cache,echo,warning,name,warnings,results,tags,eval,-all",
   "main_language": "R",
   "notebook_metadata_filter": "-all"
  },
  "kernelspec": {
   "display_name": "R",
   "language": "R",
   "name": "ir"
  },
  "language_info": {
   "codemirror_mode": "r",
   "file_extension": ".r",
   "mimetype": "text/x-r-source",
   "name": "R",
   "pygments_lexer": "r",
   "version": "4.3.2"
  }
 },
 "nbformat": 4,
 "nbformat_minor": 5
}
