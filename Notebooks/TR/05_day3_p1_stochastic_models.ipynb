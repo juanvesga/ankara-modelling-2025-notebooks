{
 "cells": [
  {
   "cell_type": "markdown",
   "id": "d0b995ed",
   "metadata": {},
   "source": [
    "# Gün 3 bölüm 1: Stokastik modeller "
   ]
  },
  {
   "cell_type": "markdown",
   "id": "0bffe2c7",
   "metadata": {},
   "source": [
    "<div style=\"background: #f8f9fa; padding: 0.5rem 1rem; border-radius: 8px; margin-bottom: 1rem; border-left: 4px solid #007bff;\">\n",
    "<a href=\"../../index.ipynb\" style=\"text-decoration: none; color: #007bff; font-weight: bold;\">← Kurs İndeksine Geri Dön</a> | \n",
    "<a href=\"../../index-tr.ipynb\" style=\"text-decoration: none; color: #dc3545; font-weight: bold;\">🇹🇷 Türkçe İndeks</a>\n",
    "</div>\n",
    "\n",
    "---"
   ]
  },
  {
   "cell_type": "markdown",
   "id": "39a36412",
   "metadata": {},
   "source": [
    "Bu uygulamada stokastisite, salgın kalıcılığı ve sönme olasılığı hakkındaki bazı kavramları uygulayacağız. Bu amacı göz önünde bulundurarak binomial dağılımı ve R'de bir dağılımdan nasıl örneklem alabileceğimizi keşfederek başlayacağız.\n",
    "\n",
    "## Neden binomial dağılıma ihtiyacımız var?\n",
    "\n",
    "İstatistik ve olasılık teorisinde, belirli olay özelliklerini bir istatistiksel dağılımla ilişkilendirme eğilimindeyiz. Örneğin, popülasyon vücut ağırlığının Normal dağılımı takip ettiğini güvenle söyleyebiliriz. Normal dağılım süreklidir (ağırlığınız 74Kg veya 74.37kg olabilir ve dağılımın parçası olabilir) ve merkezi ölçü ile verinin yayılımını yansıtan ortalama ve standart sapma ile tanımlanır. Örneğin:\n",
    "\n",
    "$$\n",
    "Ağırlık \\sim Normal(72.5,5)  \n",
    "$$"
   ]
  },
  {
   "cell_type": "code",
   "execution_count": null,
   "id": "e5f31865",
   "metadata": {
    "tags": [
     "remove_input"
    ]
   },
   "outputs": [],
   "source": [
    "x <- seq(40, 110, by = .5)\n",
    "\n",
    "y <- dnorm(x, mean = 72, sd = 5)\n",
    "\n",
    "plot(x,y,type = \"l\", xlab = \"Ağırlık (kg)\", ylab = \"Olasılık\")\n",
    "lines(c(72,72),c(0,max(y)),col=\"red\")\n"
   ]
  },
  {
   "cell_type": "markdown",
   "id": "34f5c807",
   "metadata": {},
   "source": [
    "Öte yandan Binomial dağılım, bir dizi deneydeki başarı sayısının ayrık olasılık dağılımıdır. Bir madeni parayı birkaç kez atıp sonuç olarak kaç kez yazı tura atacağınızı saymayı düşünün. Binomial dağılım *n* (deneme sayısı) ve *p* (başarı olasılığı) parametrelerini alır. Madeni para atma örneğimizle devam edersek, madeni para adaletli ise başarı (tura alma) olasılığının %50 olduğunu söyleyebiliriz. Bu, madeni parayı yeterince atarsak başarı sayısının %50'ye yaklaşması gerektiği anlamına gelir.\n",
    "\n",
    "Önemli olarak, 1 denemeli binomial deneylerden (madeni parayı sadece bir kez atmak) bahsettiğimizde *Bernoulli* denemelerinden bahsederiz. 1'den büyük denemeler için binomial dağılımdan bahsederiz.\n",
    "\n",
    "R kullanarak bunu deneyelim. R'de, temel fonksiyon *rbinom* bu tür deneyleri hesaplamak için kullanılır. *rbinom*, gözlem sayısı için *n*, deneme sayısı için *size* ve başarı olasılığı için *prob* parametrelerini alır. Aşağıdaki kodu çalıştırın:"
   ]
  },
  {
   "cell_type": "code",
   "execution_count": null,
   "id": "1c707032",
   "metadata": {
    "echo": true
   },
   "outputs": [],
   "source": [
    "# Madeni parayı bir kez atalım (Bernoulli)\n",
    "rbinom(n=1,size=1,prob=0.5)\n",
    "\n",
    "# Şimdi 100 deneme yapalım\n",
    "rbinom(n=1,size=100,prob=0.5)"
   ]
  },
  {
   "cell_type": "markdown",
   "id": "ae8b28c2",
   "metadata": {},
   "source": [
    "a)  Madeni parayı 100 kez attığınızda kaç başarı elde ettiniz?\n",
    "\n",
    "b)  Deneme sayınızı artırırsanız ne olur?\n",
    "\n",
    "Ancak bu kurs için daha alakalı bir vakayı inceleyelim. Artık binomial dağılımı bildiğinize göre, binomial olasılığın enfeksiyon bulaşması süreciyle nasıl alakalı olduğunu görebilirsiniz. Şimdiye kadar önceki derslerimizde bulaşmanın en az üç faktöre bağlı olduğunu öğrendik:\n",
    "\n",
    "Bulaşma olasılığı $$\\beta $$, enfeksiyon yaygınlığı $$\\frac{I}{N} $$ ve bulaştırıcılık döneminin süresi $$D $$.\n",
    "\n",
    "Daha önce incelediğimiz gibi, herhangi bir zamandaki yeni enfeksiyon sayısı (*Y*) şu şekilde tanımlanabilir: $$\n",
    "Y = S\\frac{\\beta I}{N}\n",
    "$$ Burada *S* duyarlı birey sayısıdır. Deterministik bir bakış açısından, değişkenlerimiz ve parametrelerimiz aynı olduğu sürece, bu her zaman aynı sayıyı üretecektir. Ancak daha önce öğrendiğimiz gibi, enfeksiyon süreci rastgelelik içerir.\n",
    "\n",
    "*Binomial* denemelerini geri getirmek için, enfeksiyon sürecimizi bu çerçeveye nasıl sığdırabileceğimizi görebiliriz. Belirli bir noktada, enfeksiyon yaygınlığı diyelim ki %10 ise ve *beta* = 0.2 olduğunu biliyorsak, enfeksiyon olasılığının 0.1 x 0.2 olduğunu söyleyebiliriz. Bu dağılımdaki deneme sayısı duyarlı sayıdır. Stokastik olayları hesaba katarak enfeksiyon sayısını tahmin etmek için aşağıdaki kodu uyarlamaya çalışın:"
   ]
  },
  {
   "cell_type": "code",
   "execution_count": null,
   "id": "2e50ff07",
   "metadata": {
    "eval": false,
    "include": true
   },
   "outputs": [],
   "source": [
    "# Parametrelerimizi tanımla\n",
    "R0 <- 2     # Temel üreme sayısı\n",
    "gamma<- 0.1 # iyileşme oranı\n",
    "beta<-  ?? # <- R0 formülünden beta'yı çıkarabilir misin?\n",
    "prevalence <- 0.1 # Enfeksiyon yaygınlığı (I/N)\n",
    "S <- 1000 # t zamanında duyarlı bireyler  \n",
    "\n",
    "n_trials <- ? \n",
    "probability_of_infection<- ?  \n",
    "\n",
    "# Yeni enfeksiyon sayısı Y'yi tahmin etmek için binomial dağılımdan çek \n",
    "Y<-rbinom(n=1,size= n_trials ,prob=probability_of_infection)  \n"
   ]
  },
  {
   "cell_type": "markdown",
   "id": "82591895",
   "metadata": {},
   "source": [
    "Artık enfeksiyon sürecindeki stokastisite nasıl basit R komutlarıyla ifade edilebileceği hakkında daha iyi bir fikrimiz olduğuna göre, stokastik bir model formüle etmeyi deneyelim.\n",
    "\n",
    "### *Teknik Parantez:*\n",
    "\n",
    "Stokastik model R'de farklı yaklaşımlarla kodlanabilir. *Odin* adında bir paket kullanacağız. Bu amaç için diğer paketler veya hatta temel R kullanılabilir, ancak *Odin*'in bize ayrık stokastik sürecin yapısının çok düzgün bir görünümünü verdiğine inanıyorum (Odin paketi hakkında daha fazla bilgi için [buraya](https://mrc-ide.github.io/odin/index.html) bakın). "
   ]
  },
  {
   "cell_type": "markdown",
   "id": "2f664e9a",
   "metadata": {},
   "source": [
    "## Stokastik model formüle etmek\n",
    "\n",
    "Toplumunuzda yeni bir viral hastalık (\"X\" hastalığı) tanımlandı. Şimdiye kadar toplanan sürveyans verilerinden birkaç parametre tahmin edildi. Başlangıç R0'ı ~ 2 olarak tahmin edildi ve semptomların başlangıcından iyileşmeye kadar geçen sürenin ortalaması 8 gündür. \"X\" hastalığının önceki salgınlarında enfeksiyonla kazanılan bağışıklığın medyan ömrünün 3 ay olduğu da kaydedilmiştir.\n",
    "\n",
    "Aşağıdaki kod bir SIR stokastik model tanımlar. 1. Boşlukları (*??* sembolü ile işaretlenmiş) doldurmaya çalışın ve stokastik olayların enfeksiyon sürecine nasıl dahil edildiğine dikkat edin:"
   ]
  },
  {
   "cell_type": "code",
   "execution_count": null,
   "id": "78e83162",
   "metadata": {
    "eval": false,
    "include": true
   },
   "outputs": [],
   "source": [
    "\n",
    "library(odin)\n",
    "library(ggplot2)\n",
    "library(reshape2)\n",
    "\n",
    "sir_generator <- odin::odin({\n",
    "  ## Bölmeler arası geçişler için temel denklemler:\n",
    "  update(S) <- S - n_SI + n_RS # Duyarlı\n",
    "  update(I) <- I + n_SI - n_IR # Bulaştırıcı\n",
    "  update(R) <- R + n_IR - n_RS # İyileşmiş\n",
    "  \n",
    "  ## Bireysel geçiş olasılıkları:\n",
    "  p_SI <- 1 - exp(-beta * I / N) # S'den I'ye\n",
    "  p_IR <- 1 - exp(-gamma)        # I'den R'ye\n",
    "  p_RS <- 1 - exp(-delta)        # R'den S'ye\n",
    "  \n",
    "  ## Bölmeler arası değişen sayıları tanımlamak için binomial dağılımlardan çek:\n",
    "  n_SI <- rbinom(S, p_SI) # Yeni enfeksiyonlar\n",
    "  n_IR <- rbinom(I, p_IR) # Yeni iyileşenler \n",
    "  n_RS <- rbinom(R, p_RS) # Yeni bağışıklığını kaybedenler \n",
    "  \n",
    "  ## Toplam popülasyon büyüklüğü\n",
    "  N <- S + I + R\n",
    "  \n",
    "  # Beta'yı R0 terimleriyle tanımla\n",
    "  beta <- ?? #<------------------------- Beta'yı R0 terimleriyle tanımlayabilir misin? \n",
    "  \n",
    "  ## Başlangıç durumları:\n",
    "  initial(S) <- S_ini\n",
    "  initial(I) <- I_ini\n",
    "  initial(R) <- 0\n",
    "  \n",
    "  ## Kullanıcı tanımlı parametreler - parantez içinde varsayılan:\n",
    "  S_ini <- user()\n",
    "  I_ini <- user()\n",
    "  R0    <- user()\n",
    "  gamma <- user()\n",
    "  delta <- user()\n",
    "  \n",
    "}, verbose = FALSE)\n"
   ]
  },
  {
   "cell_type": "markdown",
   "id": "568d3dc4",
   "metadata": {},
   "source": [
    "Soru işaretleriyle boşlukları doldurduysanız, şimdi,\n",
    "\n",
    "2.  Model parametrelerini tanımlayın ve sonuçları görmek için modelinizi çalıştırın."
   ]
  },
  {
   "cell_type": "code",
   "execution_count": null,
   "id": "927df02c",
   "metadata": {
    "eval": false,
    "tags": [
     "remove_cell"
    ]
   },
   "outputs": [],
   "source": [
    "\n",
    "sir_generator <- odin::odin({\n",
    "  ## Bölmeler arası geçişler için temel denklemler:\n",
    "  update(S) <- S - n_SI + n_RS # Duyarlı\n",
    "  update(I) <- I + n_SI - n_IR # Bulaştırıcı\n",
    "  update(R) <- R + n_IR - n_RS # İyileşmiş\n",
    "  \n",
    "  ## Bireysel geçiş olasılıkları:\n",
    "  p_SI <- 1 - exp(-beta * I / N) # S'den I'ye\n",
    "  p_IR <- 1 - exp(-gamma)        # I'den R'ye\n",
    "  p_RS <- 1 - exp(-delta)        # R'den S'ye\n",
    "  \n",
    "  ## Bölmeler arası değişen sayıları tanımlamak için binomial dağılımlardan çek:\n",
    "  n_SI <- rbinom(S, p_SI) # Yeni enfeksiyonlar\n",
    "  n_IR <- rbinom(I, p_IR) # Yeni iyileşenler \n",
    "  n_RS <- rbinom(R, p_RS) # Yeni bağışıklığını kaybedenler \n",
    "  \n",
    "  ## Toplam popülasyon büyüklüğü\n",
    "  N <- S + I + R\n",
    "  \n",
    "  # Beta'yı R0 terimleriyle tanımla\n",
    "  beta <- R0*gamma # Beta'yı R0 terimleriyle tanımlayabilir misin? \n",
    "  \n",
    "  ## Başlangıç durumları:\n",
    "  initial(S) <- S_ini\n",
    "  initial(I) <- I_ini\n",
    "  initial(R) <- 0\n",
    "  \n",
    "  ## Kullanıcı tanımlı parametreler - parantez içinde varsayılan:\n",
    "  S_ini <- user()\n",
    "  I_ini <- user()\n",
    "  R0    <- user()\n",
    "  gamma <- user()\n",
    "  delta <- user()\n",
    "  \n",
    "}, verbose = FALSE)\n"
   ]
  },
  {
   "cell_type": "code",
   "execution_count": null,
   "id": "fcdd38dd",
   "metadata": {
    "eval": false,
    "include": true
   },
   "outputs": [],
   "source": [
    "# Parametreleri tanımla \n",
    "R0   <- ?? # R0\n",
    "gamma<- ?? # iyileşme oranı\n",
    "delta<- ?? # Bağışıklık kaybı oranı \n",
    "S0   <- 1000 # 0 zamanında duyarlı popülasyon\n",
    "I0   <- 1    # 0 zamanında bulaştırıcı popülasyon\n",
    "\n",
    "    \n",
    "# Tanımlanan parametrelerle \"sir\" model nesnesi oluştur   \n",
    "sir <- sir_generator$new(\n",
    "  S_ini = S0,\n",
    "  I_ini = I0,\n",
    "  R0    = R0,\n",
    "  gamma = gamma,\n",
    "  delta = delta)\n",
    "\n",
    "# Rastgele sayı üretimi için seed ayarla (R standardı)\n",
    "set.seed(1)\n",
    "\n",
    "# SIR modelimizi iki yıllık bir dönem için çalıştır (gün adımlarında)\n",
    "t_end<- 365 * 2\n",
    "sir_res <- sir$run(0:t_end)\n",
    "\n",
    "# Model çıktısına bir bakış at \n",
    "\n",
    "head(sir_res)\n",
    "\n",
    "\n",
    "# Modelimizi çizdir\n",
    "\n",
    "sir_col <- c(\"Navyblue\", \"orangered2\", \"darkgreen\") # Çizim renkleri\n",
    "\n",
    "days <- sir_res[, 1] # çizimimiz için zaman vektörünü tanımla \n",
    "\n",
    "matplot(days, sir_res[, -1], xlab = \"Günler\", ylab = \"Birey sayısı\",\n",
    "        type = \"l\", col = sir_col, lty = 1)\n",
    "legend(\"topright\", lwd = 1, col = sir_col, legend = c(\"S\", \"I\", \"R\"), bty = \"n\")\n"
   ]
  },
  {
   "cell_type": "markdown",
   "id": "310a983a",
   "metadata": {},
   "source": [
    "Modelinizi çalıştırdıktan sonra şimdi bir çizim görmelisiniz."
   ]
  },
  {
   "cell_type": "code",
   "execution_count": null,
   "id": "028d33c4",
   "metadata": {
    "eval": false,
    "tags": [
     "remove_cell"
    ]
   },
   "outputs": [],
   "source": [
    "# Parametreleri tanımla \n",
    "R0   <- 2 # R0  \n",
    "gamma<- 1/8 # iyileşme oranı\n",
    "delta<- 1/90 # Bağışıklık kaybı oranı \n",
    "S0   <- 1000 # 0 zamanında duyarlı popülasyon\n",
    "I0   <- 1    # 0 zamanında bulaştırıcı popülasyon\n",
    "\n",
    "    \n",
    "# Tanımlanan parametrelerle \"sir\" model nesnesi oluştur   \n",
    "sir <- sir_generator$new(\n",
    "  S_ini = S0,\n",
    "  I_ini = I0,\n",
    "  R0    = R0,\n",
    "  gamma = gamma,\n",
    "  delta = delta)\n",
    "\n",
    "# Rastgele sayı üretimi için seed ayarla (R standardı)\n",
    "set.seed(1)\n",
    "\n",
    "# SIR modelimizi iki yıllık bir dönem için çalıştır (gün adımlarında)\n",
    "t_end<- 365 * 2\n",
    "sir_res <- sir$run(0:t_end)\n",
    "\n",
    "# Modelimizi çizdir\n",
    "\n",
    "sir_col <- c(\"Navyblue\", \"orangered2\", \"darkgreen\") # Çizim renkleri\n",
    "\n",
    "days <- sir_res[, 1] # çizimimiz için zaman vektörünü tanımla \n",
    "\n",
    "matplot(days, sir_res[, -1], xlab = \"Günler\", ylab = \"Birey sayısı\",\n",
    "        type = \"l\", col = sir_col, lty = 1)\n",
    "legend(\"topright\", lwd = 1, col = sir_col, legend = c(\"S\", \"I\", \"R\"), bty = \"n\")\n"
   ]
  },
  {
   "cell_type": "markdown",
   "id": "2585e7a4",
   "metadata": {},
   "source": [
    "Stokastik bir süreç sunduğumuz için her model çalıştırması farklı olacaktır. Sonuçların nasıl değiştiğini görmek için bu aynı kodu birkaç kez çalıştırmayı deneyin.\n",
    "\n",
    "Salgın kalıcılığı hakkındaki dersimizden, sönme olasılığının daha olası hale geldiği bir eşiği kabaca tahmin edebileceğimizi hatırlayabilirsiniz.\n",
    "\n",
    "3.  Aşağıdaki kodda bu eşiği tanımlamaya çalışın ve enfeksiyonlarınızı bu eşiğe karşı çizilmiş olarak görmek için modelinizi tekrar çizin"
   ]
  },
  {
   "cell_type": "code",
   "execution_count": null,
   "id": "0a67dc29",
   "metadata": {
    "eval": false,
    "include": true
   },
   "outputs": [],
   "source": [
    "# Bir eşik tanımla\n",
    "\n",
    "Y_limit <- ?? ### <------------- Boşluğu doldur \n",
    "  # İpucu: bunu popülasyon büyüklüğü açısından nasıl tanımlayacağınız için ders slaytlarına bakın\n",
    "\n",
    "# Modelimizi çizdir\n",
    "\n",
    "sir_col <- c(\"Navyblue\", \"orangered2\", \"darkgreen\") # Çizim renkleri\n",
    "\n",
    "days <- sir_res[, 1] # çizimimiz için zaman vektörünü tanımla \n",
    "\n",
    "matplot(days, sir_res[, 3], xlab = \"Günler\", ylab = \"Birey sayısı\",\n",
    "        type = \"l\", col = \"orangered2\", lty = 1)\n",
    "lines(c(0,365*2),c(Y_limit,Y_limit), col=\"black\")\n",
    "legend(\"topright\", lwd = 1, col = \"Orangered2\", legend = c(\"I\"), bty = \"n\")\n"
   ]
  },
  {
   "cell_type": "code",
   "execution_count": null,
   "id": "9716398d",
   "metadata": {
    "eval": false,
    "tags": [
     "remove_cell"
    ]
   },
   "outputs": [],
   "source": [
    "# Bir eşik tanımla\n",
    "\n",
    "Y_limit <- sqrt(1001) # İpucu ders slaytlarına bak \n",
    "\n",
    "# Modelimizi çizdir\n",
    "\n",
    "sir_col <- c(\"Navyblue\", \"orangered2\", \"darkgreen\") # Çizim renkleri\n",
    "\n",
    "days <- sir_res[, 1] # çizimimiz için zaman vektörünü tanımla \n",
    "\n",
    "matplot(days, sir_res[, 3], xlab = \"Günler\", ylab = \"Birey sayısı\",\n",
    "        type = \"l\", col = \"orangered2\", lty = 1)\n",
    "lines(c(0,365*2),c(Y_limit,Y_limit), col=\"black\")\n",
    "legend(\"topright\", lwd = 1, col = \"Orangered2\", legend = c(\"I\"), bty = \"n\")\n"
   ]
  },
  {
   "cell_type": "markdown",
   "id": "3f9d9947",
   "metadata": {},
   "source": [
    "4.  Zaman içinde enfeksiyonların trendi hakkında ne söyleyebilirsiniz?\n",
    "5.  Bu analizi R0 = 1.1 değeri ve R0 = 4 için yeniden üretmeyi deneyin. Ne gözlemliyorsunuz?\n",
    "6.  R0=2 kullanarak, ortalama 1 yıllık bağışıklık kaybını varsaymak için delta değerini değiştirebilir misiniz? Ne gözlemliyorsunuz ve böyle bir davranışı açıklayabilir misiniz?\n",
    "\n",
    "*odin* paketinin başka bir özelliğini kullanarak modelimizin birçok eşzamanlı gerçeklemesini aynı anda çalıştırabiliriz.\n",
    "\n",
    "7.  Aşağıdaki kodda modelimizi 100 kez çalıştıracağız ve sonuçlarını çizeceğiz"
   ]
  },
  {
   "cell_type": "code",
   "execution_count": null,
   "id": "7f66adc6",
   "metadata": {
    "eval": false,
    "include": true
   },
   "outputs": [],
   "source": [
    "# Model çalıştırmamızı 100 kez tekrarlamak için replicate kullan\n",
    "sir_100 <- sir$run(0:t_end, replicate = 100)\n",
    "# res_200 <- sir$transform_variables(res_200)\n",
    "# res_200 <- cbind.data.frame(t = res_200[[1]], res_200[-1])\n",
    "\n",
    "matplot(sir_100[, 1,],sir_100[, 3,], xlab = \"Günler\", ylab = \"Enfeksiyon sayısı\",\n",
    "        type = \"l\", lty = 1, col=\"grey\")\n",
    "lines(c(0,t_end),c(Y_limit,Y_limit),type=\"l\", col=\"red\") \n",
    "legend(\"topright\", lwd = 1, col = \"grey\", legend = c(\"I\"), bty = \"n\")\n"
   ]
  },
  {
   "cell_type": "markdown",
   "id": "e91f87f4",
   "metadata": {},
   "source": [
    "Aynı model için bir dizi tekrarlama veya simülasyonumuz olduğu için mevcut model parametreleri için salgın sönmesi olasılığını tahmin edebiliriz. Bunu, simülasyon zamanının sonunda bu Enfeksiyon yörüngesinden kaçının sıfıra eşit olduğuna bakarak yapabiliriz.\n",
    "\n",
    "8.  Sönme olasılığını tahmin etmek için aşağıdaki kodu kullanın.\n",
    "9.  Model parametrelerinizi R0=4.5'e ve sonra R0 = 1'e değiştirin ve bu değeri yeniden tahmin edin"
   ]
  },
  {
   "cell_type": "code",
   "execution_count": null,
   "id": "672d56d2",
   "metadata": {
    "eval": false,
    "include": true,
    "vscode": {
     "languageId": "r"
    }
   },
   "outputs": [],
   "source": [
     "# Burada p. sönme bulmak için kullanıcı tanımlı bir fonksiyon oluşturuyoruz\n",
    "prob_extinct<-function(results,t_end){\n",
    "  \n",
    "  n_extinct<-length(which(results[t_end,3,]==0)) # sıfırla biten simülasyonları bul\n",
    "  n_runs   <-length(results[1,1,])\n",
    "  \n",
    "  return(prob_extinction=n_extinct/n_runs) \n",
    "}\n",
    "\n",
    "# yeni tanımlanan fonksiyonu çağır, model sonuçları nesnemizi ve zaman uzunluğunu geç\n",
    "prob_extinct(sir_100,t_end)"
   ]
  }
 ],
 "metadata": {
  "jupytext": {
   "cell_metadata_filter": "name,include,tags,eval,echo,-all",
   "main_language": "R",
   "notebook_metadata_filter": "-all"
  },
  "language_info": {
   "name": "python"
  }
 },
 "nbformat": 4,
 "nbformat_minor": 5
}