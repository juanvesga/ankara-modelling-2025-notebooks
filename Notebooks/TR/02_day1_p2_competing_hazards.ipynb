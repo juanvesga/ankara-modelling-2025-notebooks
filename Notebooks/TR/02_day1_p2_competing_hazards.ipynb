{
 "cells": [
  {
   "cell_type": "markdown",
   "id": "2870d1ea",
   "metadata": {},
   "source": [
    "# 1. Gün bölüm 2: Rekabet eden tehlikeli basit kompartman modelinin gösterimi"
   ]
  },
  {
   "cell_type": "markdown",
   "id": "7c21a16c",
   "metadata": {},
   "source": [
    "<div style=\"background: #f8f9fa; padding: 0.5rem 1rem; border-radius: 8px; margin-bottom: 1rem; border-left: 4px solid #007bff;\">\n",
    "<a href=\"../../index-tr.ipynb\" style=\"text-decoration: none; color: #007bff; font-weight: bold;\">← Kurs Ana Sayfasına Dön</a> | \n",
    "<a href=\"../../index.ipynb\" style=\"text-decoration: none; color: #dc3545; font-weight: bold;\">🇬🇧 English Index</a>\n",
    "</div>\n",
    "\n",
    "---"
   ]
  },
  {
   "cell_type": "markdown",
   "id": "d6b5f014",
   "metadata": {},
   "source": [
    "## 1. Rekabet eden tehlikeler\n",
    "\n",
    "Artık modelimize sahip olduğumuz için daha fazla kompartman inceleyerek ve rekabet eden tehlikeler durumunu ele alarak karmaşıklık ekleyebiliriz. Bir sonraki egzersizde, enfekte bireylerde ölüm olasılığını tanımlamak için I'dan çıkan bir mortalite kompartmanı eklemek istiyoruz.\n",
    "\n",
    "Sonraki adımlar için, modellediğimiz hastalık için CFR'ın %30 olduğunu öneren bilgiler topladığımızı hayal edin. Bu bilgiyi ve incelediğimiz kavramları kullanarak yeni bir M kompartmanı eklemeye, mu mortalite oranını belirlemeye ve modeli çalıştırmaya çalışın.\n",
    "\n",
    "Aşağıdaki betikteki eksik boşlukları doldurmaya çalışın:"
   ]
  },
  {
   "cell_type": "code",
   "execution_count": null,
   "id": "b95ee1c0",
   "metadata": {
    "eval": false,
    "include": true,
    "vscode": {
     "languageId": "r"
    },
    "warning": false
   },
   "outputs": [],
   "source": [
    "# Bazı yararlı paketleri yükle:\n",
    "library(deSolve)  # Diferansiyel denklemleri çözmek için \n",
    "library(reshape2) # Model çıktısını manipüle etmek için\n",
    "library(ggplot2)  # Güzel grafikler üretmek için!\n",
    "library(here)     # Her zaman çalışma dizinimizde olduğumuzdan emin olmak için\n",
    "\n",
    "## Kohort modelimize mortalite ekle \n",
    "\n",
    "# Popülasyon büyüklüğü:\n",
    "N <- 1000\n",
    "\n",
    "# MODEL GİRDİLERİ:\n",
    "\n",
    "# Başlangıç koşulları\n",
    "initial_state_values <- c(\n",
    "  I = N,\n",
    "  M = ?,  # <----------------- Boşluğu doldur\n",
    "  R = 0)           \n",
    "\n",
    "# Günlük parametre değerleri\n",
    "\n",
    "# %30'luk bir CFR için mu nedir? \n",
    "\n",
    "mu= ?    # <----------------- Boşluğu doldur\n",
    "\n",
    "parameters <- c(gamma = 1/2, mu)\n",
    "\n",
    "# ZAMAN ADIMLARI:\n",
    "\n",
    "# Modeli çözmek için zaman adımları dizisini saklayan vektör\n",
    "times <- seq(from = 0, to = 50, by = 1)   # 0'dan 365 güne kadar günlük aralıklarla\n",
    "\n",
    "# MODEL FONKSİYONU: \n",
    "\n",
    "# Model fonksiyonu girdi argümanları olarak (şu sırayla): zaman, durum ve parametreleri alır\n",
    "cohort_model2 <- function(time, state, parameters) {  \n",
    "  \n",
    "  with(as.list(c(state, parameters)), {     \n",
    "    \n",
    "    # Toplam popülasyon büyüklüğü N'yi hesaplama (her kompartmandaki kişi sayısının toplamı)\n",
    "    N <- I+R\n",
    "    \n",
    "    # Diferansiyel denklemler\n",
    "    dI <- -(gamma+ ?? ) * I    # <----------------- Boşluğu doldur \n",
    "    dM <- ??                   # <----------------- Boşluğu doldur\n",
    "    dR <- gamma * I\n",
    "    \n",
    "    return(list(c(dI, dM, dR))) \n",
    "  })\n",
    "  \n",
    "}\n",
    "\n",
    "# MODEL ÇIKTISI (diferansiyel denklemleri çözme):\n",
    "\n",
    "# Diferansiyel denklemleri ode entegrasyon algoritması kullanarak çözme\n",
    "output2 <- as.data.frame(ode(y = initial_state_values, \n",
    "                             times = times, \n",
    "                             func = cohort_model2,\n",
    "                             parms = parameters))\n",
    "\n",
    "\n",
    "# çıktı veri setini uzun formata çevir\n",
    "output2_long <- melt(as.data.frame(output2), id = \"time\")                 \n",
    "\n",
    "\n",
    "# Yeni çıktıyı çiz\n",
    "ggplot(data = output2_long,                                               \n",
    "       aes(x = time, y = value, colour = variable, group = variable)) +  \n",
    "  geom_line(size=2) +                                                          \n",
    "  xlab(\"Zaman (gün)\")+                                                   \n",
    "  ylab(\"Sayı\") +                                                       \n",
    "  labs(colour = \"Kompartman\",                                          \n",
    "       title = \"Kohort modeli\")    "
   ]
  },
  {
   "cell_type": "markdown",
   "id": "4230ea3f",
   "metadata": {},
   "source": [
    "### 2.1 Simülasyonumuzdan CFR'yi keşfet\n",
    "\n",
    "Artık eklenen mortalite ile modelimiz var, CFR'ın modelden tahmin edildiği şekliyle CFR = %30'a karşılık gelip gelmediğini kontrol etmeye çalışın.\n",
    "\n",
    "Bunun için, her kompartmandaki insanların oranını görmek isteyebiliriz"
   ]
  },
  {
   "cell_type": "code",
   "execution_count": null,
   "id": "e1924eee",
   "metadata": {
    "eval": false,
    "include": true,
    "vscode": {
     "languageId": "r"
    },
    "warning": false
   },
   "outputs": [],
   "source": [
    "\n",
    "\n",
    "output3_long<- output2_long\n",
    "output3_long$value<-output2_long$value/N\n",
    "\n",
    "\n",
    "# S, I ve R kompartmanlarındaki kişilerin oranını zaman içinde çiz\n",
    "ggplot(data = output3_long,                                               \n",
    "       aes(x = time, y = value, colour = variable, group = variable)) +  \n",
    "  geom_line(size=2) +                                                        \n",
    "  xlab(\"Zaman (gün)\")+                                                  \n",
    "  ylab(\"Sayı\") +                                                      \n",
    "  labs(colour = \"Kompartman\",                                          \n",
    "       title = \"Kohort modeli\")  \n",
    "\n",
    "\n"
   ]
  },
  {
   "cell_type": "markdown",
   "id": "1c143adb",
   "metadata": {},
   "source": [
    "Grafikten hastalık sonucu ölen kişilerin oranının ne olduğunu söyleyebilir misiniz?"
   ]
  }
 ],
 "metadata": {
  "jupytext": {
   "cell_metadata_filter": "name,eval,warning,include,tags,-all",
   "main_language": "R",
   "notebook_metadata_filter": "-all"
  },
  "kernelspec": {
   "display_name": "R",
   "language": "R",
   "name": "ir"
  },
  "language_info": {
   "codemirror_mode": "r",
   "file_extension": ".r",
   "mimetype": "text/x-r-source",
   "name": "R",
   "pygments_lexer": "r",
   "version": "4.3.2"
  }
 },
 "nbformat": 4,
 "nbformat_minor": 5
}