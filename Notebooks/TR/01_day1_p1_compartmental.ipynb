{
 "cells": [
  {
   "cell_type": "markdown",
   "id": "5deb1c86",
   "metadata": {},
   "source": [
    "# 1. Gün bölüm 1: Basit kompartman modelinin gösterimi"
   ]
  },
  {
   "cell_type": "markdown",
   "id": "925d3a4a",
   "metadata": {},
   "source": [
    "<div style=\"background: #f8f9fa; padding: 0.5rem 1rem; border-radius: 8px; margin-bottom: 1rem; border-left: 4px solid #007bff;\">\n",
    "<a href=\"../../index-tr.ipynb\" style=\"text-decoration: none; color: #007bff; font-weight: bold;\">← Kurs Ana Sayfasına Dön</a> | \n",
    "<a href=\"../../index.ipynb\" style=\"text-decoration: none; color: #dc3545; font-weight: bold;\">🇬🇧 English Index</a>\n",
    "</div>\n",
    "\n",
    "---"
   ]
  },
  {
   "cell_type": "markdown",
   "id": "0fca613c",
   "metadata": {},
   "source": [
    "Önceki oturumlarımızda kompartman modellerinin enfeksiyöz hastalıkları tanımlamak için nasıl kullanılabileceğini gözden geçirdik. Ayrıca geçiş oranlarının nasıl belirleneceğini, bunun zaman dağılımları ile ilişkisini ve basit modelleme çıktısını nasıl yorumlayacağımızı inceledik. Bu ilk uygulamada önce basit bir kohort modelinin nasıl kodlandığını göreceğiz ve ayrıca modelin temel varsayımlarını test etmeyi inceleyeceğiz.\n",
    "\n",
    "## 1. Basit bir kohort modeli\n",
    "\n",
    "Çalıştığımız kohort modelini hatırlayın, enfekte bireylerin başlangıç popülasyonu ile başlıyoruz ve iyileşmeye geçişe izin veriyoruz. Bu modelin temel yapı taşlarının neler olduğuna bakalım."
   ]
  },
  {
   "cell_type": "code",
   "execution_count": null,
   "id": "8bf8c076",
   "metadata": {
    "echo": true,
    "vscode": {
     "languageId": "r"
    },
    "warning": false
   },
   "outputs": [],
   "source": [
    "\n",
    "# Bazı yararlı paketleri yükle:\n",
    "library(deSolve)  # Diferansiyel denklemleri çözmek için \n",
    "library(reshape2) # Model çıktısını manipüle etmek için\n",
    "library(ggplot2)  # Güzel grafikler üretmek için!\n",
    "library(here)     # Her zaman çalışma dizinimizde olduğumuzdan emin olmak için\n",
    "\n",
    "\n",
    "###################\n",
    "#  Şimdi kohort modelimizi kodlayalım \n",
    "\n",
    "# Toplam popülasyonumuzu N olarak adlandıracağız. N için bir parametre oluşturalım\n",
    "N <- 1000\n",
    "\n",
    "### Bazı model girdileri\n",
    "\n",
    "# Başlangıç koşulları: Kodlamak istediğimiz kohort modeli iki aşamaya sahip, I Enfekte ve R (iyileşen)\n",
    "\n",
    "# Modelin durum değişkenlerini içeren bir vektör oluşturalım\n",
    "\n",
    "initial_state_values <- c(\n",
    "                          I = N,\n",
    "                          R = 0)           \n",
    "\n",
    "# I ve R model kompartmanlarına başlangıç değerleri atadığımıza dikkat edin\n",
    "\n",
    "# Günlük parametre değerleri: Enfeksiyöz dönemin ortalama 2 gün olduğunu biliyoruz\n",
    "# Buna göre iyileşme oranını (gamma) şu şekilde ifade edebiliriz:\n",
    "\n",
    "parameters <- c(gamma = 1/2)\n",
    "\n",
    "\n",
    "# ZAMAN ADIMLARI:\n",
    "\n",
    "# Bu, modeli çözmek için zaman adımları dizisini saklayan bir vektördür\n",
    "times <- seq(from = 0, to = 50, by = 1)   # 0'dan 50 güne kadar günlük aralıklarla\n",
    "\n",
    "\n",
    "### Şimdi modeli kodla ! \n",
    "\n",
    "## Adi Diferansiyel Denklemler \n",
    "# Aşağıdaki model fonksiyonu girdi argümanları olarak \n",
    "# (şu sırayla): zaman, durum ve parametreleri alır\n",
    "# Diferansiyel denklemlerin nasıl kodlandığına dikkat edin ve notlarınızla karşılaştırın ! \n",
    "\n",
    "cohort_model <- function(time, state, parameters) {  \n",
    "  \n",
    "  with(as.list(c(state, parameters)), {     \n",
    "    \n",
    "    # Toplam popülasyon büyüklüğü N'yi hesaplama (her kompartmandaki kişi sayısının toplamı)\n",
    "    N <- I+R\n",
    "    \n",
    "    # Diferansiyel denklemler\n",
    "    dI  <- -gamma * I     \n",
    "    dR <- gamma * I\n",
    "\n",
    "    return(list(c(dI, dR))) \n",
    "  })\n",
    "  \n",
    "}\n"
   ]
  },
  {
   "cell_type": "markdown",
   "id": "de84752e",
   "metadata": {},
   "source": [
    "### 1.1 Kohort modelini çalıştırma\n",
    "\n",
    "I ve R kompartmanlı basit bir kohort modeli kodladık, bu durumlar için başlangıç koşulları belirledik ve ayrıca iyileşme oranını yansıtmak için geçiş parametresi gamma'yı tanımladık.\n",
    "\n",
    "Şimdi modeli çalıştıralım ve bazı çıktıları görelim:"
   ]
  },
  {
   "cell_type": "code",
   "execution_count": null,
   "id": "1bbf4954",
   "metadata": {
    "echo": true,
    "vscode": {
     "languageId": "r"
    },
    "warning": false
   },
   "outputs": [],
   "source": [
    "## MODEL ÇIKTISI (Diferansiyel denklemleri ode entegrasyon algoritması kullanarak çözme)\n",
    "\n",
    "# ode fonksiyonunu (deSolve paketinden) kullanıyoruz ve yukarıda oluşturduğumuz \n",
    "# sistem ve parametreleri geçiyoruz\n",
    "\n",
    "# Model çıktısı output1 veri çerçevesinde saklanacak\n",
    "\n",
    "output1 <- as.data.frame(ode(y = initial_state_values, \n",
    "                             times = times, \n",
    "                             func = cohort_model,\n",
    "                             parms = parameters))\n",
    "\n",
    "# Konsolda output1 yazarak çıktıya bir göz atalım\n",
    "\n",
    "# Her durum değişkeninin (I ve R) her birinin bir sütunu olduğunu görüyorsunuz\n",
    "# Bu sonuçları çizmek için uzun format dediğimiz şeye ihtiyacımız var, bu yüzden rehsape \n",
    "# paketini ve \"melt\" fonksiyonunu kullanarak çıktımızı o formatta alalım\n",
    "\n",
    "# çıktı veri setini uzun formata çevir\n",
    "output1_long <- melt(as.data.frame(output1), id = \"time\")                  \n",
    "\n",
    "# Konsolda output1_long yazarak çıktıya bir göz atalım\n",
    "\n",
    "\n",
    "## Model çıktısını çiz\n",
    "\n",
    "# I ve R kompartmanlarındaki kişi sayısını zaman içinde çiz\n",
    "ggplot(data = output1_long,                                              # çizilecek veriyi içeren nesneyi belirt\n",
    "       aes(x = time, y = value, colour = variable, group = variable)) +  # sütunları eksenlere ve gruplara ata\n",
    "  geom_line(size=2) +                                                    # veriyi çizgiler olarak temsil et\n",
    "  xlab(\"Zaman (gün)\")+                                                   # x ekseni için etiket ekle\n",
    "  ylab(\"Sayı\") +                                                         # y ekseni için etiket ekle\n",
    "  labs(colour = \"Kompartman\",                                            # lejand başlığı ekle  \n",
    "  title = \"Kohort modeli\")  \n",
    "\n",
    "\n",
    "\n"
   ]
  },
  {
   "cell_type": "markdown",
   "id": "1dea9772",
   "metadata": {},
   "source": [
    "Görev: Yukarıdaki kodu kullanarak aynı modeli çalıştırmayı keşfedin, ancak şimdi kohortumuzda ortalama enfeksiyöz dönemin iki gün yerine 10 gün olduğu bir senaryoyu hayal edin. Grafiğin neden farklı göründüğünü açıklayabilir misiniz?"
   ]
  }
 ],
 "metadata": {
  "jupytext": {
   "cell_metadata_filter": "tags,name,echo,warning,-all",
   "main_language": "R",
   "notebook_metadata_filter": "-all"
  },
  "kernelspec": {
   "display_name": "R",
   "language": "R",
   "name": "ir"
  },
  "language_info": {
   "codemirror_mode": "r",
   "file_extension": ".r",
   "mimetype": "text/x-r-source",
   "name": "R",
   "pygments_lexer": "r",
   "version": "4.3.2"
  }
 },
 "nbformat": 4,
 "nbformat_minor": 5
}