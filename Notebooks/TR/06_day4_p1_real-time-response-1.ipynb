{
 "cells": [
  {
   "cell_type": "markdown",
   "id": "3b4af502",
   "metadata": {},
   "source": [
    "# Gün 4 bölüm 1: Salgın verileriyle gerçek zamanlı"
   ]
  },
  {
   "cell_type": "markdown",
   "id": "4f7ecbfc",
   "metadata": {},
   "source": [
    "<div style=\"background: #f8f9fa; padding: 0.5rem 1rem; border-radius: 8px; margin-bottom: 1rem; border-left: 4px solid #007bff;\">\n",
    "<a href=\"../../index.ipynb\" style=\"text-decoration: none; color: #007bff; font-weight: bold;\">← Kurs İndeksine Geri Dön</a> | \n",
    "<a href=\"../../index-tr.ipynb\" style=\"text-decoration: none; color: #dc3545; font-weight: bold;\">🇹🇷 Türkçe İndeks</a>\n",
    "</div>\n",
    "\n",
    "---"
   ]
  },
  {
   "cell_type": "markdown",
   "id": "91bdfe56",
   "metadata": {},
   "source": [
    "## Giriş\n",
    "\n",
    "Bu uygulama (iki bölümde) bir Ebola Virüs Hastalığı (EVD) salgınının erken değerlendirmesini ve yeniden yapılandırılmasını simüle eder. Vaka ölüm oranı (CFR), epieğriler, büyüme oranı tahmini, temas izleme verileri, gecikmeler ve bulaştırıcılık tahminleri dahil olmak üzere salgının erken aşamasının analizinin çeşitli yönlerini tanıtır."
   ]
  },
  {
   "cell_type": "markdown",
   "id": "35de6626",
   "metadata": {},
   "source": [
    "## Öğrenme çıktıları\n",
    "\n",
    "Bu uygulamanın sonunda şunları yapabilmelisiniz:\n",
    "\n",
    "- R'de salgın verilerini yükleme ve temizleme ([bölüm 1](./real-time-response-1.html))\n",
    "\n",
    "- Vaka ölüm oranını (CFR) tahmin etme ([bölüm 1](./real-time-response-1.html))\n",
    "\n",
    "- Çizgi listesinden insidans hesaplama ve çizme ([bölüm 1](./real-time-response-1.html))\n",
    "\n",
    "- Salgının büyüme oranını ve ikiye katlanma süresini tahmin etme ve yorumlama ([bölüm 2](./real-time-response-2.html))\n",
    "\n",
    "- Bulaştıran / bulaşan birey çiftlerine dair verilerden seri aralığı tahmin etme ([bölüm 2](./real-time-response-2.html))\n",
    "\n",
    "- Salgının üreme sayısını tahmin etme ve yorumlama ([bölüm 2](./real-time-response-2.html))\n",
    "\n",
    "- Kısa vadeli gelecekteki insidansı öngörme ([bölüm 2](./real-time-response-2.html))\n",
    "\n",
    "\n",
    "## Batı Afrika'da kurgusal bir ülkede yeni bir EVD salgını\n",
    "\n",
    "Batı Afrika'da kurgusal bir ülkede yeni bir EVD salgını bildirildi. Sağlık Bakanlığı salgın müdahalesini koordine etmekle görevli ve sizi gerçek zamanlı müdahaleyi bilgilendirmek için salgın analizi konusunda danışman olarak görevlendirdi.\n",
    "\n",
    "## Gerekli paketler \n",
    "\n",
    "CRAN veya github'da mevcut olan aşağıdaki paketler bu analiz için gereklidir.\n",
    "Gerekli paketleri şu şekilde kurun:"
   ]
  },
  {
   "cell_type": "markdown",
   "id": "cef7ede4",
   "metadata": {},
   "source": [
    "Paketler kurulduktan sonra yeni bir R oturumu açmanız gerekebilir. Ardından kütüphaneleri şu şekilde yükleyin:"
   ]
  },
  {
   "cell_type": "code",
   "execution_count": null,
   "id": "9f37f7c0",
   "metadata": {
    "message": false,
    "name": "load_library",
    "vscode": {
     "languageId": "r"
    },
    "warning": false
   },
   "outputs": [],
   "source": [
    "library(readxl)\n",
    "library(outbreaks)\n",
    "library(incidence)\n",
    "library(distcrete)\n",
    "library(epitrix)\n",
    "library(EpiEstim)\n",
    "library(projections)\n",
    "library(ggplot2)\n",
    "library(magrittr)\n",
    "library(binom)\n",
    "library(ape)\n",
    "library(outbreaker2)\n",
    "library(here)"
   ]
  },
  {
   "cell_type": "markdown",
   "id": "3b35eafe",
   "metadata": {},
   "source": [
    "## Erken veriler (verileri R'ye okuma)\n",
    "\n",
    "Size aşağıdaki çizgi listesi ve temas verileri verildi:\n",
    "\n",
    "**linelist_20140701.xlsx**: 1 Temmuz 2014'e kadar vaka bilgilerini içeren bir çizgi listesi; ve\n",
    "\n",
    "**contact_20140701.xlsx**: 1 Temmuz 2014'e kadar vakalar arasında bildirilen temasların listesi. \"infector\" potansiyel enfeksiyon kaynağını, \"case_id\" ise temasın alıcısını belirtir.\n",
    "\n",
    "R'ye okumak için bu dosyaları indirin ve verileri içe aktarmak için `readxl` paketindeki `read_xlsx()` fonksiyonunu kullanın. Her içe aktarma işlemi `tibble` nesnesi olarak saklanan bir veri tablosu oluşturacak.\n",
    "\n",
    "- Birincisini `linelist`, ve  \n",
    "- ikincisini `contacts` olarak adlandırın. \n",
    "\n",
    "Örneğin, ilk komut satırınız şöyle görünebilir:  \n",
    "\n"
   ]
  },
  {
   "cell_type": "code",
   "execution_count": null,
   "id": "fe403f6e",
   "metadata": {
    "name": "read_data_ni",
    "tags": [
     "remove_cell"
    ],
    "vscode": {
     "languageId": "r"
    }
   },
   "outputs": [],
   "source": [
    "linelist <- read_excel(here(\"data\",\"linelist_20140701.xlsx\"), na = c(\"\", \"NA\"))\n",
    "contacts <- read_excel(here(\"data\",\"contacts_20140701.xlsx\"), na = c(\"\", \"NA\"))"
   ]
  },
  {
   "cell_type": "markdown",
   "id": "10d61613",
   "metadata": {},
   "source": [
    "Buradaki verilere ve yapıya bakmak için biraz zaman ayırın.\n",
    "\n",
    "- Veriler ve format daha önce gördüğünüz çizgi listelerine benziyor mu?\n",
    "- Salgın araştırma ekibinin bir parçası olsaydınız, başka hangi bilgileri toplamak isteyebilirdiniz?"
   ]
  },
  {
   "cell_type": "code",
   "execution_count": null,
   "id": "9020c169",
   "metadata": {
    "echo": "#R_CODE#params$full_version",
    "name": "explore_data",
    "vscode": {
     "languageId": "r"
    }
   },
   "outputs": [],
   "source": [
    "dim(linelist)\n",
    "head(linelist)"
   ]
  },
  {
   "cell_type": "markdown",
   "id": "2358439f",
   "metadata": {},
   "source": [
    "- Ayrıca rapor tarihi, yaş, hanehalkı tanımlayıcısı, meslek vb. veriler toplamak isteyebilirsiniz."
   ]
  },
  {
   "cell_type": "markdown",
   "id": "5dcb6c77",
   "metadata": {},
   "source": [
    "Daha ileri analizler için tüm tarihlerin `Date` nesneleri olarak doğru şekilde saklandığından emin olmanız gerektiğini unutmayın. Bunu `as.Date` fonksiyonunu kullanarak yapabilirsiniz, örneğin:"
   ]
  },
  {
   "cell_type": "code",
   "execution_count": null,
   "id": "cf2600b7",
   "metadata": {
    "name": "format_date_example",
    "vscode": {
     "languageId": "r"
    }
   },
   "outputs": [],
   "source": [
    "linelist$date_of_onset <- as.Date(linelist$date_of_onset, format = \"%Y-%m-%d\")"
   ]
  },
  {
   "cell_type": "code",
   "execution_count": null,
   "id": "12f6af65",
   "metadata": {
    "echo": "#R_CODE#params$full_version",
    "name": "format_dates",
    "vscode": {
     "languageId": "r"
    }
   },
   "outputs": [],
   "source": [
    "linelist$date_of_infection <- as.Date(linelist$date_of_infection, format = \"%Y-%m-%d\")\n",
    "linelist$date_of_hospitalisation <- as.Date(linelist$date_of_hospitalisation, format = \"%Y-%m-%d\")\n",
    "linelist$date_of_outcome <- as.Date(linelist$date_of_outcome, format = \"%Y-%m-%d\")"
   ]
  },
  {
   "cell_type": "markdown",
   "id": "ea14fd08",
   "metadata": {},
   "source": [
    "Biçimlendirilmiş veriler şöyle görünmelidir:"
   ]
  },
  {
   "cell_type": "code",
   "execution_count": null,
   "id": "63d3ffb8",
   "metadata": {
    "name": "show_data",
    "tags": [
     "remove_input"
    ],
    "vscode": {
     "languageId": "r"
    }
   },
   "outputs": [],
   "source": [
    "head(linelist)\n",
    "head(contacts)"
   ]
  },
  {
   "cell_type": "markdown",
   "id": "ac3d1bb6",
   "metadata": {},
   "source": [
    "## Veri temizleme ve tanımlayıcı analiz\n",
    "\n",
    "Bu `linelist`te bulunan verilere daha yakından bakın.\n",
    "\n",
    "- Ne fark ediyorsunuz?"
   ]
  },
  {
   "cell_type": "code",
   "execution_count": null,
   "id": "7985a249",
   "metadata": {
    "echo": "#R_CODE#params$full_version",
    "name": "explore",
    "vscode": {
     "languageId": "r"
    }
   },
   "outputs": [],
   "source": [
    "head(linelist)\n",
    "names(linelist)"
   ]
  },
  {
   "cell_type": "markdown",
   "id": "312b6031",
   "metadata": {},
   "source": [
    "Eksik girişler olduğunu fark edebilirsiniz.\n",
    "Analizde önemli bir adım, veri girişindeki hataları belirlemektir.\n",
    "Hastane isimlerindeki hataları değerlendirmek zor olsa da, enfeksiyon tarihinin her zaman semptom başlangıcı tarihinden önce olmasını bekleriz.\n",
    "  \n",
    "Negatif veya 0 günlük kuluçka dönemleri olan girişleri kaldırmak için bu veri setini temizleyin."
   ]
  },
  {
   "cell_type": "code",
   "execution_count": null,
   "id": "7da0b4b3",
   "metadata": {
    "eval": false,
    "name": "clean_data",
    "vscode": {
     "languageId": "r"
    }
   },
   "outputs": [],
   "source": [
    "## veri girişindeki hataları belirle (negatif kuluçka dönemi)\n",
    "mistakes <- which(linelist$date_of_onset <= linelist$date_of_infection)\n",
    "mistakes\n",
    "linelist[mistakes, ]\n"
   ]
  },
  {
   "cell_type": "code",
   "execution_count": null,
   "id": "c942f9a3",
   "metadata": {
    "echo": "#R_CODE#params$full_version",
    "name": "clean_data_answers",
    "vscode": {
     "languageId": "r"
    }
   },
   "outputs": [],
   "source": [
    "## veri girişindeki hataları belirle (negatif kuluçka dönemi)\n",
    "mistakes <- which(linelist$date_of_onset <= linelist$date_of_infection)\n",
    "mistakes\n",
    "linelist[mistakes, ] # negatif veya 0 kuluçka süresi olan sadece ilk birkaç girişi göster."
   ]
  },
  {
   "cell_type": "markdown",
   "id": "d84de7e6",
   "metadata": {},
   "source": [
    "\"Temizlenmiş\" çizgi listenizi yeni bir nesne olarak kaydedin: `linelist_clean`"
   ]
  },
  {
   "cell_type": "code",
   "execution_count": null,
   "id": "d933fa04",
   "metadata": {
    "name": "save_clean",
    "vscode": {
     "languageId": "r"
    }
   },
   "outputs": [],
   "source": [
    "linelist_clean <- linelist[-mistakes, ]"
   ]
  },
  {
   "cell_type": "markdown",
   "id": "2fe403a1",
   "metadata": {},
   "source": [
    "Tam veri setiniz olsaydı kontrol etmek isteyebileceğiniz başka hangi negatif tarihler veya hatalar olabilir?"
   ]
  },
  {
   "cell_type": "markdown",
   "id": "d4fefe2a",
   "metadata": {
    "lines_to_next_cell": 0
   },
   "source": [
    "## Vaka ölüm oranının (CFR) hesaplanması\n",
    "\n",
    "İşte sonuç durumuna göre vaka sayıları. Bundan CFR'yi nasıl hesaplarsınız? "
   ]
  },
  {
   "cell_type": "code",
   "execution_count": null,
   "id": "21e9baf4",
   "metadata": {
    "name": "cfr_table",
    "vscode": {
     "languageId": "r"
    }
   },
   "outputs": [],
   "source": [
    "table(linelist_clean$outcome, useNA = \"ifany\")"
   ]
  },
  {
   "cell_type": "markdown",
   "id": "9823a54b",
   "metadata": {
    "lines_to_next_cell": 0
   },
   "source": [
    "Sonucu NA olan vakalarla ne yapacağınızı düşünün?"
   ]
  },
  {
   "cell_type": "code",
   "execution_count": null,
   "id": "177cd59d",
   "metadata": {
    "eval": "#R_CODE#params$full_version",
    "lines_to_next_cell": 2,
    "name": "cfr",
    "vscode": {
     "languageId": "r"
    }
   },
   "outputs": [],
   "source": [
    "n_dead <- sum(linelist_clean$outcome %in% \"Death\")\n",
    "n_known_outcome <- sum(linelist_clean$outcome %in% c(\"Death\", \"Recover\"))\n",
    "n_all <- nrow(linelist_clean)\n",
    "cfr <- n_dead / n_known_outcome\n",
    "cfr_wrong <- n_dead / n_all\n",
    "\n",
    "cfr_with_CI <- binom.confint(n_dead, n_known_outcome, method = \"exact\")\n",
    "cfr_wrong_with_CI <- binom.confint(n_dead, n_all, method = \"exact\")\n",
    "\n",
    "print(cfr_with_CI)\n",
    "print(cfr_wrong_with_CI)"
   ]
  },
  {
   "cell_type": "markdown",
   "id": "0493fca5",
   "metadata": {},
   "source": [
    "## İnsidans eğrilerine bakış\n",
    "\n",
    "Bilmek istediğimiz ilk soru basitçe: ne kadar kötü?. Analizin ilk adımı tanımlayıcıdır - bir salgın eğrisi veya epieğri çizmek istiyoruz. Bu, semptom başlangıcı tarihine göre zaman içindeki insidansı görselleştirir.\n",
    "\n",
    "`incidence` paketini kullanarak, semptom başlangıcı tarihlerine dayalı olarak `linelist_clean`den günlük insidansı hesaplayın. Sonucu i_daily adlı bir nesnede saklayın; sonuç şöyle görünmelidir:"
   ]
  },
  {
   "cell_type": "code",
   "execution_count": null,
   "id": "8ffc3387",
   "metadata": {
    "echo": "#R_CODE#params$full_version",
    "name": "incidence",
    "vscode": {
     "languageId": "r"
    }
   },
   "outputs": [],
   "source": [
    "i_daily <- incidence(linelist_clean$date_of_onset) # günlük insidans\n",
    "\n",
    "plot(i_daily, border = \"black\")"
   ]
  },
  {
   "cell_type": "markdown",
   "id": "1bed8d35",
   "metadata": {},
   "source": [
    "İnsidans tarihlerinin `i_daily$dates` semptom başlangıcı tarihi hakkında veri sahibi olduğumuz son tarihte (29 Haziran 2014) durduğunu fark edebilirsiniz. Ancak çizgi listesinin yakından incelenmesi, çizgi listesindeki son tarihin (herhangi bir girişin) aslında biraz daha sonra olduğunu gösterir (1 Temmuz 2014). Bunu değiştirmek için `incidence` fonksiyonunda `last_date` argümanını kullanabilirsiniz."
   ]
  },
  {
   "cell_type": "code",
   "execution_count": null,
   "id": "0a680243",
   "metadata": {
    "echo": "#R_CODE#params$full_version",
    "name": "update_last_date",
    "vscode": {
     "languageId": "r"
    }
   },
   "outputs": [],
   "source": [
    "\n",
    "# son tarihi genişlet:\n",
    "i_daily <- incidence(linelist_clean$date_of_onset, \n",
    "                     last_date = as.Date(max(linelist_clean$date_of_hospitalisation, na.rm = TRUE)))\n",
    "i_daily\n",
    "plot(i_daily, border = \"black\")\n"
   ]
  },
  {
   "cell_type": "markdown",
   "id": "0b88c1c8",
   "metadata": {},
   "source": [
    "Başka bir sorun da günlük insidansa bakarken trendleri yorumlamanın zor olabilmesi, bu nedenle haftalık insidansı `i_weekly`'yi de şu şekilde hesaplayın ve çizin:"
   ]
  },
  {
   "cell_type": "code",
   "execution_count": null,
   "id": "22f89ad8",
   "metadata": {
    "name": "show_weekly_incidence",
    "vscode": {
     "languageId": "r"
    }
   },
   "outputs": [],
   "source": [
    "i_weekly <- incidence(linelist_clean$date_of_onset, interval = 7, \n",
    "                      last_date = as.Date(max(linelist_clean$date_of_hospitalisation, na.rm = TRUE)))\n",
    "i_weekly\n",
    "\n",
    "plot(i_weekly, border = \"black\")"
   ]
  },
  {
   "cell_type": "markdown",
   "id": "c3d9bfcf",
   "metadata": {},
   "source": [
    "## Veri ve çıktıları kaydetme\n",
    "\n",
    "Bu uygulamanın [bölüm 1](./real-time-response-1.html)'inin sonudur. \n",
    "[Bölüm 2](./real-time-response-2.html)'ye geçmeden önce, aşağıdaki nesneleri kaydetmeniz gerekecek:"
   ]
  },
  {
   "cell_type": "code",
   "execution_count": null,
   "id": "f4617a3d",
   "metadata": {
    "name": "save_data_ni",
    "tags": [
     "remove_cell"
    ],
    "vscode": {
     "languageId": "r"
    }
   },
   "outputs": [],
   "source": [
    "dir.create(here(\"data/clean\")) # yoksa temiz veri dizini oluştur\n",
    "saveRDS(i_daily, here(\"data/clean/i_daily.rds\"))\n",
    "saveRDS(i_weekly, here(\"data/clean/i_weekly.rds\"))\n",
    "saveRDS(linelist, here(\"data/clean/linelist.rds\"))\n",
    "saveRDS(linelist_clean, here(\"data/clean/linelist_clean.rds\"))\n",
    "saveRDS(contacts, here(\"data/clean/contacts.rds\"))"
   ]
  }
 ],
 "metadata": {
  "jupytext": {
   "cell_metadata_filter": "tags,warning,name,message,echo,eval,results,-all",
   "main_language": "R",
   "notebook_metadata_filter": "-all"
  },
  "kernelspec": {
   "display_name": "R",
   "language": "R",
   "name": "ir"
  },
  "language_info": {
   "codemirror_mode": "r",
   "file_extension": ".r",
   "mimetype": "text/x-r-source",
   "name": "R",
   "pygments_lexer": "r",
   "version": "4.3.2"
  }
 },
 "nbformat": 4,
 "nbformat_minor": 5
}
