{
 "cells": [
  {
   "cell_type": "markdown",
   "id": "b5151c2d",
   "metadata": {},
   "source": [
    "# Day 2 part 2: Introducing transmission dynamics"
   ]
  },
  {
   "cell_type": "code",
   "execution_count": 1,
   "id": "0ea6ed47",
   "metadata": {
    "name": "setup",
    "tags": [
     "remove_cell"
    ],
    "vscode": {
     "languageId": "r"
    }
   },
   "outputs": [],
   "source": [
    "knitr::opts_chunk$set(echo = TRUE)"
   ]
  },
  {
   "cell_type": "markdown",
   "id": "9f7ca8df",
   "metadata": {},
   "source": [
    "We have built a SIR model, have explored how variation in main model parameters can affect the epidemic size and have assessed model outputs from a fully dynamic SIR model. In theory we have explored concepts of R0, Reff , herd immunity threshold and population renewal. In this practice we will build in our previous practice to explore these concepts further.\n",
    "\n",
    "## 1. A model for COVID-19\n",
    "\n",
    "SARS-Cov2 actively transmitted form human to human in virtually every country of the world for the past 2 years. Since the end of 2019 we have accrued important insights into the core dynamics of the virus and have been able to quantify important parameters to describe its transmission. Here we will adapt our previous SIR model to reflect important characteristics of SARS-Cov2, and will rely on published literature to inform our model.\n",
    "\n",
    "We know that SARS-Cov2 is transmitted human to human, we also know that transmission is followed by an incubation period which ends with most individuals developing a symptomatic form of the disease. Individuals are not infectious during the incubation period. Liu et al, 2020, in their systematic review have estimated an R0 value with median of 2.79 (ranging from 1.5 to 6.68)(1). Similarly, McAloon et al have reviewed the duration of the incubation period and found a mean value of 5.8 days (CI95% 5-6.7)(2). The infectious period is one of the most heterogeneous pieces of information given the wide variations in disease severity. However, for simplicity we can say that the average infectious period (from symptom onset to having a negative PCR) is \\~ 13 days, as reported elsewhere (3). Finally, the case fatality rate for covid-19 is understood to follow important age patterns and also between country variations. However, for simplicity we will take an estimate of 4% (4).\n",
    "\n",
    "### Case study\n",
    "\n",
    "You have been commissioned to write a simple model to project the likely course of the epidemic over the next year (if no interventions are introduced). The population of interest is a town of 100,000 people. At the moment a population wide screening has found 500 infectious cases.\n",
    "\n",
    "1)  Following the text above, can you design a model that includes the relevant disease stages, and can you define the transitions rates accordingly? (use pen and paper).\n",
    "\n",
    "2)  Given you have designed a model for Covid-19, can you write down the differential equations for this model?\n",
    "\n",
    "3)  Using the code below (from our previous practice), try to modify your code to introduce the new model features.\\\n",
    "\n",
    "4)  Once you run your model, can you provide the following information:\n",
    "\n",
    "<!-- -->\n",
    "\n",
    "a)  What is the expected size of the epidemic one year from now?\n",
    "\n",
    "    **Answer:** \\~88,220 people\n",
    "\n",
    "b)  How many deaths are projected to occur under the current conditions?\n",
    "\n",
    "    **Answer:** \\~3,675\n",
    "\n",
    "c)  When will the epidemic peak?\n",
    "\n",
    "    **Answer: \\~83 days**\n",
    "\n",
    "d)  Given the current knowledge about this epidemic, what is the value for herd immunity threshold?\n",
    "\n",
    "    **Answer:**\n",
    "\n",
    "    **HIT = 1 - 1/R0**\n",
    "\n",
    "    **HIT = 1- 1/2.79 = 0.64; Meaning that bringing immunity to 64% of the population results in epidemic decay.**\n",
    "\n",
    "Note: Look for the question marks (?) and replace as necessary."
   ]
  },
  {
   "cell_type": "code",
   "execution_count": 2,
   "id": "f0f8d90a",
   "metadata": {
    "echo": true,
    "vscode": {
     "languageId": "r"
    },
    "warning": false
   },
   "outputs": [
    {
     "name": "stderr",
     "output_type": "stream",
     "text": [
      "Warning message:\n",
      "\"package 'ggplot2' was built under R version 4.3.3\"\n",
      "here() starts at C:/Users/juano/Dropbox/Code/Git/ankara-modelling-2025-notebooks\n",
      "\n",
      "Warning message:\n",
      "\"\u001b[1m\u001b[22mUsing `size` aesthetic for lines was deprecated in ggplot2 3.4.0.\n",
      "\u001b[36mℹ\u001b[39m Please use `linewidth` instead.\"\n"
     ]
    },
    {
     "data": {
      "image/png": "[encoded data removed]",
      "text/plain": [
       "plot without title"
      ]
     },
     "metadata": {
      "image/png": {
       "height": 420,
       "width": 420
      }
     },
     "output_type": "display_data"
    }
   ],
   "source": [
    "# LOAD THE PACKAGES:\n",
    "library(deSolve)\n",
    "library(reshape2)\n",
    "library(ggplot2)\n",
    "library(here)\n",
    "\n",
    "setwd(here())\n",
    "# Population size:\n",
    "N <- 100000\n",
    "\n",
    "# MODEL INPUTS:\n",
    "\n",
    "# Initial conditions\n",
    "initial_state_values <- c(\n",
    "  S = N-500,    # <------------Write initial conditions for S\n",
    "  E = 0,\n",
    "  I = 500,    # <----------- Write initial conditions for I\n",
    "  R = 0,\n",
    "  M = 0)           \n",
    "\n",
    "# Parameter values per day  <--------------Complete the following model parameters\n",
    "\n",
    "epsilon <- 1/5.8    # onset of symptoms rate  \n",
    "gamma   <- 1/13     # Recovery rate \n",
    "R0      <- 2.79      # R0\n",
    "beta    <- R0/13       # infection rate\n",
    "CFR     <- 0.04       # Case fatality rate\n",
    "mu      <- gamma*CFR/(1-CFR)       # Mortality rate [remember competing hazards! gamma*CFR/(1-CFR) ]\n",
    "\n",
    "\n",
    "parameters <- c(beta,epsilon, gamma, mu)\n",
    "\n",
    "\n",
    "# MODEL FUNCTION: \n",
    "times <- seq(from = 0, to = 365, by = 1)   # from 0 to 365 days in daily intervals\n",
    "\n",
    "seir_model <- function(time, state, parameters) {  \n",
    "  \n",
    "  with(as.list(c(state, parameters)), {     \n",
    "    \n",
    "    # Calculating the total population size N (the sum of the number of people in each compartment)\n",
    "    \n",
    "    N <- S+E+I+R  # <----------------- define the total population\n",
    "    \n",
    "    # Calculating the FOI\n",
    "    \n",
    "    lambda <- beta*I/N  #  How can we define the force of infection? \n",
    "    \n",
    "    # The differential equations\n",
    "    dS <-  -lambda*S \n",
    "    dE <-   lambda*S - E*epsilon      # Can you write the differential equation for E? \n",
    "    dI <-   E*epsilon - I*(gamma+mu)     \n",
    "    dR <-   gamma * I \n",
    "    dM <-   I*mu\n",
    "    \n",
    "    return(list(c(dS, dE, dI, dR, dM))) \n",
    "  })\n",
    "  \n",
    "}\n",
    "\n",
    "\n",
    "# MODEL OUTPUT (solving the differential equations):\n",
    "\n",
    "# Solving the differential equations using the ode integration algorithm\n",
    "output <- as.data.frame(ode(y = initial_state_values, \n",
    "                            times = times, \n",
    "                            func = seir_model,\n",
    "                            parms = parameters))\n",
    "\n",
    "\n",
    "\n",
    "# turn output data set into long format\n",
    "output_long <- melt(as.data.frame(output), id = \"time\")                 \n",
    "\n",
    "\n",
    "# Plot the number of people in the S, I and R compartments over time\n",
    "ggplot(data = output_long,                                               # specify object containing data to plot\n",
    "       aes(x = time, y = value, colour = variable, group = variable)) +  # assign columns to axes and groups\n",
    "  geom_line(size=2) +                                                          # represent data as lines\n",
    "  xlab(\"Time (days)\")+                                                   # add label for x axis\n",
    "  ylab(\"Number\") +                                                       # add label for y axis\n",
    "  labs(colour = \"Compartment\",                                           # add legend title  \n",
    "       title = \"COVID-19 (SEIR) model\")    \n",
    "   \n"
   ]
  },
  {
   "cell_type": "markdown",
   "id": "0b2d5ba8",
   "metadata": {},
   "source": [
    "## 2. Effective reproductive number\n",
    "\n",
    "You have provided very useful insights for planning the epidemic response. The health authorities are planning to introduce vaccination in the next 40 days.\n",
    "\n",
    "1)  what is the expected effective reproduction number in 40 days ?\n",
    "\n",
    "**Answer: \\~ 2.4**\n",
    "\n",
    "Use the code below to estimate the proportion of population in each stage of the model over time."
   ]
  },
  {
   "cell_type": "code",
   "execution_count": 3,
   "id": "ff01f387",
   "metadata": {
    "echo": true,
    "vscode": {
     "languageId": "r"
    },
    "warning": false
   },
   "outputs": [
    {
     "data": {
      "image/png": "[encoded data removed]",
      "text/plain": [
       "plot without title"
      ]
     },
     "metadata": {
      "image/png": {
       "height": 420,
       "width": 420
      }
     },
     "output_type": "display_data"
    },
    {
     "data": {
      "image/png": "[encoded data removed]",
      "text/plain": [
       "plot without title"
      ]
     },
     "metadata": {
      "image/png": {
       "height": 420,
       "width": 420
      }
     },
     "output_type": "display_data"
    }
   ],
   "source": [
    "# Plot the proportion of individuals \n",
    "\n",
    "output2_long<- output_long\n",
    "output2_long$value<-output_long$value/N\n",
    "\n",
    "# Plot the proportion of people in the S, I and R compartments over time\n",
    "ggplot(data = output2_long,                                               # specify object containing data to plot\n",
    "       aes(x = time, y = value, colour = variable, group = variable)) +  # assign columns to axes and groups\n",
    "  geom_line(size=2) +                                                    # represent data as lines\n",
    "  xlab(\"Time (days)\")+                                                   # add label for x axis\n",
    "  ylab(\"Number\") +                                                       # add label for y axis\n",
    "  labs(colour = \"Compartment\",                                           # add legend title  \n",
    "       title = \"COVID-19(SEIR) model\")\n",
    "\n",
    "\n",
    "\n",
    "## Calculate Reff\n",
    "\n",
    "Reff<-output2_long[output2_long$variable==\"S\",] # this is the proportion susceptible over time\n",
    "\n",
    "Reff$value<- Reff$value * R0 #<------------- Complete the calculation for Reff\n",
    "  \n",
    "  # Plot the proportion of people in the S, I and R compartments over time\n",
    "  ggplot(data = Reff,                                               # specify object containing data to plot\n",
    "         aes(x = time, y = value, colour = variable, group = variable)) +  # assign columns to axes and groups\n",
    "  geom_line(size=2) +                                                          # represent data as lines\n",
    "  xlab(\"Time (days)\")+                                                   # add label for x axis\n",
    "  ylab(\"Reff\") +                                                       # add label for y axis\n",
    "  labs(colour = \"Compartment\",                                           # add legend title  \n",
    "       title = \"COVID-19(SEIR) model\")"
   ]
  },
  {
   "cell_type": "markdown",
   "id": "c695bd8d",
   "metadata": {},
   "source": [
    "2)  You are asked to explain why your model does not reproduce subsequent waves as have been seen in other contexts. Can you think of what assumptions and simplifications are preventing that behavior in your model?\n",
    "\n",
    "    **Answer:** **We are modelling a closed cohort of people, which means that there is no renewal of the susceptible pool of people. Also, we are not allowing any seasonality (changing in contact patterns over the year, or other external factors that might cause variations in transmission)**\n",
    "\n",
    "3)  Can you think of potential model designs to simulate vaccination?\n",
    "\n",
    "    **Answer: Add an extra flow from S to a new compartment V. This transmission should reflect the coverage. And importantly, vaccine efficacy should be stated as a fraction that fails to move to \"V\" or it could mean a reduction in force of infection from \"V\"**\n",
    "\n",
    "## References\n",
    "\n",
    "1.  Liu Y, Gayle AA, Wilder Smith A, Rocklov J. Reproductive number of Covid19 is higher compared to SARS coronavirus. J Travel Med. 2020;27(2):taaa021. doi: 10.1093/jtm/taaa021.\n",
    "2.  McAloon C, Collins Á, Hunt K, et alIncubation period of COVID-19: a rapid systematic review and meta-analysis of observational researchBMJ Open 2020;10:e039652. doi: 10.1136/bmjopen-2020-039652\n",
    "3.  Byrne AW, McEvoy D, Collins AB, et alInferred duration of infectious period of SARS-CoV-2: rapid scoping review and analysis of available evidence for asymptomatic and symptomatic COVID-19 casesBMJ Open 2020;10:e039856. doi: 10.1136/bmjopen-2020-039856\n",
    "4.  Verity, R. et al. Estimates of the severity of coronavirus disease 2019: a model-based analysis. Lancet Infect. Dis. 20, 669--677 (2020)."
   ]
  }
 ],
 "metadata": {
  "jupytext": {
   "cell_metadata_filter": "name,warning,echo,tags,-all",
   "main_language": "R",
   "notebook_metadata_filter": "-all"
  },
  "kernelspec": {
   "display_name": "R",
   "language": "R",
   "name": "ir"
  },
  "language_info": {
   "codemirror_mode": "r",
   "file_extension": ".r",
   "mimetype": "text/x-r-source",
   "name": "R",
   "pygments_lexer": "r",
   "version": "4.3.2"
  }
 },
 "nbformat": 4,
 "nbformat_minor": 5
}
