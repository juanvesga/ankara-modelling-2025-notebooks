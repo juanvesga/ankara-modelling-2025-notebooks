{
 "cells": [
  {
   "cell_type": "markdown",
   "id": "cc70fc45",
   "metadata": {},
   "source": [
    "# Day 1 part 1: Demonstration of a simple compartmental model"
   ]
  },
  {
   "cell_type": "markdown",
   "id": "ee528a1c",
   "metadata": {},
   "source": [
    "<div style=\"background: #f8f9fa; padding: 0.5rem 1rem; border-radius: 8px; margin-bottom: 1rem; border-left: 4px solid #007bff;\">\n",
    "<a href=\"../../index.ipynb\" style=\"text-decoration: none; color: #007bff; font-weight: bold;\">← Back to Course Index</a> | \n",
    "<a href=\"../../index-tr.ipynb\" style=\"text-decoration: none; color: #dc3545; font-weight: bold;\">🇹🇷 Türkçe Index</a>\n",
    "</div>\n",
    "\n",
    "---"
   ]
  },
  {
   "cell_type": "markdown",
   "id": "db11da82",
   "metadata": {},
   "source": [
    "In our previous sessions we have reviewed how compartmental models can be used to describe infectious diseases. We have also examined how to specify rates of transition, its relation with time distributions and the how we interpret simple modelling output. During this first practical we will first see how a simple cohort model is coded, and will also examine testing the basic assumptions of the model.\n",
    "\n",
    "## 1. A simple cohort model\n",
    "\n",
    "Remember the cohort model we have studied, where we start with an initial population of infected individuals and we allow a transition into recovery. Let us see what are the basic building blocks of that model."
   ]
  },
  {
   "cell_type": "code",
   "execution_count": 1,
   "id": "85d3ec6b",
   "metadata": {
    "echo": true,
    "vscode": {
     "languageId": "r"
    },
    "warning": false
   },
   "outputs": [
    {
     "name": "stderr",
     "output_type": "stream",
     "text": [
      "here() starts at C:/Users/juano/Dropbox/Code/Git/ankara-modelling-2025-notebooks\n",
      "\n"
     ]
    }
   ],
   "source": [
    "\n",
    "# Load some useful packages:\n",
    "library(deSolve)  # To solve differential equations \n",
    "library(reshape2) # To To manipulate our model output\n",
    "library(ggplot2)  # To produce nice plots!\n",
    "library(here)     # To ensure that we always are in our working directory\n",
    "\n",
    "\n",
    "###################\n",
    "#  Now let's code our  cohort model \n",
    "\n",
    "# We will call our tota population N. Let's create a parameter for N\n",
    "N <- 1000\n",
    "\n",
    "### Some model inputs\n",
    "\n",
    "# Initial conditions: The cohort mode we want to code has two satges, I Infected  and R (recovered) \n",
    "\n",
    "# Lets create a vector that contains the state variables of the model\n",
    "\n",
    "initial_state_values <- c(\n",
    "                          I = N,\n",
    "                          R = 0)           \n",
    "\n",
    "# Note that we assign we assign initial values to model compartments I and R\n",
    "\n",
    "# Parameter values per day: We now that the infectious period is on average 2 days\n",
    "# According to that we can express the recovery rate (gamma) as follows:\n",
    "\n",
    "parameters <- c(gamma = 1/2)\n",
    "\n",
    "\n",
    "# TIMESTEPS:\n",
    "\n",
    "# This is a Vector storing the sequence of timesteps to solve the model at\n",
    "times <- seq(from = 0, to = 50, by = 1)   # from 0 to 50 days in daily intervals\n",
    "\n",
    "\n",
    "### Now code the model ! \n",
    "\n",
    "## ODEs \n",
    "# The model function below takes as input arguments \n",
    "# (in the following order): time, state and parameters\n",
    "# Note how the differential equations are coded and compare to your notes ! \n",
    "\n",
    "cohort_model <- function(time, state, parameters) {  \n",
    "  \n",
    "  with(as.list(c(state, parameters)), {     \n",
    "    \n",
    "    # Calculating the total population size N (the sum of the number of people in each compartment)\n",
    "    N <- I+R\n",
    "    \n",
    "    # The differential equations\n",
    "    dI  <- -gamma * I     \n",
    "    dR <- gamma * I\n",
    "\n",
    "    return(list(c(dI, dR))) \n",
    "  })\n",
    "  \n",
    "}\n"
   ]
  },
  {
   "cell_type": "markdown",
   "id": "7be8fabd",
   "metadata": {},
   "source": [
    "### 1.1 Running the cohort model\n",
    "\n",
    "We have coded a simple cohort model with compartments I and R, initial conditions for those staes and also have defined the transition parameter gamma to reflect recovery rate.\n",
    "\n",
    "Now let's run the model and see some output:"
   ]
  },
  {
   "cell_type": "code",
   "execution_count": 2,
   "id": "0775a3d3",
   "metadata": {
    "echo": true,
    "vscode": {
     "languageId": "r"
    },
    "warning": false
   },
   "outputs": [
    {
     "name": "stderr",
     "output_type": "stream",
     "text": [
      "Warning message:\n",
      "\"\u001b[1m\u001b[22mUsing `size` aesthetic for lines was deprecated in ggplot2 3.4.0.\n",
      "\u001b[36mℹ\u001b[39m Please use `linewidth` instead.\"\n"
     ]
    },
    {
     "data": {
      "image/png": "[encoded data removed]",
      "text/plain": [
       "plot without title"
      ]
     },
     "metadata": {
      "image/png": {
       "height": 420,
       "width": 420
      }
     },
     "output_type": "display_data"
    }
   ],
   "source": [
    "## MODEL OUTPUT (Solving the differential equations using the ode integration algorithm)\n",
    "\n",
    "# We use the function ode (from deSolve package) and pass the system and parameters \n",
    "# that we have created above\n",
    "\n",
    "# The model output will be stored in the data frame output1\n",
    "\n",
    "output1 <- as.data.frame(ode(y = initial_state_values, \n",
    "                             times = times, \n",
    "                             func = cohort_model,\n",
    "                             parms = parameters))\n",
    "\n",
    "# Let's give the output a look by typing output1 in the console\n",
    "\n",
    "# You see that each state variable (I and R) have each one a column\n",
    "# For plotting this results we what we call long format, so let's use the rehsape \n",
    "# package and function \"melt\" to get our output in that format\n",
    "\n",
    "# turn output data set into long format\n",
    "output1_long <- melt(as.data.frame(output1), id = \"time\")                  \n",
    "\n",
    "# Let's give the output a look by typing output1_long in the console\n",
    "\n",
    "\n",
    "## Plot model out\n",
    "\n",
    "# Plot the number of people in the I and R compartments over time\n",
    "ggplot(data = output1_long,                                              # specify object containing data to plot\n",
    "       aes(x = time, y = value, colour = variable, group = variable)) +  # assign columns to axes and groups\n",
    "  geom_line(size=2) +                                                    # represent data as lines\n",
    "  xlab(\"Time (days)\")+                                                   # add label for x axis\n",
    "  ylab(\"Number\") +                                                       # add label for y axis\n",
    "  labs(colour = \"Compartment\",                                           # add legend title  \n",
    "  title = \"Cohort model\")  \n",
    "\n",
    "\n",
    "\n"
   ]
  },
  {
   "cell_type": "markdown",
   "id": "66c9e40d",
   "metadata": {},
   "source": [
    "Task: Using the code above explore running the same model but now imagine a scenario where the mean infectious period in our cohort is 10 days instead of two days. Can you explain why the plot looks different?\n",
    "\n",
    "### Solution"
   ]
  },
  {
   "cell_type": "code",
   "execution_count": 3,
   "id": "94203e5c",
   "metadata": {
    "echo": true,
    "vscode": {
     "languageId": "r"
    },
    "warning": false
   },
   "outputs": [
    {
     "data": {
      "image/png": "[encoded data removed]",
      "text/plain": [
       "plot without title"
      ]
     },
     "metadata": {
      "image/png": {
       "height": 420,
       "width": 420
      }
     },
     "output_type": "display_data"
    }
   ],
   "source": [
    "\n",
    "# Tip: change gamma top 10 days as a rate \n",
    "\n",
    "parameters <- c(gamma = 1/10)\n",
    "\n",
    "# Run again \n",
    "output1 <- as.data.frame(ode(y = initial_state_values, \n",
    "                             times = times, \n",
    "                             func = cohort_model,\n",
    "                             parms = parameters))\n",
    "\n",
    "# Let's give the output a look by typing output1 in the console\n",
    "\n",
    "# You see that each state variable (I and R) have each one a column\n",
    "# For plotting this results we what we call long format, so let's use the rehsape \n",
    "# package and function \"melt\" to get our output in that format\n",
    "\n",
    "# turn output data set into long format\n",
    "output1_long <- melt(as.data.frame(output1), id = \"time\")                  \n",
    "\n",
    "# Let's give the output a look by typing output1_long in the console\n",
    "\n",
    "\n",
    "## Plot model out\n",
    "\n",
    "# Plot the number of people in the I and R compartments over time\n",
    "ggplot(data = output1_long,                                              # specify object containing data to plot\n",
    "       aes(x = time, y = value, colour = variable, group = variable)) +  # assign columns to axes and groups\n",
    "  geom_line(size=2) +                                                    # represent data as lines\n",
    "  xlab(\"Time (days)\")+                                                   # add label for x axis\n",
    "  ylab(\"Number\") +                                                       # add label for y axis\n",
    "  labs(colour = \"Compartment\",                                           # add legend title  \n",
    "  title = \"Cohort model\")  \n",
    "\n",
    "\n",
    "\n"
   ]
  },
  {
   "cell_type": "markdown",
   "id": "c2d1fecd",
   "metadata": {},
   "source": [
    "This plot basically reflects the fact that the recovery time (gamma) is longer now (10 days, instead of two). Hence, the decay of \"I\" and rise of \"R\" is less sharp."
   ]
  }
 ],
 "metadata": {
  "jupytext": {
   "cell_metadata_filter": "warning,tags,echo,name,-all",
   "main_language": "R",
   "notebook_metadata_filter": "-all"
  },
  "kernelspec": {
   "display_name": "R",
   "language": "R",
   "name": "ir"
  },
  "language_info": {
   "codemirror_mode": "r",
   "file_extension": ".r",
   "mimetype": "text/x-r-source",
   "name": "R",
   "pygments_lexer": "r",
   "version": "4.3.2"
  }
 },
 "nbformat": 4,
 "nbformat_minor": 5
}
