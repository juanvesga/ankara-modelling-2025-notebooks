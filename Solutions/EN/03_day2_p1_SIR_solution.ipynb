{
 "cells": [
  {
   "cell_type": "markdown",
   "id": "ba8841aa",
   "metadata": {},
   "source": [
    "# Day 2 part 1: Building blocks of an SIR"
   ]
  },
  {
   "cell_type": "markdown",
   "id": "17d21fbf",
   "metadata": {},
   "source": [
    "<div style=\"background: #f8f9fa; padding: 0.5rem 1rem; border-radius: 8px; margin-bottom: 1rem; border-left: 4px solid #007bff;\">\n",
    "<a href=\"../../index.ipynb\" style=\"text-decoration: none; color: #007bff; font-weight: bold;\">← Back to Course Index</a> | \n",
    "<a href=\"../../index-tr.ipynb\" style=\"text-decoration: none; color: #dc3545; font-weight: bold;\">🇹🇷 Türkçe Index</a>\n",
    "</div>\n",
    "\n",
    "---"
   ]
  },
  {
   "cell_type": "markdown",
   "id": "bf90da72",
   "metadata": {},
   "source": [
    "By now we know how to code a compartmental model. We also know what an SIR model is and what are its main building blocks. In this exercise we will build on our previous code to construct a fully dynamic SIR model.\n",
    "\n",
    "## 1. Building an SIR model\n",
    "\n",
    "### Case study: a new virus X2021 has been identified in your town and is currently causing an outbreak. You have been commissioned by WHO to provide modelling projections to have a broad idea of the potential size of this outbreak. The ongoing epidemiological investigation have identified the following facts that might guide you in your model development:\n",
    "\n",
    "1)  The virus transmits from human to human via micro droplets from the respiratory tract.\n",
    "\n",
    "2)  Once infection is established infected individuals remain infectious for an average period of 6 days\n",
    "\n",
    "3)  From a previous outbreak of X2021 in a neighboring town we know that the CFR is \\~15%\n",
    "\n",
    "4)  No known factors have been identified for increased susceptibility in any particular population group\n",
    "\n",
    "5)  From the same previous outbreak, an infection rate of 0.5 per day (CI95% 0.3 to 0.6) has been estimated Task: Using the code below (from our previous session) build an SIR model that reflects the case above and try to answer the following questions, providing a :\n",
    "\n",
    "    1)  When do we expect the X2021 outbreak to peak (in days) ?\n",
    "\n",
    "        **Answer: in 25 days we can see a peak in infections**\n",
    "\n",
    "    2)  How many people do we expect to get infected at the end of the outbreak?\n",
    "\n",
    "        **Answer: we can expect \\~ 916 individuals to get infected at the end ( R+M)**\n",
    "\n",
    "    3)  Can you provide a range for the final size of the epidemic (number infected) and the expected peak (in days) based in the uncertainty around the infection rate?\n",
    "\n",
    "        **Answer: Running the model for beta =0.3 we get a final epidemic size of 647 and a peak in infections in day 56. For beta = 0.6 we get a final size of 957 infections and a peak in 19 days**\n",
    "\n",
    "Note: Copy the code below into your R Studio session. Try to fill the gaps marked with ??"
   ]
  },
  {
   "cell_type": "code",
   "execution_count": 1,
   "id": "0f726d91",
   "metadata": {
    "echo": true,
    "vscode": {
     "languageId": "r"
    },
    "warning": false
   },
   "outputs": [
    {
     "name": "stderr",
     "output_type": "stream",
     "text": [
      "here() starts at C:/Users/juano/Dropbox/Code/Git/ankara-modelling-2025-notebooks\n",
      "\n",
      "Warning message:\n",
      "\"\u001b[1m\u001b[22mUsing `size` aesthetic for lines was deprecated in ggplot2 3.4.0.\n",
      "\u001b[36mℹ\u001b[39m Please use `linewidth` instead.\"\n"
     ]
    },
    {
     "data": {
      "image/png": "[encoded data removed]",
      "text/plain": [
       "plot without title"
      ]
     },
     "metadata": {
      "image/png": {
       "height": 420,
       "width": 420
      }
     },
     "output_type": "display_data"
    },
    {
     "data": {
      "image/png": "[encoded data removed]",
      "text/plain": [
       "plot without title"
      ]
     },
     "metadata": {
      "image/png": {
       "height": 420,
       "width": 420
      }
     },
     "output_type": "display_data"
    }
   ],
   "source": [
    "# LOAD THE PACKAGES:\n",
    "library(deSolve)\n",
    "library(reshape2)\n",
    "library(ggplot2)\n",
    "library(here)\n",
    "\n",
    "setwd(here())\n",
    "# Population size:\n",
    "N <- 1000\n",
    "\n",
    "# MODEL INPUTS:\n",
    "\n",
    "# Initial conditions\n",
    "initial_state_values <- c(\n",
    "  S = N-1,\n",
    "  I = 1,\n",
    "  R = 0,\n",
    "  M = 0)           \n",
    "\n",
    "# Parameter values per day\n",
    "  CFR<- 0.15\n",
    "   \n",
    "  gamma <- 1/6 # Recovery rate \n",
    "  \n",
    "  beta <- 0.5  # infection rate\n",
    "  \n",
    "  mu <- gamma*CFR/(1-CFR)   # Mortality rate [remember competing hazards! gamma*CFR/(1-CFR) ]\n",
    "  \n",
    "  parameters <- c(beta, gamma, mu)\n",
    "\n",
    "\n",
    "# MODEL FUNCTION: \n",
    "times <- seq(from = 0, to = 150, by = 1)   # from 0 to 365 days in daily intervals\n",
    "\n",
    "sir_model <- function(time, state, parameters) {  \n",
    "  \n",
    "  with(as.list(c(state, parameters)), {     \n",
    "    \n",
    "    # Calculating the total population size N (the sum of the number of people in each compartment)\n",
    "    \n",
    "    N <- S+I+R\n",
    "    \n",
    "    # Calculating the FOI\n",
    "    \n",
    "    lambda <- beta*I/N  #  How can we define the force of infection? \n",
    "      \n",
    "      # The differential equations\n",
    "      dS <-  - lambda * S # can you write the differential equation for S? \n",
    "      dI <- lambda * S - I*(gamma+mu)     \n",
    "    dR <- gamma * I\n",
    "    dM <- I*mu\n",
    "    \n",
    "    return(list(c(dS, dI, dR, dM))) \n",
    "  })\n",
    "  \n",
    "}\n",
    "\n",
    "\n",
    "\n",
    "# MODEL OUTPUT (solving the differential equations):\n",
    "\n",
    "# Solving the differential equations using the ode integration algorithm\n",
    "output <- as.data.frame(ode(y = initial_state_values, \n",
    "                            times = times, \n",
    "                            func = sir_model,\n",
    "                            parms = parameters))\n",
    "\n",
    "\n",
    "\n",
    "# turn output data set into long format\n",
    "output_long <- melt(as.data.frame(output), id = \"time\")                 \n",
    "\n",
    "\n",
    "# Plot the number of people in the S, I and R compartments over time\n",
    "ggplot(data = output_long,                                               # specify object containing data to plot\n",
    "       aes(x = time, y = value, colour = variable, group = variable)) +  # assign columns to axes and groups\n",
    "  geom_line(size=2) +                                                          # represent data as lines\n",
    "  xlab(\"Time (days)\")+                                                   # add label for x axis\n",
    "  ylab(\"Number\") +                                                       # add label for y axis\n",
    "  labs(colour = \"Compartment\",                                           # add legend title  \n",
    "       title = \"SIR model\")    \n",
    "\n",
    "\n",
    "\n",
    "# Plot the proportion of individuals \n",
    "\n",
    "output2_long<- output_long\n",
    "output2_long$value<-output_long$value/N\n",
    "\n",
    "\n",
    "# Plot the proportion of people in the S, I and R compartments over time\n",
    "ggplot(data = output2_long,                                               # specify object containing data to plot\n",
    "       aes(x = time, y = value, colour = variable, group = variable)) +  # assign columns to axes and groups\n",
    "  geom_line(size=2) +                                                          # represent data as lines\n",
    "  xlab(\"Time (days)\")+                                                   # add label for x axis\n",
    "  ylab(\"Number\") +                                                       # add label for y axis\n",
    "  labs(colour = \"Compartment\",                                           # add legend title  \n",
    "       title = \"SIR model\")   \n"
   ]
  },
  {
   "cell_type": "markdown",
   "id": "26c1419f",
   "metadata": {},
   "source": [
    "## Analysis of SIR assumptions\n",
    "\n",
    "Think about the main assumptions and concepts reviewed in our lesson and try to answer:\n",
    "\n",
    "1)  Why is the homogeneous assumption of risk of infection a simplification and what factors can affect this? What are potential sources of heterogeneity?\n",
    "\n",
    "    **Answer: Among the potential sources of heterogeneity we can list increased susceptibility among some susceptible (immunosuppression) or increased exposure to infection by factors like age or occupation.**\n",
    "\n",
    "2)  What factors might affect our assumption of a homogeneous p across the population?\n",
    "\n",
    "    **Answer: p is the probability of transmission per contact. This constant can widely vary given the type of contact, the intensity and duration of the contact and even the phase of disease of the infection donor in each contact. So it is a simplification, but it holds well for describing the population level behavior of the outbreak.**"
   ]
  }
 ],
 "metadata": {
  "jupytext": {
   "cell_metadata_filter": "name,tags,echo,warning,-all",
   "main_language": "R",
   "notebook_metadata_filter": "-all"
  },
  "kernelspec": {
   "display_name": "R",
   "language": "R",
   "name": "ir"
  },
  "language_info": {
   "codemirror_mode": "r",
   "file_extension": ".r",
   "mimetype": "text/x-r-source",
   "name": "R",
   "pygments_lexer": "r",
   "version": "4.3.2"
  }
 },
 "nbformat": 4,
 "nbformat_minor": 5
}
