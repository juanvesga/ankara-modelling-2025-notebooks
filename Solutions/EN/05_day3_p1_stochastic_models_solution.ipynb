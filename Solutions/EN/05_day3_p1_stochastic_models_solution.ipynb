{
 "cells": [
  {
   "cell_type": "markdown",
   "id": "4c21472c",
   "metadata": {},
   "source": [
    "# Day 3 part 1: Stochastic models"
   ]
  },
  {
   "cell_type": "markdown",
   "id": "396068c8",
   "metadata": {},
   "source": [
    "<div style=\"background: #f8f9fa; padding: 0.5rem 1rem; border-radius: 8px; margin-bottom: 1rem; border-left: 4px solid #007bff;\">\n",
    "<a href=\"../../index.ipynb\" style=\"text-decoration: none; color: #007bff; font-weight: bold;\">← Back to Course Index</a> | \n",
    "<a href=\"../../index-tr.ipynb\" style=\"text-decoration: none; color: #dc3545; font-weight: bold;\">🇹🇷 Türkçe Index</a>\n",
    "</div>\n",
    "\n",
    "---"
   ]
  },
  {
   "cell_type": "markdown",
   "id": "d7b33205",
   "metadata": {},
   "source": [
    "In this practical we will apply some of the concepts about stochasticity, epidemic persistence and fade out probability. With that aim in mind we will start by exploring the binomial distribution, and how can we sample from a distribution in R.\n",
    "\n",
    "## Why we need the binomial distribution?\n",
    "\n",
    "In statistics and probability theory, we tend to associate certain even characteristics with a statistical distribution. We can say confidently for example, that the population body weight follows a Normal distribution. The normal distribution is continuous (your weight can be 74Kg or 74.37kg and be part of the distribution), and is defined by a mean and a standard deviation, which reflects the central measure and the spread of the data. For example, we say:\n",
    "\n",
    "$$\n",
    "Weight \\sim Normal(72.5,5)  \n",
    "$$"
   ]
  },
  {
   "cell_type": "code",
   "execution_count": 1,
   "id": "58b0ead1",
   "metadata": {
    "tags": [
     "remove_input"
    ],
    "vscode": {
     "languageId": "r"
    }
   },
   "outputs": [
    {
     "data": {
      "image/png": "[encoded data removed]",
      "text/plain": [
       "plot without title"
      ]
     },
     "metadata": {
      "image/png": {
       "height": 420,
       "width": 420
      }
     },
     "output_type": "display_data"
    }
   ],
   "source": [
    "x <- seq(40, 110, by = .5)\n",
    "\n",
    "y <- dnorm(x, mean = 72, sd = 5)\n",
    "\n",
    "plot(x,y,type = \"l\", xlab = \"Weight (kg)\", ylab = \"Probability\")\n",
    "lines(c(72,72),c(0,max(y)),col=\"red\")\n"
   ]
  },
  {
   "cell_type": "markdown",
   "id": "de15379d",
   "metadata": {},
   "source": [
    "The Binomial distribution on the other hand, is a discrete probability distribution of the number of successes in a sequence of experiments. Think about flipping a coin several times and counting the number of times you will get heads as a result. The Binomial distribution takes parameters *n* (number of trials), and *p* (probability of success). If we keep with our example of tossing a coin, we can say that if the coin is fair, the probability of success (get heads) is 50%. This means that if we toss the coin enough times the count of successes should approach 50%.\n",
    "\n",
    "Importantly, when we speak of binomial experiments of 1 trial (tossing the coin just once) we speak of *Bernoulli* trials. For trials \\> 1 we speak of the binomial distribution.\n",
    "\n",
    "Let us try this using R. In R, the base function *rbinom* is used to calculate this type of experiments. *rbinom* takes parameters *n* for number of observations, *size* for number of trials, and *prob* for probability of success. Run the code below:"
   ]
  },
  {
   "cell_type": "code",
   "execution_count": 2,
   "id": "47cd7a9f",
   "metadata": {
    "echo": true,
    "vscode": {
     "languageId": "r"
    }
   },
   "outputs": [
    {
     "data": {
      "text/html": [
       "1"
      ],
      "text/latex": [
       "1"
      ],
      "text/markdown": [
       "1"
      ],
      "text/plain": [
       "[1] 1"
      ]
     },
     "metadata": {},
     "output_type": "display_data"
    },
    {
     "data": {
      "text/html": [
       "49"
      ],
      "text/latex": [
       "49"
      ],
      "text/markdown": [
       "49"
      ],
      "text/plain": [
       "[1] 49"
      ]
     },
     "metadata": {},
     "output_type": "display_data"
    }
   ],
   "source": [
    "# Let's toss the coin once (Bernoulli)\n",
    "rbinom(n=1,size=1,prob=0.5)\n",
    "\n",
    "# Now let's try 100 trials\n",
    "rbinom(n=1,size=100,prob=0.5)"
   ]
  },
  {
   "cell_type": "markdown",
   "id": "1c34a4d9",
   "metadata": {},
   "source": [
    "a)  How many successes you got when tossing the coin 100 times?\n",
    "\n",
    "b)  What happens if you increase your number of trials?\n",
    "\n",
    "**Answer: The estimate is much closer to 50% (increase in sample size)**\n",
    "\n",
    "But let's examine a case more relevant for this course. Now that you know the binomial distribution, you can see how the binomial probability is relevant for the process of infection transmission. So far, we learnt in our previous lectures that transmission depends on at least three factors:\n",
    "\n",
    "The transmission probability $$\\beta $$, the prevalence of infection $$\\frac{I}{N} $$, and duration of infectious period $$D $$.\n",
    "\n",
    "As we examined before, the number of new infections (*Y*) at any point in time can be described by: $$\n",
    "Y = S\\frac{\\beta I}{N}\n",
    "$$ Where *S* is the number of susceptible individuals. In a deterministic view, as long as our variables and parameters are the same, this will always produce the same number. But as we learnt before, the process of infection involves randomness.\n",
    "\n",
    "To bring back the *Binomial* trials, we can see how we can fit our process of infection in this framework. At a given point, if the prevalence of infection is say, 10% and we know that *beta* = 0.2, we can say that the probability of infection is 0.1 x 0.2. The number of trials in this distribution is the number of susceptible. Try to adapt the code below to predict the number of infections accounting for stochastic events:"
   ]
  },
  {
   "cell_type": "code",
   "execution_count": 3,
   "id": "226c2dec",
   "metadata": {
    "echo": true,
    "vscode": {
     "languageId": "r"
    }
   },
   "outputs": [],
   "source": [
    "# Define our parameters\n",
    "R0 <- 2     # Basic reproduction number\n",
    "gamma<- 0.1 # recovery rate\n",
    "beta<-  0.2 # <- can you figure out beta from the R0 formula?\n",
    "prevalence <- 0.1 # Prevalence of infection (I/N)\n",
    "S <- 1000 # Susceptible individuals at time t  \n",
    "\n",
    "n_trials <- S\n",
    "probability_of_infection<-beta * prevalence \n",
    "\n",
    "# Draw from the binomial distribution to predict number of new infections Y \n",
    "Y<-rbinom(n=1,size= n_trials ,prob=probability_of_infection)  \n"
   ]
  },
  {
   "cell_type": "markdown",
   "id": "6fc94e0a",
   "metadata": {},
   "source": [
    "**Answer: The predicted number of infections is \\~14 (it will vary as it is a stochastic process)**\n",
    "\n",
    "Now that we have a better idea of how stochasticity in the infection process can be expressed with simple R commands, let's try formulating a stochastic model.\n",
    "\n",
    "### *Technical Parenthesis:*\n",
    "\n",
    "Stochastic model can be coded with different approached in R. We will use a package called *Odin*. Other packages or even base R can be used for this purpose, but I believe *Odin* gives us a very neat view of the construction of discrete stochastic process (see [here](https://mrc-ide.github.io/odin/index.html) for further information on Odin package). "
   ]
  },
  {
   "cell_type": "markdown",
   "id": "8b850118",
   "metadata": {},
   "source": [
    "## Formulating a stochastic model\n",
    "\n",
    "A new viral disease (disease \"X\") has been identified in your community. From surveillance data collected so far a few parameters have been estimated. An initial R0 has been estimated at \\~ 2, and the time from onset of symptoms to recovery has a mean of 8 days. It has also been noted in previous outbreaks of disease \"X\" that acquired immunity through infection has a median life of 3 months .\n",
    "\n",
    "The code below defines an SIR stochastic model. 1. Try to fill the gaps (marked with the *??* symbol), and pay attention at how stochastic events are incorporated in the infection process:"
   ]
  },
  {
   "cell_type": "code",
   "execution_count": 4,
   "id": "c8db1a87",
   "metadata": {
    "eval": false,
    "tags": [
     "remove_cell"
    ],
    "vscode": {
     "languageId": "r"
    }
   },
   "outputs": [
    {
     "name": "stderr",
     "output_type": "stream",
     "text": [
      "Loading required namespace: pkgbuild\n",
      "\n"
     ]
    }
   ],
   "source": [
    "\n",
    "library(odin)\n",
    "library(ggplot2)\n",
    "library(reshape2)\n",
    "\n",
    "sir_generator <- odin::odin({\n",
    "  ## Core equations for transitions between compartments:\n",
    "  update(S) <- S - n_SI + n_RS # Susceptible\n",
    "  update(I) <- I + n_SI - n_IR # Infectious\n",
    "  update(R) <- R + n_IR - n_RS # Recovered\n",
    "  \n",
    "  ## Individual probabilities of transition:\n",
    "  p_SI <- 1 - exp(-beta * I / N) # S to I\n",
    "  p_IR <- 1 - exp(-gamma)        # I to R\n",
    "  p_RS <- 1 - exp(-delta)        # R to S\n",
    "  \n",
    "  ## Draw from binomial distributions to define numbers changing between compartments:\n",
    "  n_SI <- rbinom(S, p_SI) # New infections\n",
    "  n_IR <- rbinom(I, p_IR) # New recovered \n",
    "  n_RS <- rbinom(R, p_RS) # New losing immunity \n",
    "  \n",
    "  ## Total population size\n",
    "  N <- S + I + R\n",
    "  \n",
    "  # Define beta in R0 terms\n",
    "  beta <- R0 * gamma #<------------------------- Can you define beta in terms of R0? \n",
    "\n",
    "  ## Initial states:\n",
    "  initial(S) <- S_ini\n",
    "  initial(I) <- I_ini\n",
    "  initial(R) <- 0\n",
    "  \n",
    "  ## User defined parameters - default in parentheses:\n",
    "  S_ini <- user()\n",
    "  I_ini <- user()\n",
    "  R0    <- user()\n",
    "  gamma <- user()\n",
    "  delta <- user()\n",
    "  \n",
    "}, verbose = FALSE)\n"
   ]
  },
  {
   "cell_type": "markdown",
   "id": "b07361dd",
   "metadata": {},
   "source": [
    "If you filled the gaps with the question marks, now,\n",
    "\n",
    "2.  Define the model parameters and run your model to see the results."
   ]
  },
  {
   "cell_type": "markdown",
   "id": "04d6d43f",
   "metadata": {},
   "source": [
    "Once you have run your model, you should see plot now."
   ]
  },
  {
   "cell_type": "code",
   "execution_count": 5,
   "id": "c772133f",
   "metadata": {
    "echo": true,
    "vscode": {
     "languageId": "r"
    }
   },
   "outputs": [
    {
     "data": {
      "image/png": "[encoded data removed]",
      "text/plain": [
       "plot without title"
      ]
     },
     "metadata": {
      "image/png": {
       "height": 420,
       "width": 420
      }
     },
     "output_type": "display_data"
    }
   ],
   "source": [
    "# Define parameters \n",
    "R0   <- 2 # R0  \n",
    "gamma<- 1/8 # recovery rate\n",
    "delta<- 1/90 # Immunity loss rate \n",
    "S0   <- 1000 # Susceptible population at time 0\n",
    "I0   <- 1    # Infectious population at time 0\n",
    "\n",
    "    \n",
    "# Create a model object \"sir\" with the defined parameters   \n",
    "sir <- sir_generator$new(\n",
    "  S_ini = S0,\n",
    "  I_ini = I0,\n",
    "  R0    = R0,\n",
    "  gamma = gamma,\n",
    "  delta = delta)\n",
    "\n",
    "# Set the seed for radom number generation (R standard)\n",
    "set.seed(1)\n",
    "\n",
    "# Run our SIR model for a period of two years (in day steps)\n",
    "t_end<- 365 * 2\n",
    "sir_res <- sir$run(0:t_end)\n",
    "\n",
    "#Plot our model\n",
    "\n",
    "sir_col <- c(\"Navyblue\", \"orangered2\", \"darkgreen\") # Plot colours\n",
    "\n",
    "days <- sir_res[, 1] # define time vector for our plot \n",
    "\n",
    "matplot(days, sir_res[, -1], xlab = \"Days\", ylab = \"Number of individuals\",\n",
    "        type = \"l\", col = sir_col, lty = 1)\n",
    "legend(\"topright\", lwd = 1, col = sir_col, legend = c(\"S\", \"I\", \"R\"), bty = \"n\")\n"
   ]
  },
  {
   "cell_type": "markdown",
   "id": "a55f4130",
   "metadata": {},
   "source": [
    "Given that we introduced a stochastic process, every model run will be different. Try running this same code several times to see how results vary.\n",
    "\n",
    "Form our lecture on epidemic persistence, you might remember that we can roughly estimate a threshold under which the probability of extinction becomes more likely.\n",
    "\n",
    "3.  Try to define that threshold in the code below, and plot your model again to see your infections plotted against this threshold"
   ]
  },
  {
   "cell_type": "code",
   "execution_count": 6,
   "id": "754477fe",
   "metadata": {
    "echo": true,
    "vscode": {
     "languageId": "r"
    }
   },
   "outputs": [
    {
     "data": {
      "image/png": "[encoded data removed]",
      "text/plain": [
       "plot without title"
      ]
     },
     "metadata": {
      "image/png": {
       "height": 420,
       "width": 420
      }
     },
     "output_type": "display_data"
    }
   ],
   "source": [
    "# Define a threshold\n",
    "\n",
    "Y_limit <- sqrt(1001) # Hint look at lecture slides for how \n",
    "\n",
    "#Plot our model\n",
    "\n",
    "sir_col <- c(\"Navyblue\", \"orangered2\", \"darkgreen\") # Plot colours\n",
    "\n",
    "days <- sir_res[, 1] # define time vector for our plot \n",
    "\n",
    "matplot(days, sir_res[, 3], xlab = \"Days\", ylab = \"Number of individuals\",\n",
    "        type = \"l\", col = \"orangered2\", lty = 1)\n",
    "lines(c(0,365*2),c(Y_limit,Y_limit), col=\"black\")\n",
    "legend(\"topright\", lwd = 1, col = \"Orangered2\", legend = c(\"I\"), bty = \"n\")\n"
   ]
  },
  {
   "cell_type": "markdown",
   "id": "12957cfc",
   "metadata": {},
   "source": [
    "4.  What can you tell about the trend of infections over time?\n",
    "\n",
    "    **Answer: Infections have a large initial peak and subsequent smaller peaks**"
   ]
  },
  {
   "cell_type": "markdown",
   "id": "b1bd692e",
   "metadata": {},
   "source": [
    "5.  Try reproducing this analysis for a value of R0 = 1.1 and for R0 = 4. What do you observe?\n",
    "    **Answer: For R0=1.1**"
   ]
  },
  {
   "cell_type": "code",
   "execution_count": 7,
   "id": "3e23f167",
   "metadata": {
    "vscode": {
     "languageId": "r"
    }
   },
   "outputs": [
    {
     "data": {
      "image/png": "[encoded data removed]",
      "text/plain": [
       "plot without title"
      ]
     },
     "metadata": {
      "image/png": {
       "height": 420,
       "width": 420
      }
     },
     "output_type": "display_data"
    }
   ],
   "source": [
    " # Define parameters \n",
    "    R0   <- 4 # R0  \n",
    "    gamma<- 1/8 # recovery rate\n",
    "    delta<- 1/90 # Immunity loss rate \n",
    "    S0   <- 1000 # Susceptible population at time 0\n",
    "    I0   <- 1    # Infectious population at time 0\n",
    "\n",
    "        \n",
    "    # Create a model object \"sir\" with the defined parameters   \n",
    "    sir <- sir_generator$new(\n",
    "      S_ini = S0,\n",
    "      I_ini = I0,\n",
    "      R0    = R0,\n",
    "      gamma = gamma,\n",
    "      delta = delta)\n",
    "\n",
    "    # Set the seed for radom number generation (R standard)\n",
    "    set.seed(1)\n",
    "\n",
    "    # Run our SIR model for a period of two years (in day steps)\n",
    "    t_end<- 365 * 2\n",
    "    sir_res <- sir$run(0:t_end)\n",
    "\n",
    "    # Define a threshold\n",
    "\n",
    "    Y_limit <- sqrt(1001) # Hint look at lecture slides for how \n",
    "\n",
    "    #Plot our model\n",
    "\n",
    "    sir_col <- c(\"Navyblue\", \"orangered2\", \"darkgreen\") # Plot colours\n",
    "\n",
    "    days <- sir_res[, 1] # define time vector for our plot \n",
    "\n",
    "    matplot(days, sir_res[, 3], xlab = \"Days\", ylab = \"Number of individuals\",\n",
    "            type = \"l\", col = \"orangered2\", lty = 1)\n",
    "    lines(c(0,365*2),c(Y_limit,Y_limit), col=\"black\")\n",
    "    legend(\"topright\", lwd = 1, col = \"Orangered2\", legend = c(\"I\"), bty = \"n\")\n"
   ]
  },
  {
   "cell_type": "markdown",
   "id": "960168e0",
   "metadata": {},
   "source": [
    "6.  Using an R0=2, can you modify the value of delta, to assume a mean immunity loss of 1 year? What do you observe, and can you explain why such behavior?\n",
    "\n",
    "    **Answer: The immunity loss of 1 year is too long to sustain a susceptible population big enough to give rise to a new epidemic peak.**"
   ]
  },
  {
   "cell_type": "code",
   "execution_count": 8,
   "id": "1d5d862f",
   "metadata": {
    "vscode": {
     "languageId": "r"
    }
   },
   "outputs": [
    {
     "data": {
      "image/png": "[encoded data removed]",
      "text/plain": [
       "plot without title"
      ]
     },
     "metadata": {
      "image/png": {
       "height": 420,
       "width": 420
      }
     },
     "output_type": "display_data"
    },
    {
     "data": {
      "image/png": "[encoded data removed]",
      "text/plain": [
       "plot without title"
      ]
     },
     "metadata": {
      "image/png": {
       "height": 420,
       "width": 420
      }
     },
     "output_type": "display_data"
    }
   ],
   "source": [
    "# Define parameters \n",
    "    R0   <- 2 # R0  \n",
    "    gamma<- 1/8 # recovery rate\n",
    "    delta<- 1/365 # Immunity loss rate \n",
    "    S0   <- 1000 # Susceptible population at time 0\n",
    "    I0   <- 1    # Infectious population at time 0\n",
    "\n",
    "        \n",
    "    # Create a model object \"sir\" with the defined parameters   \n",
    "    sir <- sir_generator$new(\n",
    "      S_ini = S0,\n",
    "      I_ini = I0,\n",
    "      R0    = R0,\n",
    "      gamma = gamma,\n",
    "      delta = delta)\n",
    "\n",
    "    # Set the seed for radom number generation (R standard)\n",
    "    set.seed(1)\n",
    "\n",
    "    # Run our SIR model for a period of two years (in day steps)\n",
    "    t_end<- 365 * 2\n",
    "    sir_res <- sir$run(0:t_end)\n",
    "\n",
    "    #plot\n",
    "    sir_col <- c(\"Navyblue\", \"orangered2\", \"darkgreen\") # Plot colours\n",
    "\n",
    "    days <- sir_res[, 1] # define time vector for our plot \n",
    "\n",
    "    matplot(days, sir_res[, -1], xlab = \"Days\", ylab = \"Number of individuals\",\n",
    "            type = \"l\", col = sir_col, lty = 1)\n",
    "    legend(\"topright\", lwd = 1, col = sir_col, legend = c(\"S\", \"I\", \"R\"), bty = \"n\")\n",
    "\n",
    "\n",
    "\n",
    "    # Define a threshold\n",
    "\n",
    "    Y_limit <- sqrt(1001) # Hint look at lecture slides for how \n",
    "\n",
    "    #Plot our model\n",
    "\n",
    "    sir_col <- c(\"Navyblue\", \"orangered2\", \"darkgreen\") # Plot colours\n",
    "\n",
    "    days <- sir_res[, 1] # define time vector for our plot \n",
    "\n",
    "    matplot(days, sir_res[, 3], xlab = \"Days\", ylab = \"Number of individuals\",\n",
    "            type = \"l\", col = \"orangered2\", lty = 1)\n",
    "    lines(c(0,365*2),c(Y_limit,Y_limit), col=\"black\")\n",
    "    legend(\"topright\", lwd = 1, col = \"Orangered2\", legend = c(\"I\"), bty = \"n\")\n"
   ]
  },
  {
   "cell_type": "markdown",
   "id": "68b1ed94",
   "metadata": {},
   "source": [
    "We can use another feature of the *odin* package to run many simultaneous realizations of our model at once.\n",
    "\n",
    "7.  In the code below we will run our model 100 times and plot its results (before running, set the model back to R0=2 and immunity loss to 90 days)"
   ]
  },
  {
   "cell_type": "code",
   "execution_count": 9,
   "id": "42f02a86",
   "metadata": {
    "tags": [
     "remove_input"
    ],
    "vscode": {
     "languageId": "r"
    }
   },
   "outputs": [],
   "source": [
    "# Define parameters \n",
    "R0   <- 2 # R0  \n",
    "gamma<- 1/8 # recovery rate\n",
    "delta<- 1/90 # Immunity loss rate \n",
    "S0   <- 1000 # Susceptible population at time 0\n",
    "I0   <- 1    # Infectious population at time 0\n",
    "\n",
    "    \n",
    "# Create a model object \"sir\" with the defined parameters   \n",
    "sir <- sir_generator$new(\n",
    "  S_ini = S0,\n",
    "  I_ini = I0,\n",
    "  R0    = R0,\n",
    "  gamma = gamma,\n",
    "  delta = delta)\n",
    "\n",
    "# Set the seed for radom number generation (R standard)\n",
    "set.seed(1)\n",
    "\n",
    "# Run our SIR model for a period of two years (in day steps)\n",
    "t_end<- 365 * 2\n",
    "sir_res <- sir$run(0:t_end)"
   ]
  },
  {
   "cell_type": "code",
   "execution_count": 10,
   "id": "f3bd4af5",
   "metadata": {
    "echo": true,
    "vscode": {
     "languageId": "r"
    }
   },
   "outputs": [
    {
     "data": {
      "image/png": "[encoded data removed]",
      "text/plain": [
       "plot without title"
      ]
     },
     "metadata": {
      "image/png": {
       "height": 420,
       "width": 420
      }
     },
     "output_type": "display_data"
    }
   ],
   "source": [
    "# Use the replicate to repeat our model run 100 times\n",
    "sir_100 <- sir$run(0:t_end, replicate = 100)\n",
    "# res_200 <- sir$transform_variables(res_200)\n",
    "# res_200 <- cbind.data.frame(t = res_200[[1]], res_200[-1])\n",
    "\n",
    "matplot(sir_100[, 1,],sir_100[, 3,], xlab = \"Days\", ylab = \"Number of infections\",\n",
    "        type = \"l\", lty = 1, col=\"grey\")\n",
    "lines(c(0,t_end),c(Y_limit,Y_limit),type=\"l\", col=\"red\") \n",
    "legend(\"topright\", lwd = 1, col = \"grey\", legend = c(\"I\"), bty = \"n\")\n"
   ]
  },
  {
   "cell_type": "markdown",
   "id": "a299709e",
   "metadata": {},
   "source": [
    "Given that we have a number of replicates or simulations for the same model we could estimate a probability of epidemic extinction for the current model parameters. We can do it by looking how many of those Infections trajectories are equal to zero at the end of the simulation time.\n",
    "\n",
    "8.  Use the code below to estimate probability of extinction.\n",
    "9.  Change your model parameters to R0=4.5 and the to R0 = 1 and re estimate this value"
   ]
  },
  {
   "cell_type": "code",
   "execution_count": 11,
   "id": "c42bbb0a",
   "metadata": {
    "echo": true,
    "vscode": {
     "languageId": "r"
    }
   },
   "outputs": [
    {
     "data": {
      "text/html": [
       "0.49"
      ],
      "text/latex": [
       "0.49"
      ],
      "text/markdown": [
       "0.49"
      ],
      "text/plain": [
       "[1] 0.49"
      ]
     },
     "metadata": {},
     "output_type": "display_data"
    }
   ],
   "source": [
    "# Here we create a user defined function to find p. extinction\n",
    "prob_extinct<-function(results,t_end){\n",
    "  \n",
    "  n_extinct<-length(which(results[t_end,3,]==0)) # find simulations ending in zero\n",
    "  n_runs   <-length(results[1,1,])\n",
    "  \n",
    "  return(prob_extinction=n_extinct/n_runs) \n",
    "}\n",
    "\n",
    "# call the newly defined function, passing our model results object and time length\n",
    "prob_extinct(sir_100,t_end)"
   ]
  },
  {
   "cell_type": "markdown",
   "id": "0adf5962",
   "metadata": {},
   "source": [
    "**Answer: For R0=4.5 the extinction probability is \\~19%**"
   ]
  },
  {
   "cell_type": "code",
   "execution_count": 12,
   "id": "f1fa2ad9",
   "metadata": {
    "tags": [
     "remove_input"
    ],
    "vscode": {
     "languageId": "r"
    }
   },
   "outputs": [
    {
     "data": {
      "text/html": [
       "0.19"
      ],
      "text/latex": [
       "0.19"
      ],
      "text/markdown": [
       "0.19"
      ],
      "text/plain": [
       "[1] 0.19"
      ]
     },
     "metadata": {},
     "output_type": "display_data"
    },
    {
     "data": {
      "image/png": "[encoded data removed]",
      "text/plain": [
       "plot without title"
      ]
     },
     "metadata": {
      "image/png": {
       "height": 420,
       "width": 420
      }
     },
     "output_type": "display_data"
    }
   ],
   "source": [
    "# Define parameters \n",
    "R0   <- 4.5 # R0  \n",
    "gamma<- 1/8 # recovery rate\n",
    "delta<- 1/90 # Immunity loss rate \n",
    "S0   <- 1000 # Susceptible population at time 0\n",
    "I0   <- 1    # Infectious population at time 0\n",
    "\n",
    "    \n",
    "# Create a model object \"sir\" with the defined parameters   \n",
    "sir <- sir_generator$new(\n",
    "  S_ini = S0,\n",
    "  I_ini = I0,\n",
    "  R0    = R0,\n",
    "  gamma = gamma,\n",
    "  delta = delta)\n",
    "\n",
    "# Set the seed for radom number generation (R standard)\n",
    "set.seed(1)\n",
    "\n",
    "# Run our SIR model for a period of two years (in day steps)\n",
    "t_end<- 365 * 2\n",
    "sir_res <- sir$run(0:t_end)\n",
    "# Use the replicate to repeat our model run 100 times\n",
    "\n",
    "sir_100 <- sir$run(0:t_end, replicate = 100)\n",
    "# res_200 <- sir$transform_variables(res_200)\n",
    "# res_200 <- cbind.data.frame(t = res_200[[1]], res_200[-1])\n",
    "\n",
    "matplot(sir_100[, 1,],sir_100[, 3,], xlab = \"Days\", ylab = \"Number of infections\",\n",
    "        type = \"l\", lty = 1, col=\"grey\")\n",
    "lines(c(0,t_end),c(Y_limit,Y_limit),type=\"l\", col=\"red\") \n",
    "legend(\"topright\", lwd = 1, col = \"grey\", legend = c(\"I\"), bty = \"n\")\n",
    "\n",
    "prob_extinct(sir_100,t_end)"
   ]
  },
  {
   "cell_type": "markdown",
   "id": "e70dcc12",
   "metadata": {},
   "source": [
    "**Answer: For R0=1 the extinction probability is \\~100%**"
   ]
  },
  {
   "cell_type": "code",
   "execution_count": 13,
   "id": "f597e5e2",
   "metadata": {
    "tags": [
     "remove_input"
    ],
    "vscode": {
     "languageId": "r"
    }
   },
   "outputs": [
    {
     "data": {
      "text/html": [
       "1"
      ],
      "text/latex": [
       "1"
      ],
      "text/markdown": [
       "1"
      ],
      "text/plain": [
       "[1] 1"
      ]
     },
     "metadata": {},
     "output_type": "display_data"
    },
    {
     "data": {
      "image/png": "[encoded data removed]",
      "text/plain": [
       "plot without title"
      ]
     },
     "metadata": {
      "image/png": {
       "height": 420,
       "width": 420
      }
     },
     "output_type": "display_data"
    }
   ],
   "source": [
    "# Define parameters \n",
    "R0   <- 1 # R0  \n",
    "gamma<- 1/8 # recovery rate\n",
    "delta<- 1/90 # Immunity loss rate \n",
    "S0   <- 1000 # Susceptible population at time 0\n",
    "I0   <- 1    # Infectious population at time 0\n",
    "\n",
    "    \n",
    "# Create a model object \"sir\" with the defined parameters   \n",
    "sir <- sir_generator$new(\n",
    "  S_ini = S0,\n",
    "  I_ini = I0,\n",
    "  R0    = R0,\n",
    "  gamma = gamma,\n",
    "  delta = delta)\n",
    "\n",
    "# Set the seed for radom number generation (R standard)\n",
    "set.seed(1)\n",
    "\n",
    "# Run our SIR model for a period of two years (in day steps)\n",
    "t_end<- 365 * 2\n",
    "sir_res <- sir$run(0:t_end)\n",
    "# Use the replicate to repeat our model run 100 times\n",
    "\n",
    "sir_100 <- sir$run(0:t_end, replicate = 100)\n",
    "# res_200 <- sir$transform_variables(res_200)\n",
    "# res_200 <- cbind.data.frame(t = res_200[[1]], res_200[-1])\n",
    "\n",
    "matplot(sir_100[, 1,],sir_100[, 3,], xlab = \"Days\", ylab = \"Number of infections\",\n",
    "        type = \"l\", lty = 1, col=\"grey\")\n",
    "lines(c(0,t_end),c(Y_limit,Y_limit),type=\"l\", col=\"red\") \n",
    "legend(\"topright\", lwd = 1, col = \"grey\", legend = c(\"I\"), bty = \"n\")\n",
    "\n",
    "prob_extinct(sir_100,t_end)"
   ]
  }
 ],
 "metadata": {
  "jupytext": {
   "cell_metadata_filter": "eval,include,name,echo,tags,-all",
   "main_language": "R",
   "notebook_metadata_filter": "-all"
  },
  "kernelspec": {
   "display_name": "R",
   "language": "R",
   "name": "ir"
  },
  "language_info": {
   "codemirror_mode": "r",
   "file_extension": ".r",
   "mimetype": "text/x-r-source",
   "name": "R",
   "pygments_lexer": "r",
   "version": "4.3.2"
  }
 },
 "nbformat": 4,
 "nbformat_minor": 5
}
