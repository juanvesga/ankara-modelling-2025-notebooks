{
 "cells": [
  {
   "cell_type": "markdown",
   "id": "56a8469a",
   "metadata": {},
   "source": [
    "# Gün 1 bölüm 2: Rekabet eden tehlikelerle basit bir bölmeli modelin gösterimi"
   ]
  },
  {
   "cell_type": "markdown",
   "id": "e49548e8",
   "metadata": {},
   "source": [
    "<div style=\"background: #f8f9fa; padding: 0.5rem 1rem; border-radius: 8px; margin-bottom: 1rem; border-left: 4px solid #007bff;\">\n",
    "<a href=\"../../index.ipynb\" style=\"text-decoration: none; color: #007bff; font-weight: bold;\">← Kurs Dizinine Geri Dön</a> | \n",
    "<a href=\"../../index-tr.ipynb\" style=\"text-decoration: none; color: #dc3545; font-weight: bold;\">🇹🇷 Türkçe Index</a>\n",
    "</div>\n",
    "\n",
    "---"
   ]
  },
  {
   "cell_type": "markdown",
   "id": "b0a35c1d",
   "metadata": {},
   "source": [
    "## 1. Rekabet eden tehlikeler\n",
    "\n",
    "Artık modelimize sahip olduğumuza göre, daha fazla bölme ve rekabet eden tehlikeler durumunu inceleyerek karmaşıklık ekleyebiliriz. Bir sonraki alıştırmada, enfekte bireyler arasında ölüm olasılığını tanımlamak için I'dan çıkan bir ölüm bölmesi eklemek istiyoruz.\n",
    "\n",
    "Sonraki adımlar için, modellediğimiz hastalık için CFR'nin %30 olduğunu öne süren bilgiler topladığımızı hayal edin. Bu bilgiyi ve gözden geçirdiğimiz kavramları kullanarak yeni bir M bölmesi eklemeyi, bir ölüm oranı mu belirtmeyi ve modeli çalıştırmayı deneyin.\n",
    "\n",
    "Aşağıdaki betikteki eksik boşlukları doldurmaya çalışın:"
   ]
  },
  {
   "cell_type": "code",
   "execution_count": 1,
   "id": "d5719df8",
   "metadata": {
    "echo": true,
    "vscode": {
     "languageId": "r"
    },
    "warning": false
   },
   "outputs": [
    {
     "name": "stderr",
     "output_type": "stream",
     "text": [
      "here() starts at C:/Users/juano/Dropbox/Code/Git/ankara-modelling-2025-notebooks\n",
      "\n",
      "Warning message:\n",
      "\"\u001b[1m\u001b[22mUsing `size` aesthetic for lines was deprecated in ggplot2 3.4.0.\n",
      "\u001b[36mℹ\u001b[39m Please use `linewidth` instead.\"\n"
     ]
    },
    {
     "data": {
      "image/png": "[encoded data removed]",
      "text/plain": [
       "plot without title"
      ]
     },
     "metadata": {
      "image/png": {
       "height": 420,
       "width": 420
      }
     },
     "output_type": "display_data"
    }
   ],
   "source": [
    "# Bazı yararlı paketleri yükle:\n",
    "library(deSolve)  # Diferansiyel denklemleri çözmek için \n",
    "library(reshape2) # Model çıktımızı düzenlemek için\n",
    "library(ggplot2)  # Güzel grafikler üretmek için!\n",
    "library(here)     # Her zaman çalışma dizinimizde olduğumuzdan emin olmak için\n",
    "\n",
    "\n",
    "\n",
    "## Kohort modelimize ölümlülük ekle \n",
    "\n",
    "# Popülasyon büyüklüğü:\n",
    "N <- 1000\n",
    "\n",
    "# MODEL GİRDİLERİ:\n",
    "\n",
    "# Başlangıç koşulları\n",
    "initial_state_values <- c(\n",
    "  I = N,\n",
    "  M = 0,\n",
    "  R = 0)           \n",
    "\n",
    "# Günlük parametre değerleri\n",
    "\n",
    "# %30'luk bir CFR için, mu nedir? \n",
    "\n",
    "mu= 0.5*0.3/(1-0.3) # gamma*CFR/(1-CFR)\n",
    "\n",
    "parameters <- c(gamma = 1/2, mu)\n",
    "\n",
    "# ZAMAN ADIMLARI:\n",
    "\n",
    "# Modeli çözeceğimiz zaman adımları dizisini saklayan vektör\n",
    "times <- seq(from = 0, to = 50, by = 1)   # 0'dan 365 güne kadar günlük aralıklarla\n",
    "\n",
    "# MODEL FONKSİYONU: \n",
    "\n",
    "# Model fonksiyonu giriş argümanları olarak (şu sırayla) alır: zaman, durum ve parametreler\n",
    "cohort_model2 <- function(time, state, parameters) {  \n",
    "  \n",
    "  with(as.list(c(state, parameters)), {     \n",
    "    \n",
    "    # Toplam popülasyon büyüklüğü N'i hesaplama (her bölmedeki kişi sayısının toplamı)\n",
    "    N <- I + R\n",
    "    \n",
    "    # Diferansiyel denklemler\n",
    "    dI <- -(gamma+mu) * I     \n",
    "    dM <- I*mu\n",
    "    dR <- gamma * I\n",
    "    \n",
    "    return(list(c(dI, dM, dR))) \n",
    "  })\n",
    "  \n",
    "}\n",
    "\n",
    "# MODEL ÇIKTISI (diferansiyel denklemleri çözme):\n",
    "\n",
    "# ode entegrasyon algoritmasını kullanarak diferansiyel denklemleri çözme\n",
    "output2 <- as.data.frame(ode(y = initial_state_values, \n",
    "                             times = times, \n",
    "                             func = cohort_model2,\n",
    "                             parms = parameters))\n",
    "\n",
    "\n",
    "# çıktı veri setini uzun formata çevir\n",
    "output2_long <- melt(as.data.frame(output2), id = \"time\")                 \n",
    "\n",
    "\n",
    "# Yeni çıktıyı çiz\n",
    "ggplot(data = output2_long,                                               \n",
    "       aes(x = time, y = value, colour = variable, group = variable)) +  \n",
    "  geom_line(size=2) +                                                          \n",
    "  xlab(\"Zaman (gün)\")+                                                   \n",
    "  ylab(\"Sayı\") +                                                       \n",
    "  labs(colour = \"Bölme\",                                          \n",
    "       title = \"Kohort modeli\")    "
   ]
  },
  {
   "cell_type": "markdown",
   "id": "abe3c9fe",
   "metadata": {},
   "source": [
    "### 2.1 Simülasyonumuzdan CFR'yi keşfet\n",
    "\n",
    "Artık ölümlülük eklenmiş modelimiz var, modelden tahmin edilen CFR'nin CFR =%30'a karşılık gelip gelmediğini kontrol etmeyi deneyin\n",
    "\n",
    "Bunun için, her bölmedeki kişilerin oranını görmek isteyebiliriz"
   ]
  },
  {
   "cell_type": "code",
   "execution_count": 2,
   "id": "44d47a81",
   "metadata": {
    "echo": true,
    "vscode": {
     "languageId": "r"
    },
    "warning": false
   },
   "outputs": [
    {
     "data": {
      "image/png": "[encoded data removed]",
      "text/plain": [
       "plot without title"
      ]
     },
     "metadata": {
      "image/png": {
       "height": 420,
       "width": 420
      }
     },
     "output_type": "display_data"
    }
   ],
   "source": [
    "\n",
    "\n",
    "output3_long<- output2_long\n",
    "output3_long$value<-output2_long$value/N\n",
    "\n",
    "\n",
    "# S, I ve R bölmelerindeki kişilerin oranını zaman içinde çiz\n",
    "ggplot(data = output3_long,                                               \n",
    "       aes(x = time, y = value, colour = variable, group = variable)) +  \n",
    "  geom_line(size=2) +                                                        \n",
    "  xlab(\"Zaman (gün)\")+                                                  \n",
    "  ylab(\"Sayı\") +                                                      \n",
    "  labs(colour = \"Bölme\",                                          \n",
    "       title = \"Kohort modeli\")  \n",
    "\n",
    "\n"
   ]
  },
  {
   "cell_type": "markdown",
   "id": "dfcaf625",
   "metadata": {},
   "source": [
    "Grafikten hastalık sonucu ölen kişilerin oranının ne olduğunu söyleyebilir misiniz?\n",
    "\n",
    "C/ Yaklaşık %33"
   ]
  }
 ],
 "metadata": {
  "jupytext": {
   "cell_metadata_filter": "warning,tags,echo,name,-all",
   "main_language": "R",
   "notebook_metadata_filter": "-all"
  },
  "kernelspec": {
   "display_name": "R",
   "language": "R",
   "name": "ir"
  },
  "language_info": {
   "codemirror_mode": "r",
   "file_extension": ".r",
   "mimetype": "text/x-r-source",
   "name": "R",
   "pygments_lexer": "r",
   "version": "4.3.2"
  }
 },
 "nbformat": 4,
 "nbformat_minor": 5
}
