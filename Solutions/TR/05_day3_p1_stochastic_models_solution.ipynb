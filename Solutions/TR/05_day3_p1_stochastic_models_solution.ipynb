{
 "cells": [
  {
   "cell_type": "markdown",
   "id": "4c21472c",
   "metadata": {},
   "source": [
    "# Gün 3 bölüm 1: Stokastik modeller"
   ]
  },
  {
   "cell_type": "markdown",
   "id": "396068c8",
   "metadata": {},
   "source": [
    "<div style=\"background: #f8f9fa; padding: 0.5rem 1rem; border-radius: 8px; margin-bottom: 1rem; border-left: 4px solid #007bff;\">\n",
    "<a href=\"../../index.ipynb\" style=\"text-decoration: none; color: #007bff; font-weight: bold;\">← Kurs Dizinine Geri Dön</a> | \n",
    "<a href=\"../../index-tr.ipynb\" style=\"text-decoration: none; color: #dc3545; font-weight: bold;\">🇹🇷 Türkçe Index</a>\n",
    "</div>\n",
    "\n",
    "---"
   ]
  },
  {
   "cell_type": "markdown",
   "id": "d7b33205",
   "metadata": {},
   "source": [
    "Bu pratikte stokastiklik, salgın kalıcılığı ve sönme olasılığı hakkındaki bazı kavramları uygulayacağız. Bu amaçla binomial dağılımı keşfetmeye ve R'de bir dağılımdan nasıl örnekleme yapabileceğimizi öğrenmeye başlayacağız.\n",
    "\n",
    "## Neden binomial dağılıma ihtiyacımız var?\n",
    "\n",
    "İstatistik ve olasılık teorisinde, belirli olay özelliklerini istatistiksel bir dağılımla ilişkilendirme eğilimindeyiz. Örneğin, popülasyon vücut ağırlığının Normal dağılım izlediğini güvenle söyleyebiliriz. Normal dağılım süreklidir (ağırlığınız 74Kg veya 74.37kg olabilir ve dağılımın parçası olabilir) ve bir ortalama ve standart sapma ile tanımlanır, bu da merkezi ölçüyü ve verilerin yayılımını yansıtır. Örneğin, şöyle deriz:\n",
    "\n",
    "$$\n",
    "Ağırlık \\sim Normal(72.5,5)  \n",
    "$$"
   ]
  },
  {
   "cell_type": "code",
   "execution_count": 1,
   "id": "58b0ead1",
   "metadata": {
    "tags": [
     "remove_input"
    ],
    "vscode": {
     "languageId": "r"
    }
   },
   "outputs": [
    {
     "data": {
      "image/png": "[encoded data removed]",
      "text/plain": [
       "plot without title"
      ]
     },
     "metadata": {
      "image/png": {
       "height": 420,
       "width": 420
      }
     },
     "output_type": "display_data"
    }
   ],
   "source": [
    "x <- seq(40, 110, by = .5)\n",
    "\n",
    "y <- dnorm(x, mean = 72, sd = 5)\n",
    "\n",
    "plot(x,y,type = \"l\", xlab = \"Ağırlık (kg)\", ylab = \"Olasılık\")\n",
    "lines(c(72,72),c(0,max(y)),col=\"red\")\n"
   ]
  },
  {
   "cell_type": "markdown",
   "id": "de15379d",
   "metadata": {},
   "source": [
    "Öte yandan Binomial dağılım, bir dizi deneydeki başarı sayısının ayrık olasılık dağılımıdır. Bir parayı birkaç kez çevirmek ve sonuçta kaç kez yazı geleceğini saymak hakkında düşünün. Binomial dağılım *n* (deneme sayısı) ve *p* (başarı olasılığı) parametrelerini alır. Para atma örneğimizi sürdürürsek, paranın adil olması durumunda başarı olasılığının (yazı gelme) %50 olduğunu söyleyebiliriz. Bu, parayı yeterince çok attığımızda başarı sayısının %50'ye yaklaşması gerektiği anlamına gelir.\n",
    "\n",
    "Önemlisi, 1 denemelik binomial deneylerden (parayı sadece bir kez atmak) bahsettiğimizde *Bernoulli* denemelerinden bahsederiz. 1'den fazla deneme için binomial dağılımdan bahsederiz.\n",
    "\n",
    "Bunu R kullanarak deneyelim. R'de, temel *rbinom* fonksiyonu bu tür deneyleri hesaplamak için kullanılır. *rbinom* gözlem sayısı için *n*, deneme sayısı için *size* ve başarı olasılığı için *prob* parametrelerini alır. Aşağıdaki kodu çalıştırın:"
   ]
  },
  {
   "cell_type": "code",
   "execution_count": 2,
   "id": "47cd7a9f",
   "metadata": {
    "echo": true,
    "vscode": {
     "languageId": "r"
    }
   },
   "outputs": [
    {
     "data": {
      "text/html": [
       "0"
      ],
      "text/latex": [
       "0"
      ],
      "text/markdown": [
       "0"
      ],
      "text/plain": [
       "[1] 0"
      ]
     },
     "metadata": {},
     "output_type": "display_data"
    },
    {
     "data": {
      "text/html": [
       "52"
      ],
      "text/latex": [
       "52"
      ],
      "text/markdown": [
       "52"
      ],
      "text/plain": [
       "[1] 52"
      ]
     },
     "metadata": {},
     "output_type": "display_data"
    }
   ],
   "source": [
    "# Parayı bir kez atalım (Bernoulli)\n",
    "rbinom(n=1,size=1,prob=0.5)\n",
    "\n",
    "# Şimdi 100 deneme yapalım\n",
    "rbinom(n=1,size=100,prob=0.5)"
   ]
  },
  {
   "cell_type": "markdown",
   "id": "1c34a4d9",
   "metadata": {},
   "source": [
    "a)  Parayı 100 kez attığınızda kaç başarı elde ettiniz?\n",
    "\n",
    "b)  Deneme sayınızı artırırsanız ne olur?\n",
    "\n",
    "**Cevap: Tahmin %50'ye çok daha yakın (örneklem büyüklüğünde artış)**\n",
    "\n",
    "Ama bu kurs için daha alakalı bir vaka inceleyelim. Artık binomial dağılımı bildiğinize göre, binomial olasılığın enfeksiyon bulaşma süreci için nasıl alakalı olduğunu görebilirsiniz. Şu ana kadar, önceki derslerimizde bulaşmanın en az üç faktöre bağlı olduğunu öğrendik:\n",
    "\n",
    "Bulaşma olasılığı $$\\beta $$, enfeksiyon prevalansı $$\\frac{I}{N} $$, ve bulaştırıcılık dönemi süresi $$D $$.\n",
    "\n",
    "Daha önce incelediğimiz gibi, herhangi bir zaman noktasında yeni enfeksiyon sayısı (*Y*) şu şekilde tanımlanabilir: $$\n",
    "Y = S\\frac{\\beta I}{N}\n",
    "$$ Burada *S* duyarlı birey sayısıdır. Deterministik görüşte, değişkenlerimiz ve parametrelerimiz aynı olduğu sürece, bu her zaman aynı sayıyı üretecektir. Ancak daha önce öğrendiğimiz gibi, enfeksiyon süreci rastgelelik içerir.\n",
    "\n",
    "*Binomial* denemelerini geri getirmek için, enfeksiyon sürecimizi bu çerçeveye nasıl sığdırabileceğimizi görebiliriz. Belirli bir noktada, enfeksiyon prevalansının diyelim ki %10 olduğu ve *beta* = 0.2 olduğunu bildiğimiz durumda, enfeksiyon olasılığının 0.1 x 0.2 olduğunu söyleyebiliriz. Bu dağılımdaki deneme sayısı duyarlı sayıdır. Stokastik olayları hesaba katarak enfeksiyon sayısını tahmin etmek için aşağıdaki kodu uyarlamaya çalışın:"
   ]
  },
  {
   "cell_type": "code",
   "execution_count": null,
   "id": "226c2dec",
   "metadata": {
    "echo": true,
    "vscode": {
     "languageId": "r"
    }
   },
   "outputs": [],
   "source": [
    "# Parametrelerimizi tanımla\n",
    "R0 <- 2     # Temel üreme sayısı\n",
    "gamma<- 0.1 # iyileşme oranı\n",
    "beta<-  0.2 # <- R0 formülünden beta'yı bulabilir misin?\n",
    "prevalence <- 0.1 # Enfeksiyon prevalansı (I/N)\n",
    "S <- 1000 # t zamanında duyarlı bireyler  \n",
    "\n",
    "n_trials <- S\n",
    "probability_of_infection<-beta * prevalence \n",
    "\n",
    "# Yeni enfeksiyon sayısı Y'yi tahmin etmek için binomial dağılımdan çek \n",
    "Y<-rbinom(n=1,size= n_trials ,prob=probability_of_infection)  \n",
    "\n",
    "print(paste(\"yeni enfeksiyon sayısı\",Y))\n"
   ]
  },
  {
   "cell_type": "markdown",
   "id": "6fc94e0a",
   "metadata": {},
   "source": [
    "**Cevap: Tahmin edilen enfeksiyon sayısı ~14'tür (stokastik bir süreç olduğu için değişecektir)**\n",
    "\n",
    "Artık enfeksiyon sürecindeki stokastikliğin basit R komutlarıyla nasıl ifade edilebileceği konusunda daha iyi bir fikrimiz olduğuna göre, stokastik bir model formüle etmeyi deneyelim.\n",
    "\n",
    "### *Teknik Parantez:*\n",
    "\n",
    "Stokastik model R'de farklı yaklaşımlarla kodlanabilir. *Odin* adlı bir paket kullanacağız. Bu amaç için diğer paketler veya hatta temel R kullanılabilir, ancak *Odin*'in bize ayrık stokastik sürecin yapısının çok düzenli bir görünümünü verdiğine inanıyorum (Odin paketi hakkında daha fazla bilgi için [buraya](https://mrc-ide.github.io/odin/index.html) bakın)."
   ]
  },
  {
   "cell_type": "markdown",
   "id": "8b850118",
   "metadata": {},
   "source": [
    "## Stokastik model formüle etmek\n",
    "\n",
    "Toplumunuzda yeni bir viral hastalık (\"X\" hastalığı) tespit edildi. Şu ana kadar toplanan sürveyans verilerinden birkaç parametre tahmin edildi. İlk R0 yaklaşık 2 olarak tahmin edildi ve semptom başlangıcından iyileşmeye kadar geçen süre ortalama 8 gün. Ayrıca \"X\" hastalığının önceki salgınlarında enfeksiyon yoluyla kazanılan bağışıklığın medyan ömrünün 3 ay olduğu da not edildi.\n",
    "\n",
    "Aşağıdaki kod bir SIR stokastik modeli tanımlar. 1. Boşlukları (*??* sembolüyle işaretli) doldurmaya çalışın ve stokastik olayların enfeksiyon sürecine nasıl dahil edildiğine dikkat edin:"
   ]
  },
  {
   "cell_type": "code",
   "execution_count": 4,
   "id": "c8db1a87",
   "metadata": {
    "eval": false,
    "tags": [
     "remove_cell"
    ],
    "vscode": {
     "languageId": "r"
    }
   },
   "outputs": [
    {
     "name": "stderr",
     "output_type": "stream",
     "text": [
      "Loading required namespace: pkgbuild\n",
      "\n"
     ]
    }
   ],
   "source": [
    "\n",
    "library(odin)\n",
    "library(ggplot2)\n",
    "library(reshape2)\n",
    "\n",
    "sir_generator <- odin::odin({\n",
    "  ## Bölmeler arası geçişler için temel denklemler:\n",
    "  update(S) <- S - n_SI + n_RS # Duyarlı\n",
    "  update(I) <- I + n_SI - n_IR # Bulaştırıcı\n",
    "  update(R) <- R + n_IR - n_RS # İyileşen\n",
    "  \n",
    "  ## Bireysel geçiş olasılıkları:\n",
    "  p_SI <- 1 - exp(-beta * I / N) # S'den I'ya\n",
    "  p_IR <- 1 - exp(-gamma)        # I'den R'ya\n",
    "  p_RS <- 1 - exp(-delta)        # R'den S'ye\n",
    "  \n",
    "  ## Bölmeler arası değişen sayıları tanımlamak için binomial dağılımlardan çek:\n",
    "  n_SI <- rbinom(S, p_SI) # Yeni enfeksiyonlar\n",
    "  n_IR <- rbinom(I, p_IR) # Yeni iyileşenler \n",
    "  n_RS <- rbinom(R, p_RS) # Yeni bağışıklık kaybedenler \n",
    "  \n",
    "  ## Toplam popülasyon büyüklüğü\n",
    "  N <- S + I + R\n",
    "  \n",
    "  # Beta'yı R0 terimlerinde tanımla\n",
    "  beta <- R0 * gamma #<------------------------- Beta'yı R0 cinsinden tanımlayabilir misin? \n",
    "\n",
    "  ## Başlangıç durumları:\n",
    "  initial(S) <- S_ini\n",
    "  initial(I) <- I_ini\n",
    "  initial(R) <- 0\n",
    "  \n",
    "  ## Kullanıcı tanımlı parametreler - parantez içinde varsayılan:\n",
    "  S_ini <- user()\n",
    "  I_ini <- user()\n",
    "  R0    <- user()\n",
    "  gamma <- user()\n",
    "  delta <- user()\n",
    "  \n",
    "}, verbose = FALSE)\n"
   ]
  },
  {
   "cell_type": "markdown",
   "id": "b07361dd",
   "metadata": {},
   "source": [
    "Soru işaretli boşlukları doldurduysanız, şimdi,\n",
    "\n",
    "2.  Model parametrelerini tanımlayın ve sonuçları görmek için modelinizi çalıştırın."
   ]
  },
  {
   "cell_type": "markdown",
   "id": "04d6d43f",
   "metadata": {},
   "source": [
    "Modelinizi çalıştırdıktan sonra, şimdi bir grafik görmelisiniz."
   ]
  },
  {
   "cell_type": "code",
   "execution_count": 5,
   "id": "c772133f",
   "metadata": {
    "echo": true,
    "vscode": {
     "languageId": "r"
    }
   },
   "outputs": [
    {
     "data": {
      "image/png": "[encoded data removed]",
      "text/plain": [
       "plot without title"
      ]
     },
     "metadata": {
      "image/png": {
       "height": 420,
       "width": 420
      }
     },
     "output_type": "display_data"
    }
   ],
   "source": [
    "# Parametreleri tanımla \n",
    "R0   <- 2 # R0  \n",
    "gamma<- 1/8 # iyileşme oranı\n",
    "delta<- 1/90 # Bağışıklık kaybı oranı \n",
    "S0   <- 1000 # Zaman 0'da duyarlı popülasyon\n",
    "I0   <- 1    # Zaman 0'da bulaştırıcı popülasyon\n",
    "\n",
    "    \n",
    "# Tanımlı parametrelerle bir \"sir\" model nesnesi oluştur   \n",
    "sir <- sir_generator$new(\n",
    "  S_ini = S0,\n",
    "  I_ini = I0,\n",
    "  R0    = R0,\n",
    "  gamma = gamma,\n",
    "  delta = delta)\n",
    "\n",
    "# Rasgele sayı üretimi için tohum ayarla (R standardı)\n",
    "set.seed(1)\n",
    "\n",
    "# SIR modelimizi iki yıllık bir süre için çalıştır (günlük adımlarda)\n",
    "t_end<- 365 * 2\n",
    "sir_res <- sir$run(0:t_end)\n",
    "\n",
    "# Modelimizi çiz\n",
    "\n",
    "sir_col <- c(\"Navyblue\", \"orangered2\", \"darkgreen\") # Grafik renkleri\n",
    "\n",
    "days <- sir_res[, 1] # grafiğimiz için zaman vektörünü tanımla \n",
    "\n",
    "matplot(days, sir_res[, -1], xlab = \"Günler\", ylab = \"Birey sayısı\",\n",
    "        type = \"l\", col = sir_col, lty = 1)\n",
    "legend(\"topright\", lwd = 1, col = sir_col, legend = c(\"S\", \"I\", \"R\"), bty = \"n\")\n"
   ]
  },
  {
   "cell_type": "markdown",
   "id": "a55f4130",
   "metadata": {},
   "source": [
    "Stokastik bir süreç tanıttığımız için, her model çalışması farklı olacaktır. Sonuçların nasıl değiştiğini görmek için aynı kodu birkaç kez çalıştırmayı deneyin.\n",
    "\n",
    "Salgın kalıcılığı üzerine dersimizden, yok olma olasılığının daha muhtemel hale geldiği bir eşiği kabaca tahmin edebileceğimizi hatırlayabilirsiniz.\n",
    "\n",
    "3.  Aşağıdaki kodda o eşiği tanımlamaya çalışın ve enfeksiyonlarınızın bu eşiğe karşı çizildiğini görmek için modelinizi tekrar çizin"
   ]
  },
  {
   "cell_type": "code",
   "execution_count": 6,
   "id": "754477fe",
   "metadata": {
    "echo": true,
    "vscode": {
     "languageId": "r"
    }
   },
   "outputs": [
    {
     "data": {
      "image/png": "[encoded data removed]",
      "text/plain": [
       "plot without title"
      ]
     },
     "metadata": {
      "image/png": {
       "height": 420,
       "width": 420
      }
     },
     "output_type": "display_data"
    }
   ],
   "source": [
    "# Bir eşik tanımla\n",
    "\n",
    "Y_limit <- sqrt(1001) # İpucu ders slaytlarına bak \n",
    "\n",
    "# Modelimizi çiz\n",
    "\n",
    "sir_col <- c(\"Navyblue\", \"orangered2\", \"darkgreen\") # Grafik renkleri\n",
    "\n",
    "days <- sir_res[, 1] # grafiğimiz için zaman vektörünü tanımla \n",
    "\n",
    "matplot(days, sir_res[, 3], xlab = \"Günler\", ylab = \"Birey sayısı\",\n",
    "        type = \"l\", col = \"orangered2\", lty = 1)\n",
    "lines(c(0,365*2),c(Y_limit,Y_limit), col=\"black\")\n",
    "legend(\"topright\", lwd = 1, col = \"Orangered2\", legend = c(\"I\"), bty = \"n\")\n"
   ]
  },
  {
   "cell_type": "markdown",
   "id": "12957cfc",
   "metadata": {},
   "source": [
    "4.  Zaman içinde enfeksiyonların eğilimi hakkında ne söyleyebilirsiniz?\n",
    "\n",
    "    **Cevap: Enfeksiyonların büyük bir ilk zirvesi ve ardından daha küçük zirveleri var**"
   ]
  },
  {
   "cell_type": "markdown",
   "id": "b1bd692e",
   "metadata": {},
   "source": [
    "5.  Bu analizi R0 = 1.1 ve R0 = 4 değerleri için yeniden üretmeyi deneyin. Ne gözlemliyorsunuz?\n",
    "    **Cevap: R0=1.1 için**"
   ]
  },
  {
   "cell_type": "code",
   "execution_count": 7,
   "id": "3e23f167",
   "metadata": {
    "vscode": {
     "languageId": "r"
    }
   },
   "outputs": [
    {
     "data": {
      "image/png": "[encoded data removed]",
      "text/plain": [
       "plot without title"
      ]
     },
     "metadata": {
      "image/png": {
       "height": 420,
       "width": 420
      }
     },
     "output_type": "display_data"
    }
   ],
   "source": [
    " # Parametreleri tanımla \n",
    "    R0   <- 4 # R0  \n",
    "    gamma<- 1/8 # iyileşme oranı\n",
    "    delta<- 1/90 # Bağışıklık kaybı oranı \n",
    "    S0   <- 1000 # Zaman 0'da duyarlı popülasyon\n",
    "    I0   <- 1    # Zaman 0'da bulaştırıcı popülasyon\n",
    "\n",
    "        \n",
    "    # Tanımlı parametrelerle bir \"sir\" model nesnesi oluştur   \n",
    "    sir <- sir_generator$new(\n",
    "      S_ini = S0,\n",
    "      I_ini = I0,\n",
    "      R0    = R0,\n",
    "      gamma = gamma,\n",
    "      delta = delta)\n",
    "\n",
    "    # Rasgele sayı üretimi için tohum ayarla (R standardı)\n",
    "    set.seed(1)\n",
    "\n",
    "    # SIR modelimizi iki yıllık bir süre için çalıştır (günlük adımlarda)\n",
    "    t_end<- 365 * 2\n",
    "    sir_res <- sir$run(0:t_end)\n",
    "\n",
    "    # Bir eşik tanımla\n",
    "\n",
    "    Y_limit <- sqrt(1001) # İpucu ders slaytlarına bak \n",
    "\n",
    "    # Modelimizi çiz\n",
    "\n",
    "    sir_col <- c(\"Navyblue\", \"orangered2\", \"darkgreen\") # Grafik renkleri\n",
    "\n",
    "    days <- sir_res[, 1] # grafiğimiz için zaman vektörünü tanımla \n",
    "\n",
    "    matplot(days, sir_res[, 3], xlab = \"Günler\", ylab = \"Birey sayısı\",\n",
    "            type = \"l\", col = \"orangered2\", lty = 1)\n",
    "    lines(c(0,365*2),c(Y_limit,Y_limit), col=\"black\")\n",
    "    legend(\"topright\", lwd = 1, col = \"Orangered2\", legend = c(\"I\"), bty = \"n\")\n"
   ]
  },
  {
   "cell_type": "markdown",
   "id": "960168e0",
   "metadata": {},
   "source": [
    "6.  R0=2 kullanarak, delta değerini ortalama 1 yıllık bağışıklık kaybı varsaymak için değiştirebilir misiniz? Ne gözlemliyorsunuz ve böyle bir davranışı açıklayabilir misiniz?\n",
    "\n",
    "    **Cevap: 1 yıllık bağışıklık kaybı, yeni bir salgın zirvesi oluşturacak kadar büyük duyarlı bir popülasyonu sürdürmek için çok uzun.**"
   ]
  },
  {
   "cell_type": "code",
   "execution_count": 8,
   "id": "1d5d862f",
   "metadata": {
    "vscode": {
     "languageId": "r"
    }
   },
   "outputs": [
    {
     "data": {
      "image/png": "[encoded data removed]",
      "text/plain": [
       "plot without title"
      ]
     },
     "metadata": {
      "image/png": {
       "height": 420,
       "width": 420
      }
     },
     "output_type": "display_data"
    },
    {
     "data": {
      "image/png": "[encoded data removed]",
      "text/plain": [
       "plot without title"
      ]
     },
     "metadata": {
      "image/png": {
       "height": 420,
       "width": 420
      }
     },
     "output_type": "display_data"
    }
   ],
   "source": [
    "# Parametreleri tanımla \n",
    "    R0   <- 2 # R0  \n",
    "    gamma<- 1/8 # iyileşme oranı\n",
    "    delta<- 1/365 # Bağışıklık kaybı oranı \n",
    "    S0   <- 1000 # Zaman 0'da duyarlı popülasyon\n",
    "    I0   <- 1    # Zaman 0'da bulaştırıcı popülasyon\n",
    "\n",
    "        \n",
    "    # Tanımlı parametrelerle bir \"sir\" model nesnesi oluştur   \n",
    "    sir <- sir_generator$new(\n",
    "      S_ini = S0,\n",
    "      I_ini = I0,\n",
    "      R0    = R0,\n",
    "      gamma = gamma,\n",
    "      delta = delta)\n",
    "\n",
    "    # Rasgele sayı üretimi için tohum ayarla (R standardı)\n",
    "    set.seed(1)\n",
    "\n",
    "    # SIR modelimizi iki yıllık bir süre için çalıştır (günlük adımlarda)\n",
    "    t_end<- 365 * 2\n",
    "    sir_res <- sir$run(0:t_end)\n",
    "\n",
    "    # çiz\n",
    "    sir_col <- c(\"Navyblue\", \"orangered2\", \"darkgreen\") # Grafik renkleri\n",
    "\n",
    "    days <- sir_res[, 1] # grafiğimiz için zaman vektörünü tanımla \n",
    "\n",
    "    matplot(days, sir_res[, -1], xlab = \"Günler\", ylab = \"Birey sayısı\",\n",
    "            type = \"l\", col = sir_col, lty = 1)\n",
    "    legend(\"topright\", lwd = 1, col = sir_col, legend = c(\"S\", \"I\", \"R\"), bty = \"n\")\n",
    "\n",
    "\n",
    "\n",
    "    # Bir eşik tanımla\n",
    "\n",
    "    Y_limit <- sqrt(1001) # İpucu ders slaytlarına bak \n",
    "\n",
    "    # Modelimizi çiz\n",
    "\n",
    "    sir_col <- c(\"Navyblue\", \"orangered2\", \"darkgreen\") # Grafik renkleri\n",
    "\n",
    "    days <- sir_res[, 1] # grafiğimiz için zaman vektörünü tanımla \n",
    "\n",
    "    matplot(days, sir_res[, 3], xlab = \"Günler\", ylab = \"Birey sayısı\",\n",
    "            type = \"l\", col = \"orangered2\", lty = 1)\n",
    "    lines(c(0,365*2),c(Y_limit,Y_limit), col=\"black\")\n",
    "    legend(\"topright\", lwd = 1, col = \"Orangered2\", legend = c(\"I\"), bty = \"n\")\n"
   ]
  },
  {
   "cell_type": "markdown",
   "id": "68b1ed94",
   "metadata": {},
   "source": [
    "*Odin* paketinin bir kez de birçok eşzamanlı gerçekleştirmeyi aynı anda çalıştırma özelliğini kullanabiliriz.\n",
    "\n",
    "7.  Aşağıdaki kodda modelimizi 100 kez çalıştıracağız ve sonuçlarını çizeceğiz (çalıştırmadan önce, modeli R0=2'ye ve bağışıklık kaybını 90 güne geri ayarlayın)"
   ]
  },
  {
   "cell_type": "code",
   "execution_count": 9,
   "id": "42f02a86",
   "metadata": {
    "tags": [
     "remove_input"
    ],
    "vscode": {
     "languageId": "r"
    }
   },
   "outputs": [],
   "source": [
    "# Parametreleri tanımla \n",
    "R0   <- 2 # R0  \n",
    "gamma<- 1/8 # iyileşme oranı\n",
    "delta<- 1/90 # Bağışıklık kaybı oranı \n",
    "S0   <- 1000 # Zaman 0'da duyarlı popülasyon\n",
    "I0   <- 1    # Zaman 0'da bulaştırıcı popülasyon\n",
    "\n",
    "    \n",
    "# Tanımlı parametrelerle bir \"sir\" model nesnesi oluştur   \n",
    "sir <- sir_generator$new(\n",
    "  S_ini = S0,\n",
    "  I_ini = I0,\n",
    "  R0    = R0,\n",
    "  gamma = gamma,\n",
    "  delta = delta)\n",
    "\n",
    "# Rasgele sayı üretimi için tohum ayarla (R standardı)\n",
    "set.seed(1)\n",
    "\n",
    "# SIR modelimizi iki yıllık bir süre için çalıştır (günlük adımlarda)\n",
    "t_end<- 365 * 2\n",
    "sir_res <- sir$run(0:t_end)"
   ]
  },
  {
   "cell_type": "code",
   "execution_count": 10,
   "id": "f3bd4af5",
   "metadata": {
    "echo": true,
    "vscode": {
     "languageId": "r"
    }
   },
   "outputs": [
    {
     "data": {
      "image/png": "[encoded data removed]",
      "text/plain": [
       "plot without title"
      ]
     },
     "metadata": {
      "image/png": {
       "height": 420,
       "width": 420
      }
     },
     "output_type": "display_data"
    }
   ],
   "source": [
    "# Modelimizi 100 kez tekrarlamak için replicate kullan\n",
    "sir_100 <- sir$run(0:t_end, replicate = 100)\n",
    "# res_200 <- sir$transform_variables(res_200)\n",
    "# res_200 <- cbind.data.frame(t = res_200[[1]], res_200[-1])\n",
    "\n",
    "matplot(sir_100[, 1,],sir_100[, 3,], xlab = \"Günler\", ylab = \"Enfeksiyon sayısı\",\n",
    "        type = \"l\", lty = 1, col=\"grey\")\n",
    "lines(c(0,t_end),c(Y_limit,Y_limit),type=\"l\", col=\"red\") \n",
    "legend(\"topright\", lwd = 1, col = \"grey\", legend = c(\"I\"), bty = \"n\")\n"
   ]
  },
  {
   "cell_type": "markdown",
   "id": "a299709e",
   "metadata": {},
   "source": [
    "Aynı model için bir dizi replikatımız veya simülasyonumuz olduğuna göre, mevcut model parametreleri için salgın yok olma olasılığını tahmin edebiliriz. Bunu, simülasyon zamanının sonunda sıfıra eşit olan Enfeksiyon yörüngelerinin kaçının olduğuna bakarak yapabiliriz.\n",
    "\n",
    "8.  Yok olma olasılığını tahmin etmek için aşağıdaki kodu kullanın.\n",
    "9.  Model parametrelerinizi R0=4.5'e ve sonra R0 = 1'e değiştirin ve bu değeri yeniden tahmin edin"
   ]
  },
  {
   "cell_type": "code",
   "execution_count": 11,
   "id": "c42bbb0a",
   "metadata": {
    "echo": true,
    "vscode": {
     "languageId": "r"
    }
   },
   "outputs": [
    {
     "data": {
      "text/html": [
       "0.49"
      ],
      "text/latex": [
       "0.49"
      ],
      "text/markdown": [
       "0.49"
      ],
      "text/plain": [
       "[1] 0.49"
      ]
     },
     "metadata": {},
     "output_type": "display_data"
    }
   ],
   "source": [
    "# Burada p. yok olmasını bulmak için kullanıcı tanımlı bir fonksiyon oluşturuyoruz\n",
    "prob_extinct<-function(results,t_end){\n",
    "  \n",
    "  n_extinct<-length(which(results[t_end,3,]==0)) # sıfırda biten simülasyonları bul\n",
    "  n_runs   <-length(results[1,1,])\n",
    "  \n",
    "  return(prob_extinction=n_extinct/n_runs) \n",
    "}\n",
    "\n",
    "# yeni tanımlanan fonksiyonu çağır, model sonuçları nesnemizi ve zaman uzunluğunu geç\n",
    "prob_extinct(sir_100,t_end)"
   ]
  },
  {
   "cell_type": "markdown",
   "id": "0adf5962",
   "metadata": {},
   "source": [
    "**Cevap: R0=4.5 için yok olma olasılığı ~%19**"
   ]
  },
  {
   "cell_type": "code",
   "execution_count": 12,
   "id": "f1fa2ad9",
   "metadata": {
    "tags": [
     "remove_input"
    ],
    "vscode": {
     "languageId": "r"
    }
   },
   "outputs": [
    {
     "data": {
      "text/html": [
       "0.19"
      ],
      "text/latex": [
       "0.19"
      ],
      "text/markdown": [
       "0.19"
      ],
      "text/plain": [
       "[1] 0.19"
      ]
     },
     "metadata": {},
     "output_type": "display_data"
    },
    {
     "data": {
      "image/png": "[encoded data removed]",
      "text/plain": [
       "plot without title"
      ]
     },
     "metadata": {
      "image/png": {
       "height": 420,
       "width": 420
      }
     },
     "output_type": "display_data"
    }
   ],
   "source": [
    "# Parametreleri tanımla \n",
    "R0   <- 4.5 # R0  \n",
    "gamma<- 1/8 # iyileşme oranı\n",
    "delta<- 1/90 # Bağışıklık kaybı oranı \n",
    "S0   <- 1000 # Zaman 0'da duyarlı popülasyon\n",
    "I0   <- 1    # Zaman 0'da bulaştırıcı popülasyon\n",
    "\n",
    "    \n",
    "# Tanımlı parametrelerle bir \"sir\" model nesnesi oluştur   \n",
    "sir <- sir_generator$new(\n",
    "  S_ini = S0,\n",
    "  I_ini = I0,\n",
    "  R0    = R0,\n",
    "  gamma = gamma,\n",
    "  delta = delta)\n",
    "\n",
    "# Rasgele sayı üretimi için tohum ayarla (R standardı)\n",
    "set.seed(1)\n",
    "\n",
    "# SIR modelimizi iki yıllık bir süre için çalıştır (günlük adımlarda)\n",
    "t_end<- 365 * 2\n",
    "sir_res <- sir$run(0:t_end)\n",
    "# Modelimizi 100 kez tekrarlamak için replicate kullan\n",
    "\n",
    "sir_100 <- sir$run(0:t_end, replicate = 100)\n",
    "# res_200 <- sir$transform_variables(res_200)\n",
    "# res_200 <- cbind.data.frame(t = res_200[[1]], res_200[-1])\n",
    "\n",
    "matplot(sir_100[, 1,],sir_100[, 3,], xlab = \"Günler\", ylab = \"Enfeksiyon sayısı\",\n",
    "        type = \"l\", lty = 1, col=\"grey\")\n",
    "lines(c(0,t_end),c(Y_limit,Y_limit),type=\"l\", col=\"red\") \n",
    "legend(\"topright\", lwd = 1, col = \"grey\", legend = c(\"I\"), bty = \"n\")\n",
    "\n",
    "prob_extinct(sir_100,t_end)"
   ]
  },
  {
   "cell_type": "markdown",
   "id": "e70dcc12",
   "metadata": {},
   "source": [
    "**Cevap: R0=1 için yok olma olasılığı ~%100**"
   ]
  },
  {
   "cell_type": "code",
   "execution_count": 13,
   "id": "f597e5e2",
   "metadata": {
    "tags": [
     "remove_input"
    ],
    "vscode": {
     "languageId": "r"
    }
   },
   "outputs": [
    {
     "data": {
      "text/html": [
       "1"
      ],
      "text/latex": [
       "1"
      ],
      "text/markdown": [
       "1"
      ],
      "text/plain": [
       "[1] 1"
      ]
     },
     "metadata": {},
     "output_type": "display_data"
    },
    {
     "data": {
      "image/png": "[encoded data removed]",
      "text/plain": [
       "plot without title"
      ]
     },
     "metadata": {
      "image/png": {
       "height": 420,
       "width": 420
      }
     },
     "output_type": "display_data"
    }
   ],
   "source": [
    "# Parametreleri tanımla \n",
    "R0   <- 1 # R0  \n",
    "gamma<- 1/8 # iyileşme oranı\n",
    "delta<- 1/90 # Bağışıklık kaybı oranı \n",
    "S0   <- 1000 # Zaman 0'da duyarlı popülasyon\n",
    "I0   <- 1    # Zaman 0'da bulaştırıcı popülasyon\n",
    "\n",
    "    \n",
    "# Tanımlı parametrelerle bir \"sir\" model nesnesi oluştur   \n",
    "sir <- sir_generator$new(\n",
    "  S_ini = S0,\n",
    "  I_ini = I0,\n",
    "  R0    = R0,\n",
    "  gamma = gamma,\n",
    "  delta = delta)\n",
    "\n",
    "# Rasgele sayı üretimi için tohum ayarla (R standardı)\n",
    "set.seed(1)\n",
    "\n",
    "# SIR modelimizi iki yıllık bir süre için çalıştır (günlük adımlarda)\n",
    "t_end<- 365 * 2\n",
    "sir_res <- sir$run(0:t_end)\n",
    "# Modelimizi 100 kez tekrarlamak için replicate kullan\n",
    "\n",
    "sir_100 <- sir$run(0:t_end, replicate = 100)\n",
    "# res_200 <- sir$transform_variables(res_200)\n",
    "# res_200 <- cbind.data.frame(t = res_200[[1]], res_200[-1])\n",
    "\n",
    "matplot(sir_100[, 1,],sir_100[, 3,], xlab = \"Günler\", ylab = \"Enfeksiyon sayısı\",\n",
    "        type = \"l\", lty = 1, col=\"grey\")\n",
    "lines(c(0,t_end),c(Y_limit,Y_limit),type=\"l\", col=\"red\") \n",
    "legend(\"topright\", lwd = 1, col = \"grey\", legend = c(\"I\"), bty = \"n\")\n",
    "\n",
    "prob_extinct(sir_100,t_end)"
   ]
  }
 ],
 "metadata": {
  "jupytext": {
   "cell_metadata_filter": "eval,include,name,echo,tags,-all",
   "main_language": "R",
   "notebook_metadata_filter": "-all"
  },
  "kernelspec": {
   "display_name": "R",
   "language": "R",
   "name": "ir"
  },
  "language_info": {
   "codemirror_mode": "r",
   "file_extension": ".r",
   "mimetype": "text/x-r-source",
   "name": "R",
   "pygments_lexer": "r",
   "version": "4.3.2"
  }
 },
 "nbformat": 4,
 "nbformat_minor": 5
}
