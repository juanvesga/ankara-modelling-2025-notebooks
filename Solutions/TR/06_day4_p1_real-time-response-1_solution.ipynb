{
 "cells": [
  {
   "cell_type": "markdown",
   "id": "3b4af502",
   "metadata": {},
   "source": [
    "# Gün 4 bölüm 1: Salgın verileriyle gerçek zamanlı"
   ]
  },
  {
   "cell_type": "markdown",
   "id": "4f7ecbfc",
   "metadata": {},
   "source": [
    "<div style=\"background: #f8f9fa; padding: 0.5rem 1rem; border-radius: 8px; margin-bottom: 1rem; border-left: 4px solid #007bff;\">\n",
    "<a href=\"../../index.ipynb\" style=\"text-decoration: none; color: #007bff; font-weight: bold;\">← Kurs İndeksine Geri Dön</a> | \n",
    "<a href=\"../../index-tr.ipynb\" style=\"text-decoration: none; color: #dc3545; font-weight: bold;\">🇹🇷 Türkçe İndeks</a>\n",
    "</div>\n",
    "\n",
    "---"
   ]
  },
  {
   "cell_type": "markdown",
   "id": "91bdfe56",
   "metadata": {},
   "source": [
    "## Giriş\n",
    "\n",
    "Bu uygulama (iki bölümde) bir Ebola Virüs Hastalığı (EVD) salgınının erken değerlendirmesini ve yeniden yapılandırılmasını simüle eder. Vaka ölüm oranı (CFR), epieğriler, büyüme oranı tahmini, temas izleme verileri, gecikmeler ve bulaştırıcılık tahminleri dahil olmak üzere salgının erken aşamasının analizinin çeşitli yönlerini tanıtır."
   ]
  },
  {
   "cell_type": "markdown",
   "id": "35de6626",
   "metadata": {},
   "source": [
    "## Öğrenme çıktıları\n",
    "\n",
    "Bu uygulamanın sonunda şunları yapabilmelisiniz:\n",
    "\n",
    "- R'de salgın verilerini yükleme ve temizleme ([bölüm 1](./real-time-response-1.html))\n",
    "\n",
    "- Vaka ölüm oranını (CFR) tahmin etme ([bölüm 1](./real-time-response-1.html))\n",
    "\n",
    "- Çizgi listesinden insidans hesaplama ve çizme ([bölüm 1](./real-time-response-1.html))\n",
    "\n",
    "- Salgının büyüme oranını ve ikiye katlanma süresini tahmin etme ve yorumlama ([bölüm 2](./real-time-response-2.html))\n",
    "\n",
    "- Bulaştıran / bulaşan birey çiftlerine dair verilerden seri aralığı tahmin etme ([bölüm 2](./real-time-response-2.html))\n",
    "\n",
    "- Salgının üreme sayısını tahmin etme ve yorumlama ([bölüm 2](./real-time-response-2.html))\n",
    "\n",
    "- Kısa vadeli gelecekteki insidansı öngörme ([bölüm 2](./real-time-response-2.html))\n",
    "\n",
    "\n",
    "## Batı Afrika'da kurgusal bir ülkede yeni bir EVD salgını\n",
    "\n",
    "Batı Afrika'da kurgusal bir ülkede yeni bir EVD salgını bildirildi. Sağlık Bakanlığı salgın müdahalesini koordine etmekle görevli ve sizi gerçek zamanlı müdahaleyi bilgilendirmek için salgın analizi konusunda danışman olarak görevlendirdi.\n",
    "\n",
    "## Gerekli paketler \n",
    "\n",
    "CRAN veya github'da mevcut olan aşağıdaki paketler bu analiz için gereklidir.\n",
    "Gerekli paketleri şu şekilde kurun:"
   ]
  },
  {
   "cell_type": "markdown",
   "id": "cef7ede4",
   "metadata": {},
   "source": [
    "Paketler kurulduktan sonra yeni bir R oturumu açmanız gerekebilir. Ardından kütüphaneleri şu şekilde yükleyin:"
   ]
  },
  {
   "cell_type": "code",
   "execution_count": null,
   "id": "9f37f7c0",
   "metadata": {
    "message": false,
    "name": "load_library",
    "vscode": {
     "languageId": "r"
    },
    "warning": false
   },
   "outputs": [
    {
     "name": "stderr",
     "output_type": "stream",
     "text": [
      "Warning message:\n",
      "\"package 'outbreaks' was built under R version 4.3.3\"\n",
      "Warning message:\n",
      "\"package 'distcrete' was built under R version 4.3.3\"\n",
      "Warning message:\n",
      "\"package 'binom' was built under R version 4.3.3\"\n",
      "Warning message:\n",
      "\"package 'ape' was built under R version 4.3.3\"\n",
      "Warning message:\n",
      "\"package 'outbreaker2' was built under R version 4.3.3\"\n",
      "\n",
      "Attaching package: 'outbreaker2'\n",
      "\n",
      "\n",
      "The following object is masked from 'package:epicontacts':\n",
      "\n",
      "    cases_pal\n",
      "\n",
      "\n",
      "here() starts at C:/Users/juano/Dropbox/Code/Git/ankara-modelling-2025-notebooks\n",
      "\n"
     ]
    }
   ],
   "source": [
    "library(readxl)\n",
    "library(outbreaks)\n",
    "library(incidence)\n",
    "library(distcrete)\n",
    "library(epitrix)\n",
    "library(EpiEstim)\n",
    "library(projections)\n",
    "library(ggplot2)\n",
    "library(magrittr)\n",
    "library(binom)\n",
    "library(ape)\n",
    "library(outbreaker2)\n",
    "library(here)"
   ]
  },
  {
   "cell_type": "markdown",
   "id": "3b35eafe",
   "metadata": {},
   "source": [
    "## Erken veriler (verileri R'ye okuma)\n",
    "\n",
    "Size aşağıdaki çizgi listesi ve temas verileri verildi:\n",
    "\n",
    "**linelist_20140701.xlsx**: 1 Temmuz 2014'e kadar vaka bilgilerini içeren bir çizgi listesi; ve\n",
    "\n",
    "**contact_20140701.xlsx**: 1 Temmuz 2014'e kadar vakalar arasında bildirilen temasların listesi. \"infector\" potansiyel enfeksiyon kaynağını, \"case_id\" ise temasın alıcısını belirtir.\n",
    "\n",
    "R'ye okumak için bu dosyaları indirin ve verileri içe aktarmak için `readxl` paketindeki `read_xlsx()` fonksiyonunu kullanın. Her içe aktarma işlemi `tibble` nesnesi olarak saklanan bir veri tablosu oluşturacak.\n",
    "\n",
    "- Birincisini `linelist`, ve  \n",
    "- ikincisini `contacts` olarak adlandırın. \n",
    "\n",
    "Örneğin, ilk komut satırınız şöyle görünebilir:  \n",
    "\n"
   ]
  },
  {
   "cell_type": "code",
   "execution_count": 2,
   "id": "fe403f6e",
   "metadata": {
    "name": "read_data_ni",
    "tags": [
     "remove_cell"
    ],
    "vscode": {
     "languageId": "r"
    }
   },
   "outputs": [],
   "source": [
    "linelist <- read_excel(here(\"data\",\"linelist_20140701.xlsx\"), na = c(\"\", \"NA\"))\n",
    "contacts <- read_excel(here(\"data\",\"contacts_20140701.xlsx\"), na = c(\"\", \"NA\"))"
   ]
  },
  {
   "cell_type": "markdown",
   "id": "10d61613",
   "metadata": {},
   "source": [
    "Buradaki verilere ve yapıya bakmak için biraz zaman ayırın.\n",
    "\n",
    "- Veriler ve format daha önce gördüğünüz çizgi listelerine benziyor mu?\n",
    "- Salgın araştırma ekibinin bir parçası olsaydınız, başka hangi bilgileri toplamak isteyebilirdiniz?"
   ]
  },
  {
   "cell_type": "code",
   "execution_count": 3,
   "id": "9020c169",
   "metadata": {
    "echo": "#R_CODE#params$full_version",
    "name": "explore_data",
    "vscode": {
     "languageId": "r"
    }
   },
   "outputs": [
    {
     "data": {
      "text/html": [
       "<style>\n",
       ".list-inline {list-style: none; margin:0; padding: 0}\n",
       ".list-inline>li {display: inline-block}\n",
       ".list-inline>li:not(:last-child)::after {content: \"\\00b7\"; padding: 0 .5ex}\n",
       "</style>\n",
       "<ol class=list-inline><li>169</li><li>11</li></ol>\n"
      ],
      "text/latex": [
       "\\begin{enumerate*}\n",
       "\\item 169\n",
       "\\item 11\n",
       "\\end{enumerate*}\n"
      ],
      "text/markdown": [
       "1. 169\n",
       "2. 11\n",
       "\n",
       "\n"
      ],
      "text/plain": [
       "[1] 169  11"
      ]
     },
     "metadata": {},
     "output_type": "display_data"
    },
    {
     "data": {
      "text/html": [
       "<table class=\"dataframe\">\n",
       "<caption>A tibble: 6 × 11</caption>\n",
       "<thead>\n",
       "\t<tr><th scope=col>case_id</th><th scope=col>generation</th><th scope=col>date_of_infection</th><th scope=col>date_of_onset</th><th scope=col>date_of_hospitalisation</th><th scope=col>date_of_outcome</th><th scope=col>outcome</th><th scope=col>gender</th><th scope=col>hospital</th><th scope=col>lon</th><th scope=col>lat</th></tr>\n",
       "\t<tr><th scope=col>&lt;chr&gt;</th><th scope=col>&lt;dbl&gt;</th><th scope=col>&lt;chr&gt;</th><th scope=col>&lt;chr&gt;</th><th scope=col>&lt;chr&gt;</th><th scope=col>&lt;chr&gt;</th><th scope=col>&lt;chr&gt;</th><th scope=col>&lt;chr&gt;</th><th scope=col>&lt;chr&gt;</th><th scope=col>&lt;dbl&gt;</th><th scope=col>&lt;dbl&gt;</th></tr>\n",
       "</thead>\n",
       "<tbody>\n",
       "\t<tr><td>d1fafd</td><td>0</td><td>NA        </td><td>2014-04-07</td><td>2014-04-17</td><td>2014-04-19</td><td>NA     </td><td>f</td><td>Military Hospital </td><td>-13.21799</td><td>8.473514</td></tr>\n",
       "\t<tr><td>53371b</td><td>1</td><td>2014-04-09</td><td>2014-04-15</td><td>2014-04-20</td><td>NA        </td><td>NA     </td><td>m</td><td>Connaught Hospital</td><td>-13.21491</td><td>8.464927</td></tr>\n",
       "\t<tr><td>f5c3d8</td><td>1</td><td>2014-04-18</td><td>2014-04-21</td><td>2014-04-25</td><td>2014-04-30</td><td>Recover</td><td>f</td><td>other             </td><td>-13.22804</td><td>8.483356</td></tr>\n",
       "\t<tr><td>6c286a</td><td>2</td><td>NA        </td><td>2014-04-27</td><td>2014-04-27</td><td>2014-05-07</td><td>Death  </td><td>f</td><td>NA                </td><td>-13.23112</td><td>8.464776</td></tr>\n",
       "\t<tr><td>0f58c4</td><td>2</td><td>2014-04-22</td><td>2014-04-26</td><td>2014-04-29</td><td>2014-05-17</td><td>Recover</td><td>f</td><td>other             </td><td>-13.21016</td><td>8.452143</td></tr>\n",
       "\t<tr><td>49731d</td><td>0</td><td>2014-03-19</td><td>2014-04-25</td><td>2014-05-02</td><td>2014-05-07</td><td>NA     </td><td>f</td><td>NA                </td><td>-13.23443</td><td>8.468572</td></tr>\n",
       "</tbody>\n",
       "</table>\n"
      ],
      "text/latex": [
       "A tibble: 6 × 11\n",
       "\\begin{tabular}{lllllllllll}\n",
       " case\\_id & generation & date\\_of\\_infection & date\\_of\\_onset & date\\_of\\_hospitalisation & date\\_of\\_outcome & outcome & gender & hospital & lon & lat\\\\\n",
       " <chr> & <dbl> & <chr> & <chr> & <chr> & <chr> & <chr> & <chr> & <chr> & <dbl> & <dbl>\\\\\n",
       "\\hline\n",
       "\t d1fafd & 0 & NA         & 2014-04-07 & 2014-04-17 & 2014-04-19 & NA      & f & Military Hospital  & -13.21799 & 8.473514\\\\\n",
       "\t 53371b & 1 & 2014-04-09 & 2014-04-15 & 2014-04-20 & NA         & NA      & m & Connaught Hospital & -13.21491 & 8.464927\\\\\n",
       "\t f5c3d8 & 1 & 2014-04-18 & 2014-04-21 & 2014-04-25 & 2014-04-30 & Recover & f & other              & -13.22804 & 8.483356\\\\\n",
       "\t 6c286a & 2 & NA         & 2014-04-27 & 2014-04-27 & 2014-05-07 & Death   & f & NA                 & -13.23112 & 8.464776\\\\\n",
       "\t 0f58c4 & 2 & 2014-04-22 & 2014-04-26 & 2014-04-29 & 2014-05-17 & Recover & f & other              & -13.21016 & 8.452143\\\\\n",
       "\t 49731d & 0 & 2014-03-19 & 2014-04-25 & 2014-05-02 & 2014-05-07 & NA      & f & NA                 & -13.23443 & 8.468572\\\\\n",
       "\\end{tabular}\n"
      ],
      "text/markdown": [
       "\n",
       "A tibble: 6 × 11\n",
       "\n",
       "| case_id &lt;chr&gt; | generation &lt;dbl&gt; | date_of_infection &lt;chr&gt; | date_of_onset &lt;chr&gt; | date_of_hospitalisation &lt;chr&gt; | date_of_outcome &lt;chr&gt; | outcome &lt;chr&gt; | gender &lt;chr&gt; | hospital &lt;chr&gt; | lon &lt;dbl&gt; | lat &lt;dbl&gt; |\n",
       "|---|---|---|---|---|---|---|---|---|---|---|\n",
       "| d1fafd | 0 | NA         | 2014-04-07 | 2014-04-17 | 2014-04-19 | NA      | f | Military Hospital  | -13.21799 | 8.473514 |\n",
       "| 53371b | 1 | 2014-04-09 | 2014-04-15 | 2014-04-20 | NA         | NA      | m | Connaught Hospital | -13.21491 | 8.464927 |\n",
       "| f5c3d8 | 1 | 2014-04-18 | 2014-04-21 | 2014-04-25 | 2014-04-30 | Recover | f | other              | -13.22804 | 8.483356 |\n",
       "| 6c286a | 2 | NA         | 2014-04-27 | 2014-04-27 | 2014-05-07 | Death   | f | NA                 | -13.23112 | 8.464776 |\n",
       "| 0f58c4 | 2 | 2014-04-22 | 2014-04-26 | 2014-04-29 | 2014-05-17 | Recover | f | other              | -13.21016 | 8.452143 |\n",
       "| 49731d | 0 | 2014-03-19 | 2014-04-25 | 2014-05-02 | 2014-05-07 | NA      | f | NA                 | -13.23443 | 8.468572 |\n",
       "\n"
      ],
      "text/plain": [
       "  case_id generation date_of_infection date_of_onset date_of_hospitalisation\n",
       "1 d1fafd  0          NA                2014-04-07    2014-04-17             \n",
       "2 53371b  1          2014-04-09        2014-04-15    2014-04-20             \n",
       "3 f5c3d8  1          2014-04-18        2014-04-21    2014-04-25             \n",
       "4 6c286a  2          NA                2014-04-27    2014-04-27             \n",
       "5 0f58c4  2          2014-04-22        2014-04-26    2014-04-29             \n",
       "6 49731d  0          2014-03-19        2014-04-25    2014-05-02             \n",
       "  date_of_outcome outcome gender hospital           lon       lat     \n",
       "1 2014-04-19      NA      f      Military Hospital  -13.21799 8.473514\n",
       "2 NA              NA      m      Connaught Hospital -13.21491 8.464927\n",
       "3 2014-04-30      Recover f      other              -13.22804 8.483356\n",
       "4 2014-05-07      Death   f      NA                 -13.23112 8.464776\n",
       "5 2014-05-17      Recover f      other              -13.21016 8.452143\n",
       "6 2014-05-07      NA      f      NA                 -13.23443 8.468572"
      ]
     },
     "metadata": {},
     "output_type": "display_data"
    }
   ],
   "source": [
    "dim(linelist)\n",
    "head(linelist)"
   ]
  },
  {
   "cell_type": "markdown",
   "id": "2358439f",
   "metadata": {},
   "source": [
    "- Ayrıca rapor tarihi, yaş, hanehalkı tanımlayıcısı, meslek vb. veriler toplamak isteyebilirsiniz."
   ]
  },
  {
   "cell_type": "markdown",
   "id": "5dcb6c77",
   "metadata": {},
   "source": [
    "Daha ileri analizler için tüm tarihlerin `Date` nesneleri olarak doğru şekilde saklandığından emin olmanız gerektiğini unutmayın. Bunu `as.Date` fonksiyonunu kullanarak yapabilirsiniz, örneğin:"
   ]
  },
  {
   "cell_type": "code",
   "execution_count": 4,
   "id": "cf2600b7",
   "metadata": {
    "name": "format_date_example",
    "vscode": {
     "languageId": "r"
    }
   },
   "outputs": [],
   "source": [
    "linelist$date_of_onset <- as.Date(linelist$date_of_onset, format = \"%Y-%m-%d\")"
   ]
  },
  {
   "cell_type": "code",
   "execution_count": 5,
   "id": "12f6af65",
   "metadata": {
    "echo": "#R_CODE#params$full_version",
    "name": "format_dates",
    "vscode": {
     "languageId": "r"
    }
   },
   "outputs": [],
   "source": [
    "linelist$date_of_infection <- as.Date(linelist$date_of_infection, format = \"%Y-%m-%d\")\n",
    "linelist$date_of_hospitalisation <- as.Date(linelist$date_of_hospitalisation, format = \"%Y-%m-%d\")\n",
    "linelist$date_of_outcome <- as.Date(linelist$date_of_outcome, format = \"%Y-%m-%d\")"
   ]
  },
  {
   "cell_type": "markdown",
   "id": "ea14fd08",
   "metadata": {},
   "source": [
    "Biçimlendirilmiş veriler şöyle görünmelidir:"
   ]
  },
  {
   "cell_type": "code",
   "execution_count": 6,
   "id": "63d3ffb8",
   "metadata": {
    "name": "show_data",
    "tags": [
     "remove_input"
    ],
    "vscode": {
     "languageId": "r"
    }
   },
   "outputs": [
    {
     "data": {
      "text/html": [
       "<table class=\"dataframe\">\n",
       "<caption>A tibble: 6 × 11</caption>\n",
       "<thead>\n",
       "\t<tr><th scope=col>case_id</th><th scope=col>generation</th><th scope=col>date_of_infection</th><th scope=col>date_of_onset</th><th scope=col>date_of_hospitalisation</th><th scope=col>date_of_outcome</th><th scope=col>outcome</th><th scope=col>gender</th><th scope=col>hospital</th><th scope=col>lon</th><th scope=col>lat</th></tr>\n",
       "\t<tr><th scope=col>&lt;chr&gt;</th><th scope=col>&lt;dbl&gt;</th><th scope=col>&lt;date&gt;</th><th scope=col>&lt;date&gt;</th><th scope=col>&lt;date&gt;</th><th scope=col>&lt;date&gt;</th><th scope=col>&lt;chr&gt;</th><th scope=col>&lt;chr&gt;</th><th scope=col>&lt;chr&gt;</th><th scope=col>&lt;dbl&gt;</th><th scope=col>&lt;dbl&gt;</th></tr>\n",
       "</thead>\n",
       "<tbody>\n",
       "\t<tr><td>d1fafd</td><td>0</td><td>NA</td><td>2014-04-07</td><td>2014-04-17</td><td>2014-04-19</td><td>NA     </td><td>f</td><td>Military Hospital </td><td>-13.21799</td><td>8.473514</td></tr>\n",
       "\t<tr><td>53371b</td><td>1</td><td>2014-04-09</td><td>2014-04-15</td><td>2014-04-20</td><td>NA</td><td>NA     </td><td>m</td><td>Connaught Hospital</td><td>-13.21491</td><td>8.464927</td></tr>\n",
       "\t<tr><td>f5c3d8</td><td>1</td><td>2014-04-18</td><td>2014-04-21</td><td>2014-04-25</td><td>2014-04-30</td><td>Recover</td><td>f</td><td>other             </td><td>-13.22804</td><td>8.483356</td></tr>\n",
       "\t<tr><td>6c286a</td><td>2</td><td>NA</td><td>2014-04-27</td><td>2014-04-27</td><td>2014-05-07</td><td>Death  </td><td>f</td><td>NA                </td><td>-13.23112</td><td>8.464776</td></tr>\n",
       "\t<tr><td>0f58c4</td><td>2</td><td>2014-04-22</td><td>2014-04-26</td><td>2014-04-29</td><td>2014-05-17</td><td>Recover</td><td>f</td><td>other             </td><td>-13.21016</td><td>8.452143</td></tr>\n",
       "\t<tr><td>49731d</td><td>0</td><td>2014-03-19</td><td>2014-04-25</td><td>2014-05-02</td><td>2014-05-07</td><td>NA     </td><td>f</td><td>NA                </td><td>-13.23443</td><td>8.468572</td></tr>\n",
       "</tbody>\n",
       "</table>\n"
      ],
      "text/latex": [
       "A tibble: 6 × 11\n",
       "\\begin{tabular}{lllllllllll}\n",
       " case\\_id & generation & date\\_of\\_infection & date\\_of\\_onset & date\\_of\\_hospitalisation & date\\_of\\_outcome & outcome & gender & hospital & lon & lat\\\\\n",
       " <chr> & <dbl> & <date> & <date> & <date> & <date> & <chr> & <chr> & <chr> & <dbl> & <dbl>\\\\\n",
       "\\hline\n",
       "\t d1fafd & 0 & NA & 2014-04-07 & 2014-04-17 & 2014-04-19 & NA      & f & Military Hospital  & -13.21799 & 8.473514\\\\\n",
       "\t 53371b & 1 & 2014-04-09 & 2014-04-15 & 2014-04-20 & NA & NA      & m & Connaught Hospital & -13.21491 & 8.464927\\\\\n",
       "\t f5c3d8 & 1 & 2014-04-18 & 2014-04-21 & 2014-04-25 & 2014-04-30 & Recover & f & other              & -13.22804 & 8.483356\\\\\n",
       "\t 6c286a & 2 & NA & 2014-04-27 & 2014-04-27 & 2014-05-07 & Death   & f & NA                 & -13.23112 & 8.464776\\\\\n",
       "\t 0f58c4 & 2 & 2014-04-22 & 2014-04-26 & 2014-04-29 & 2014-05-17 & Recover & f & other              & -13.21016 & 8.452143\\\\\n",
       "\t 49731d & 0 & 2014-03-19 & 2014-04-25 & 2014-05-02 & 2014-05-07 & NA      & f & NA                 & -13.23443 & 8.468572\\\\\n",
       "\\end{tabular}\n"
      ],
      "text/markdown": [
       "\n",
       "A tibble: 6 × 11\n",
       "\n",
       "| case_id &lt;chr&gt; | generation &lt;dbl&gt; | date_of_infection &lt;date&gt; | date_of_onset &lt;date&gt; | date_of_hospitalisation &lt;date&gt; | date_of_outcome &lt;date&gt; | outcome &lt;chr&gt; | gender &lt;chr&gt; | hospital &lt;chr&gt; | lon &lt;dbl&gt; | lat &lt;dbl&gt; |\n",
       "|---|---|---|---|---|---|---|---|---|---|---|\n",
       "| d1fafd | 0 | NA | 2014-04-07 | 2014-04-17 | 2014-04-19 | NA      | f | Military Hospital  | -13.21799 | 8.473514 |\n",
       "| 53371b | 1 | 2014-04-09 | 2014-04-15 | 2014-04-20 | NA | NA      | m | Connaught Hospital | -13.21491 | 8.464927 |\n",
       "| f5c3d8 | 1 | 2014-04-18 | 2014-04-21 | 2014-04-25 | 2014-04-30 | Recover | f | other              | -13.22804 | 8.483356 |\n",
       "| 6c286a | 2 | NA | 2014-04-27 | 2014-04-27 | 2014-05-07 | Death   | f | NA                 | -13.23112 | 8.464776 |\n",
       "| 0f58c4 | 2 | 2014-04-22 | 2014-04-26 | 2014-04-29 | 2014-05-17 | Recover | f | other              | -13.21016 | 8.452143 |\n",
       "| 49731d | 0 | 2014-03-19 | 2014-04-25 | 2014-05-02 | 2014-05-07 | NA      | f | NA                 | -13.23443 | 8.468572 |\n",
       "\n"
      ],
      "text/plain": [
       "  case_id generation date_of_infection date_of_onset date_of_hospitalisation\n",
       "1 d1fafd  0          <NA>              2014-04-07    2014-04-17             \n",
       "2 53371b  1          2014-04-09        2014-04-15    2014-04-20             \n",
       "3 f5c3d8  1          2014-04-18        2014-04-21    2014-04-25             \n",
       "4 6c286a  2          <NA>              2014-04-27    2014-04-27             \n",
       "5 0f58c4  2          2014-04-22        2014-04-26    2014-04-29             \n",
       "6 49731d  0          2014-03-19        2014-04-25    2014-05-02             \n",
       "  date_of_outcome outcome gender hospital           lon       lat     \n",
       "1 2014-04-19      NA      f      Military Hospital  -13.21799 8.473514\n",
       "2 <NA>            NA      m      Connaught Hospital -13.21491 8.464927\n",
       "3 2014-04-30      Recover f      other              -13.22804 8.483356\n",
       "4 2014-05-07      Death   f      NA                 -13.23112 8.464776\n",
       "5 2014-05-17      Recover f      other              -13.21016 8.452143\n",
       "6 2014-05-07      NA      f      NA                 -13.23443 8.468572"
      ]
     },
     "metadata": {},
     "output_type": "display_data"
    },
    {
     "data": {
      "text/html": [
       "<table class=\"dataframe\">\n",
       "<caption>A tibble: 6 × 3</caption>\n",
       "<thead>\n",
       "\t<tr><th scope=col>infector</th><th scope=col>case_id</th><th scope=col>source</th></tr>\n",
       "\t<tr><th scope=col>&lt;chr&gt;</th><th scope=col>&lt;chr&gt;</th><th scope=col>&lt;chr&gt;</th></tr>\n",
       "</thead>\n",
       "<tbody>\n",
       "\t<tr><td>d1fafd</td><td>53371b</td><td>other  </td></tr>\n",
       "\t<tr><td>f5c3d8</td><td>0f58c4</td><td>other  </td></tr>\n",
       "\t<tr><td>0f58c4</td><td>881bd4</td><td>other  </td></tr>\n",
       "\t<tr><td>f5c3d8</td><td>d58402</td><td>other  </td></tr>\n",
       "\t<tr><td>20b688</td><td>d8a13d</td><td>funeral</td></tr>\n",
       "\t<tr><td>2ae019</td><td>a3c8b8</td><td>other  </td></tr>\n",
       "</tbody>\n",
       "</table>\n"
      ],
      "text/latex": [
       "A tibble: 6 × 3\n",
       "\\begin{tabular}{lll}\n",
       " infector & case\\_id & source\\\\\n",
       " <chr> & <chr> & <chr>\\\\\n",
       "\\hline\n",
       "\t d1fafd & 53371b & other  \\\\\n",
       "\t f5c3d8 & 0f58c4 & other  \\\\\n",
       "\t 0f58c4 & 881bd4 & other  \\\\\n",
       "\t f5c3d8 & d58402 & other  \\\\\n",
       "\t 20b688 & d8a13d & funeral\\\\\n",
       "\t 2ae019 & a3c8b8 & other  \\\\\n",
       "\\end{tabular}\n"
      ],
      "text/markdown": [
       "\n",
       "A tibble: 6 × 3\n",
       "\n",
       "| infector &lt;chr&gt; | case_id &lt;chr&gt; | source &lt;chr&gt; |\n",
       "|---|---|---|\n",
       "| d1fafd | 53371b | other   |\n",
       "| f5c3d8 | 0f58c4 | other   |\n",
       "| 0f58c4 | 881bd4 | other   |\n",
       "| f5c3d8 | d58402 | other   |\n",
       "| 20b688 | d8a13d | funeral |\n",
       "| 2ae019 | a3c8b8 | other   |\n",
       "\n"
      ],
      "text/plain": [
       "  infector case_id source \n",
       "1 d1fafd   53371b  other  \n",
       "2 f5c3d8   0f58c4  other  \n",
       "3 0f58c4   881bd4  other  \n",
       "4 f5c3d8   d58402  other  \n",
       "5 20b688   d8a13d  funeral\n",
       "6 2ae019   a3c8b8  other  "
      ]
     },
     "metadata": {},
     "output_type": "display_data"
    }
   ],
   "source": [
    "head(linelist)\n",
    "head(contacts)"
   ]
  },
  {
   "cell_type": "markdown",
   "id": "ac3d1bb6",
   "metadata": {},
   "source": [
    "## Veri temizleme ve tanımlayıcı analiz\n",
    "\n",
    "Bu `linelist`te bulunan verilere daha yakından bakın.\n",
    "\n",
    "- Ne fark ediyorsunuz?"
   ]
  },
  {
   "cell_type": "code",
   "execution_count": 7,
   "id": "7985a249",
   "metadata": {
    "echo": "#R_CODE#params$full_version",
    "name": "explore",
    "vscode": {
     "languageId": "r"
    }
   },
   "outputs": [
    {
     "data": {
      "text/html": [
       "<table class=\"dataframe\">\n",
       "<caption>A tibble: 6 × 11</caption>\n",
       "<thead>\n",
       "\t<tr><th scope=col>case_id</th><th scope=col>generation</th><th scope=col>date_of_infection</th><th scope=col>date_of_onset</th><th scope=col>date_of_hospitalisation</th><th scope=col>date_of_outcome</th><th scope=col>outcome</th><th scope=col>gender</th><th scope=col>hospital</th><th scope=col>lon</th><th scope=col>lat</th></tr>\n",
       "\t<tr><th scope=col>&lt;chr&gt;</th><th scope=col>&lt;dbl&gt;</th><th scope=col>&lt;date&gt;</th><th scope=col>&lt;date&gt;</th><th scope=col>&lt;date&gt;</th><th scope=col>&lt;date&gt;</th><th scope=col>&lt;chr&gt;</th><th scope=col>&lt;chr&gt;</th><th scope=col>&lt;chr&gt;</th><th scope=col>&lt;dbl&gt;</th><th scope=col>&lt;dbl&gt;</th></tr>\n",
       "</thead>\n",
       "<tbody>\n",
       "\t<tr><td>d1fafd</td><td>0</td><td>NA</td><td>2014-04-07</td><td>2014-04-17</td><td>2014-04-19</td><td>NA     </td><td>f</td><td>Military Hospital </td><td>-13.21799</td><td>8.473514</td></tr>\n",
       "\t<tr><td>53371b</td><td>1</td><td>2014-04-09</td><td>2014-04-15</td><td>2014-04-20</td><td>NA</td><td>NA     </td><td>m</td><td>Connaught Hospital</td><td>-13.21491</td><td>8.464927</td></tr>\n",
       "\t<tr><td>f5c3d8</td><td>1</td><td>2014-04-18</td><td>2014-04-21</td><td>2014-04-25</td><td>2014-04-30</td><td>Recover</td><td>f</td><td>other             </td><td>-13.22804</td><td>8.483356</td></tr>\n",
       "\t<tr><td>6c286a</td><td>2</td><td>NA</td><td>2014-04-27</td><td>2014-04-27</td><td>2014-05-07</td><td>Death  </td><td>f</td><td>NA                </td><td>-13.23112</td><td>8.464776</td></tr>\n",
       "\t<tr><td>0f58c4</td><td>2</td><td>2014-04-22</td><td>2014-04-26</td><td>2014-04-29</td><td>2014-05-17</td><td>Recover</td><td>f</td><td>other             </td><td>-13.21016</td><td>8.452143</td></tr>\n",
       "\t<tr><td>49731d</td><td>0</td><td>2014-03-19</td><td>2014-04-25</td><td>2014-05-02</td><td>2014-05-07</td><td>NA     </td><td>f</td><td>NA                </td><td>-13.23443</td><td>8.468572</td></tr>\n",
       "</tbody>\n",
       "</table>\n"
      ],
      "text/latex": [
       "A tibble: 6 × 11\n",
       "\\begin{tabular}{lllllllllll}\n",
       " case\\_id & generation & date\\_of\\_infection & date\\_of\\_onset & date\\_of\\_hospitalisation & date\\_of\\_outcome & outcome & gender & hospital & lon & lat\\\\\n",
       " <chr> & <dbl> & <date> & <date> & <date> & <date> & <chr> & <chr> & <chr> & <dbl> & <dbl>\\\\\n",
       "\\hline\n",
       "\t d1fafd & 0 & NA & 2014-04-07 & 2014-04-17 & 2014-04-19 & NA      & f & Military Hospital  & -13.21799 & 8.473514\\\\\n",
       "\t 53371b & 1 & 2014-04-09 & 2014-04-15 & 2014-04-20 & NA & NA      & m & Connaught Hospital & -13.21491 & 8.464927\\\\\n",
       "\t f5c3d8 & 1 & 2014-04-18 & 2014-04-21 & 2014-04-25 & 2014-04-30 & Recover & f & other              & -13.22804 & 8.483356\\\\\n",
       "\t 6c286a & 2 & NA & 2014-04-27 & 2014-04-27 & 2014-05-07 & Death   & f & NA                 & -13.23112 & 8.464776\\\\\n",
       "\t 0f58c4 & 2 & 2014-04-22 & 2014-04-26 & 2014-04-29 & 2014-05-17 & Recover & f & other              & -13.21016 & 8.452143\\\\\n",
       "\t 49731d & 0 & 2014-03-19 & 2014-04-25 & 2014-05-02 & 2014-05-07 & NA      & f & NA                 & -13.23443 & 8.468572\\\\\n",
       "\\end{tabular}\n"
      ],
      "text/markdown": [
       "\n",
       "A tibble: 6 × 11\n",
       "\n",
       "| case_id &lt;chr&gt; | generation &lt;dbl&gt; | date_of_infection &lt;date&gt; | date_of_onset &lt;date&gt; | date_of_hospitalisation &lt;date&gt; | date_of_outcome &lt;date&gt; | outcome &lt;chr&gt; | gender &lt;chr&gt; | hospital &lt;chr&gt; | lon &lt;dbl&gt; | lat &lt;dbl&gt; |\n",
       "|---|---|---|---|---|---|---|---|---|---|---|\n",
       "| d1fafd | 0 | NA | 2014-04-07 | 2014-04-17 | 2014-04-19 | NA      | f | Military Hospital  | -13.21799 | 8.473514 |\n",
       "| 53371b | 1 | 2014-04-09 | 2014-04-15 | 2014-04-20 | NA | NA      | m | Connaught Hospital | -13.21491 | 8.464927 |\n",
       "| f5c3d8 | 1 | 2014-04-18 | 2014-04-21 | 2014-04-25 | 2014-04-30 | Recover | f | other              | -13.22804 | 8.483356 |\n",
       "| 6c286a | 2 | NA | 2014-04-27 | 2014-04-27 | 2014-05-07 | Death   | f | NA                 | -13.23112 | 8.464776 |\n",
       "| 0f58c4 | 2 | 2014-04-22 | 2014-04-26 | 2014-04-29 | 2014-05-17 | Recover | f | other              | -13.21016 | 8.452143 |\n",
       "| 49731d | 0 | 2014-03-19 | 2014-04-25 | 2014-05-02 | 2014-05-07 | NA      | f | NA                 | -13.23443 | 8.468572 |\n",
       "\n"
      ],
      "text/plain": [
       "  case_id generation date_of_infection date_of_onset date_of_hospitalisation\n",
       "1 d1fafd  0          <NA>              2014-04-07    2014-04-17             \n",
       "2 53371b  1          2014-04-09        2014-04-15    2014-04-20             \n",
       "3 f5c3d8  1          2014-04-18        2014-04-21    2014-04-25             \n",
       "4 6c286a  2          <NA>              2014-04-27    2014-04-27             \n",
       "5 0f58c4  2          2014-04-22        2014-04-26    2014-04-29             \n",
       "6 49731d  0          2014-03-19        2014-04-25    2014-05-02             \n",
       "  date_of_outcome outcome gender hospital           lon       lat     \n",
       "1 2014-04-19      NA      f      Military Hospital  -13.21799 8.473514\n",
       "2 <NA>            NA      m      Connaught Hospital -13.21491 8.464927\n",
       "3 2014-04-30      Recover f      other              -13.22804 8.483356\n",
       "4 2014-05-07      Death   f      NA                 -13.23112 8.464776\n",
       "5 2014-05-17      Recover f      other              -13.21016 8.452143\n",
       "6 2014-05-07      NA      f      NA                 -13.23443 8.468572"
      ]
     },
     "metadata": {},
     "output_type": "display_data"
    },
    {
     "data": {
      "text/html": [
       "<style>\n",
       ".list-inline {list-style: none; margin:0; padding: 0}\n",
       ".list-inline>li {display: inline-block}\n",
       ".list-inline>li:not(:last-child)::after {content: \"\\00b7\"; padding: 0 .5ex}\n",
       "</style>\n",
       "<ol class=list-inline><li>'case_id'</li><li>'generation'</li><li>'date_of_infection'</li><li>'date_of_onset'</li><li>'date_of_hospitalisation'</li><li>'date_of_outcome'</li><li>'outcome'</li><li>'gender'</li><li>'hospital'</li><li>'lon'</li><li>'lat'</li></ol>\n"
      ],
      "text/latex": [
       "\\begin{enumerate*}\n",
       "\\item 'case\\_id'\n",
       "\\item 'generation'\n",
       "\\item 'date\\_of\\_infection'\n",
       "\\item 'date\\_of\\_onset'\n",
       "\\item 'date\\_of\\_hospitalisation'\n",
       "\\item 'date\\_of\\_outcome'\n",
       "\\item 'outcome'\n",
       "\\item 'gender'\n",
       "\\item 'hospital'\n",
       "\\item 'lon'\n",
       "\\item 'lat'\n",
       "\\end{enumerate*}\n"
      ],
      "text/markdown": [
       "1. 'case_id'\n",
       "2. 'generation'\n",
       "3. 'date_of_infection'\n",
       "4. 'date_of_onset'\n",
       "5. 'date_of_hospitalisation'\n",
       "6. 'date_of_outcome'\n",
       "7. 'outcome'\n",
       "8. 'gender'\n",
       "9. 'hospital'\n",
       "10. 'lon'\n",
       "11. 'lat'\n",
       "\n",
       "\n"
      ],
      "text/plain": [
       " [1] \"case_id\"                 \"generation\"             \n",
       " [3] \"date_of_infection\"       \"date_of_onset\"          \n",
       " [5] \"date_of_hospitalisation\" \"date_of_outcome\"        \n",
       " [7] \"outcome\"                 \"gender\"                 \n",
       " [9] \"hospital\"                \"lon\"                    \n",
       "[11] \"lat\"                    "
      ]
     },
     "metadata": {},
     "output_type": "display_data"
    }
   ],
   "source": [
    "head(linelist)\n",
    "names(linelist)"
   ]
  },
  {
   "cell_type": "markdown",
   "id": "312b6031",
   "metadata": {},
   "source": [
    "Eksik girişler olduğunu fark edebilirsiniz.\n",
    "Analizde önemli bir adım, veri girişindeki hataları belirlemektir.\n",
    "Hastane isimlerindeki hataları değerlendirmek zor olsa da, enfeksiyon tarihinin her zaman semptom başlangıcı tarihinden önce olmasını bekleriz.\n",
    "  \n",
    "Negatif veya 0 günlük kuluçka dönemleri olan girişleri kaldırmak için bu veri setini temizleyin."
   ]
  },
  {
   "cell_type": "code",
   "execution_count": 8,
   "id": "7da0b4b3",
   "metadata": {
    "eval": false,
    "name": "clean_data",
    "vscode": {
     "languageId": "r"
    }
   },
   "outputs": [
    {
     "data": {
      "text/html": [
       "<style>\n",
       ".list-inline {list-style: none; margin:0; padding: 0}\n",
       ".list-inline>li {display: inline-block}\n",
       ".list-inline>li:not(:last-child)::after {content: \"\\00b7\"; padding: 0 .5ex}\n",
       "</style>\n",
       "<ol class=list-inline><li>46</li><li>63</li><li>110</li></ol>\n"
      ],
      "text/latex": [
       "\\begin{enumerate*}\n",
       "\\item 46\n",
       "\\item 63\n",
       "\\item 110\n",
       "\\end{enumerate*}\n"
      ],
      "text/markdown": [
       "1. 46\n",
       "2. 63\n",
       "3. 110\n",
       "\n",
       "\n"
      ],
      "text/plain": [
       "[1]  46  63 110"
      ]
     },
     "metadata": {},
     "output_type": "display_data"
    },
    {
     "data": {
      "text/html": [
       "<table class=\"dataframe\">\n",
       "<caption>A tibble: 3 × 11</caption>\n",
       "<thead>\n",
       "\t<tr><th scope=col>case_id</th><th scope=col>generation</th><th scope=col>date_of_infection</th><th scope=col>date_of_onset</th><th scope=col>date_of_hospitalisation</th><th scope=col>date_of_outcome</th><th scope=col>outcome</th><th scope=col>gender</th><th scope=col>hospital</th><th scope=col>lon</th><th scope=col>lat</th></tr>\n",
       "\t<tr><th scope=col>&lt;chr&gt;</th><th scope=col>&lt;dbl&gt;</th><th scope=col>&lt;date&gt;</th><th scope=col>&lt;date&gt;</th><th scope=col>&lt;date&gt;</th><th scope=col>&lt;date&gt;</th><th scope=col>&lt;chr&gt;</th><th scope=col>&lt;chr&gt;</th><th scope=col>&lt;chr&gt;</th><th scope=col>&lt;dbl&gt;</th><th scope=col>&lt;dbl&gt;</th></tr>\n",
       "</thead>\n",
       "<tbody>\n",
       "\t<tr><td>3f1aaf                </td><td>4</td><td>2014-05-18</td><td>2014-05-18</td><td>2014-05-25</td><td>2014-05-25</td><td>NA   </td><td>f</td><td>Connaught Hospital</td><td>-13.24655</td><td>8.484859</td></tr>\n",
       "\t<tr><td>ce9c02                </td><td>5</td><td>2014-05-27</td><td>2014-05-27</td><td>2014-05-29</td><td>2014-06-17</td><td>Death</td><td>m</td><td>Connaught Hospital</td><td>-13.22437</td><td>8.470248</td></tr>\n",
       "\t<tr><td>7.0000000000000004E+86</td><td>6</td><td>2014-06-10</td><td>2014-06-10</td><td>2014-06-16</td><td>2014-06-28</td><td>NA   </td><td>m</td><td>Connaught Hospital</td><td>-13.26127</td><td>8.463422</td></tr>\n",
       "</tbody>\n",
       "</table>\n"
      ],
      "text/latex": [
       "A tibble: 3 × 11\n",
       "\\begin{tabular}{lllllllllll}\n",
       " case\\_id & generation & date\\_of\\_infection & date\\_of\\_onset & date\\_of\\_hospitalisation & date\\_of\\_outcome & outcome & gender & hospital & lon & lat\\\\\n",
       " <chr> & <dbl> & <date> & <date> & <date> & <date> & <chr> & <chr> & <chr> & <dbl> & <dbl>\\\\\n",
       "\\hline\n",
       "\t 3f1aaf                 & 4 & 2014-05-18 & 2014-05-18 & 2014-05-25 & 2014-05-25 & NA    & f & Connaught Hospital & -13.24655 & 8.484859\\\\\n",
       "\t ce9c02                 & 5 & 2014-05-27 & 2014-05-27 & 2014-05-29 & 2014-06-17 & Death & m & Connaught Hospital & -13.22437 & 8.470248\\\\\n",
       "\t 7.0000000000000004E+86 & 6 & 2014-06-10 & 2014-06-10 & 2014-06-16 & 2014-06-28 & NA    & m & Connaught Hospital & -13.26127 & 8.463422\\\\\n",
       "\\end{tabular}\n"
      ],
      "text/markdown": [
       "\n",
       "A tibble: 3 × 11\n",
       "\n",
       "| case_id &lt;chr&gt; | generation &lt;dbl&gt; | date_of_infection &lt;date&gt; | date_of_onset &lt;date&gt; | date_of_hospitalisation &lt;date&gt; | date_of_outcome &lt;date&gt; | outcome &lt;chr&gt; | gender &lt;chr&gt; | hospital &lt;chr&gt; | lon &lt;dbl&gt; | lat &lt;dbl&gt; |\n",
       "|---|---|---|---|---|---|---|---|---|---|---|\n",
       "| 3f1aaf                 | 4 | 2014-05-18 | 2014-05-18 | 2014-05-25 | 2014-05-25 | NA    | f | Connaught Hospital | -13.24655 | 8.484859 |\n",
       "| ce9c02                 | 5 | 2014-05-27 | 2014-05-27 | 2014-05-29 | 2014-06-17 | Death | m | Connaught Hospital | -13.22437 | 8.470248 |\n",
       "| 7.0000000000000004E+86 | 6 | 2014-06-10 | 2014-06-10 | 2014-06-16 | 2014-06-28 | NA    | m | Connaught Hospital | -13.26127 | 8.463422 |\n",
       "\n"
      ],
      "text/plain": [
       "  case_id                generation date_of_infection date_of_onset\n",
       "1 3f1aaf                 4          2014-05-18        2014-05-18   \n",
       "2 ce9c02                 5          2014-05-27        2014-05-27   \n",
       "3 7.0000000000000004E+86 6          2014-06-10        2014-06-10   \n",
       "  date_of_hospitalisation date_of_outcome outcome gender hospital          \n",
       "1 2014-05-25              2014-05-25      NA      f      Connaught Hospital\n",
       "2 2014-05-29              2014-06-17      Death   m      Connaught Hospital\n",
       "3 2014-06-16              2014-06-28      NA      m      Connaught Hospital\n",
       "  lon       lat     \n",
       "1 -13.24655 8.484859\n",
       "2 -13.22437 8.470248\n",
       "3 -13.26127 8.463422"
      ]
     },
     "metadata": {},
     "output_type": "display_data"
    }
   ],
   "source": [
    "## veri girişindeki hataları belirle (negatif kuluçka dönemi)\n",
    "mistakes <- which(linelist$date_of_onset <= linelist$date_of_infection)\n",
    "mistakes\n",
    "linelist[mistakes, ]\n"
   ]
  },
  {
   "cell_type": "code",
   "execution_count": 9,
   "id": "c942f9a3",
   "metadata": {
    "echo": "#R_CODE#params$full_version",
    "name": "clean_data_answers",
    "vscode": {
     "languageId": "r"
    }
   },
   "outputs": [
    {
     "data": {
      "text/html": [
       "<style>\n",
       ".list-inline {list-style: none; margin:0; padding: 0}\n",
       ".list-inline>li {display: inline-block}\n",
       ".list-inline>li:not(:last-child)::after {content: \"\\00b7\"; padding: 0 .5ex}\n",
       "</style>\n",
       "<ol class=list-inline><li>46</li><li>63</li><li>110</li></ol>\n"
      ],
      "text/latex": [
       "\\begin{enumerate*}\n",
       "\\item 46\n",
       "\\item 63\n",
       "\\item 110\n",
       "\\end{enumerate*}\n"
      ],
      "text/markdown": [
       "1. 46\n",
       "2. 63\n",
       "3. 110\n",
       "\n",
       "\n"
      ],
      "text/plain": [
       "[1]  46  63 110"
      ]
     },
     "metadata": {},
     "output_type": "display_data"
    },
    {
     "data": {
      "text/html": [
       "<table class=\"dataframe\">\n",
       "<caption>A tibble: 3 × 11</caption>\n",
       "<thead>\n",
       "\t<tr><th scope=col>case_id</th><th scope=col>generation</th><th scope=col>date_of_infection</th><th scope=col>date_of_onset</th><th scope=col>date_of_hospitalisation</th><th scope=col>date_of_outcome</th><th scope=col>outcome</th><th scope=col>gender</th><th scope=col>hospital</th><th scope=col>lon</th><th scope=col>lat</th></tr>\n",
       "\t<tr><th scope=col>&lt;chr&gt;</th><th scope=col>&lt;dbl&gt;</th><th scope=col>&lt;date&gt;</th><th scope=col>&lt;date&gt;</th><th scope=col>&lt;date&gt;</th><th scope=col>&lt;date&gt;</th><th scope=col>&lt;chr&gt;</th><th scope=col>&lt;chr&gt;</th><th scope=col>&lt;chr&gt;</th><th scope=col>&lt;dbl&gt;</th><th scope=col>&lt;dbl&gt;</th></tr>\n",
       "</thead>\n",
       "<tbody>\n",
       "\t<tr><td>3f1aaf                </td><td>4</td><td>2014-05-18</td><td>2014-05-18</td><td>2014-05-25</td><td>2014-05-25</td><td>NA   </td><td>f</td><td>Connaught Hospital</td><td>-13.24655</td><td>8.484859</td></tr>\n",
       "\t<tr><td>ce9c02                </td><td>5</td><td>2014-05-27</td><td>2014-05-27</td><td>2014-05-29</td><td>2014-06-17</td><td>Death</td><td>m</td><td>Connaught Hospital</td><td>-13.22437</td><td>8.470248</td></tr>\n",
       "\t<tr><td>7.0000000000000004E+86</td><td>6</td><td>2014-06-10</td><td>2014-06-10</td><td>2014-06-16</td><td>2014-06-28</td><td>NA   </td><td>m</td><td>Connaught Hospital</td><td>-13.26127</td><td>8.463422</td></tr>\n",
       "</tbody>\n",
       "</table>\n"
      ],
      "text/latex": [
       "A tibble: 3 × 11\n",
       "\\begin{tabular}{lllllllllll}\n",
       " case\\_id & generation & date\\_of\\_infection & date\\_of\\_onset & date\\_of\\_hospitalisation & date\\_of\\_outcome & outcome & gender & hospital & lon & lat\\\\\n",
       " <chr> & <dbl> & <date> & <date> & <date> & <date> & <chr> & <chr> & <chr> & <dbl> & <dbl>\\\\\n",
       "\\hline\n",
       "\t 3f1aaf                 & 4 & 2014-05-18 & 2014-05-18 & 2014-05-25 & 2014-05-25 & NA    & f & Connaught Hospital & -13.24655 & 8.484859\\\\\n",
       "\t ce9c02                 & 5 & 2014-05-27 & 2014-05-27 & 2014-05-29 & 2014-06-17 & Death & m & Connaught Hospital & -13.22437 & 8.470248\\\\\n",
       "\t 7.0000000000000004E+86 & 6 & 2014-06-10 & 2014-06-10 & 2014-06-16 & 2014-06-28 & NA    & m & Connaught Hospital & -13.26127 & 8.463422\\\\\n",
       "\\end{tabular}\n"
      ],
      "text/markdown": [
       "\n",
       "A tibble: 3 × 11\n",
       "\n",
       "| case_id &lt;chr&gt; | generation &lt;dbl&gt; | date_of_infection &lt;date&gt; | date_of_onset &lt;date&gt; | date_of_hospitalisation &lt;date&gt; | date_of_outcome &lt;date&gt; | outcome &lt;chr&gt; | gender &lt;chr&gt; | hospital &lt;chr&gt; | lon &lt;dbl&gt; | lat &lt;dbl&gt; |\n",
       "|---|---|---|---|---|---|---|---|---|---|---|\n",
       "| 3f1aaf                 | 4 | 2014-05-18 | 2014-05-18 | 2014-05-25 | 2014-05-25 | NA    | f | Connaught Hospital | -13.24655 | 8.484859 |\n",
       "| ce9c02                 | 5 | 2014-05-27 | 2014-05-27 | 2014-05-29 | 2014-06-17 | Death | m | Connaught Hospital | -13.22437 | 8.470248 |\n",
       "| 7.0000000000000004E+86 | 6 | 2014-06-10 | 2014-06-10 | 2014-06-16 | 2014-06-28 | NA    | m | Connaught Hospital | -13.26127 | 8.463422 |\n",
       "\n"
      ],
      "text/plain": [
       "  case_id                generation date_of_infection date_of_onset\n",
       "1 3f1aaf                 4          2014-05-18        2014-05-18   \n",
       "2 ce9c02                 5          2014-05-27        2014-05-27   \n",
       "3 7.0000000000000004E+86 6          2014-06-10        2014-06-10   \n",
       "  date_of_hospitalisation date_of_outcome outcome gender hospital          \n",
       "1 2014-05-25              2014-05-25      NA      f      Connaught Hospital\n",
       "2 2014-05-29              2014-06-17      Death   m      Connaught Hospital\n",
       "3 2014-06-16              2014-06-28      NA      m      Connaught Hospital\n",
       "  lon       lat     \n",
       "1 -13.24655 8.484859\n",
       "2 -13.22437 8.470248\n",
       "3 -13.26127 8.463422"
      ]
     },
     "metadata": {},
     "output_type": "display_data"
    }
   ],
   "source": [
    "## veri girişindeki hataları belirle (negatif kuluçka dönemi)\n",
    "mistakes <- which(linelist$date_of_onset <= linelist$date_of_infection)\n",
    "mistakes\n",
    "linelist[mistakes, ] # negatif veya 0 kuluçka süresi olan sadece ilk birkaç girişi göster."
   ]
  },
  {
   "cell_type": "markdown",
   "id": "d84de7e6",
   "metadata": {},
   "source": [
    "\"Temizlenmiş\" çizgi listenizi yeni bir nesne olarak kaydedin: `linelist_clean`"
   ]
  },
  {
   "cell_type": "code",
   "execution_count": 10,
   "id": "d933fa04",
   "metadata": {
    "name": "save_clean",
    "vscode": {
     "languageId": "r"
    }
   },
   "outputs": [],
   "source": [
    "linelist_clean <- linelist[-mistakes, ]"
   ]
  },
  {
   "cell_type": "markdown",
   "id": "2fe403a1",
   "metadata": {},
   "source": [
    "Tam veri setiniz olsaydı kontrol etmek isteyebileceğiniz başka hangi negatif tarihler veya hatalar olabilir?"
   ]
  },
  {
   "cell_type": "markdown",
   "id": "d4fefe2a",
   "metadata": {
    "lines_to_next_cell": 0
   },
   "source": [
    "## Vaka ölüm oranının (CFR) hesaplanması\n",
    "\n",
    "İşte sonuç durumuna göre vaka sayıları. Bundan CFR'yi nasıl hesaplarsınız? "
   ]
  },
  {
   "cell_type": "code",
   "execution_count": 11,
   "id": "21e9baf4",
   "metadata": {
    "name": "cfr_table",
    "vscode": {
     "languageId": "r"
    }
   },
   "outputs": [
    {
     "data": {
      "text/plain": [
       "\n",
       "  Death Recover    <NA> \n",
       "     60      43      63 "
      ]
     },
     "metadata": {},
     "output_type": "display_data"
    }
   ],
   "source": [
    "table(linelist_clean$outcome, useNA = \"ifany\")"
   ]
  },
  {
   "cell_type": "markdown",
   "id": "9823a54b",
   "metadata": {
    "lines_to_next_cell": 0
   },
   "source": [
    "Sonucu NA olan vakalarla ne yapacağınızı düşünün?"
   ]
  },
  {
   "cell_type": "code",
   "execution_count": null,
   "id": "177cd59d",
   "metadata": {
    "eval": "#R_CODE#params$full_version",
    "lines_to_next_cell": 2,
    "name": "cfr",
    "vscode": {
     "languageId": "r"
    }
   },
   "outputs": [],
   "source": [
    "n_dead <- sum(linelist_clean$outcome %in% \"Death\")\n",
    "n_known_outcome <- sum(linelist_clean$outcome %in% c(\"Death\", \"Recover\"))\n",
    "n_all <- nrow(linelist_clean)\n",
    "cfr <- n_dead / n_known_outcome\n",
    "cfr_wrong <- n_dead / n_all\n",
    "\n",
    "cfr_with_CI <- binom.confint(n_dead, n_known_outcome, method = \"exact\")\n",
    "cfr_wrong_with_CI <- binom.confint(n_dead, n_all, method = \"exact\")\n",
    "\n",
    "print(cfr_with_CI)\n",
    "print(cfr_wrong_with_CI)"
   ]
  },
  {
   "cell_type": "markdown",
   "id": "0493fca5",
   "metadata": {},
   "source": [
    "## İnsidans eğrilerine bakış\n",
    "\n",
    "Bilmek istediğimiz ilk soru basitçe: ne kadar kötü?. Analizin ilk adımı tanımlayıcıdır - bir salgın eğrisi veya epieğri çizmek istiyoruz. Bu, semptom başlangıcı tarihine göre zaman içindeki insidansı görselleştirir.\n",
    "\n",
    "`incidence` paketini kullanarak, semptom başlangıcı tarihlerine dayalı olarak `linelist_clean`den günlük insidansı hesaplayın. Sonucu i_daily adlı bir nesnede saklayın; sonuç şöyle görünmelidir:"
   ]
  },
  {
   "cell_type": "code",
   "execution_count": null,
   "id": "8ffc3387",
   "metadata": {
    "echo": "#R_CODE#params$full_version",
    "name": "incidence",
    "vscode": {
     "languageId": "r"
    }
   },
   "outputs": [],
   "source": [
    "i_daily <- incidence(linelist_clean$date_of_onset) # günlük insidans\n",
    "\n",
    "plot(i_daily, border = \"black\")"
   ]
  },
  {
   "cell_type": "markdown",
   "id": "1bed8d35",
   "metadata": {},
   "source": [
    "İnsidans tarihlerinin `i_daily$dates` semptom başlangıcı tarihi hakkında veri sahibi olduğumuz son tarihte (29 Haziran 2014) durduğunu fark edebilirsiniz. Ancak çizgi listesinin yakından incelenmesi, çizgi listesindeki son tarihin (herhangi bir girişin) aslında biraz daha sonra olduğunu gösterir (1 Temmuz 2014). Bunu değiştirmek için `incidence` fonksiyonunda `last_date` argümanını kullanabilirsiniz."
   ]
  },
  {
   "cell_type": "code",
   "execution_count": 15,
   "id": "0a680243",
   "metadata": {
    "echo": "#R_CODE#params$full_version",
    "name": "update_last_date",
    "vscode": {
     "languageId": "r"
    }
   },
   "outputs": [
    {
     "data": {
      "text/plain": [
       "<incidence object>\n",
       "[166 cases from days 2014-04-07 to 2014-07-01]\n",
       "\n",
       "$counts: matrix with 86 rows and 1 columns\n",
       "$n: 166 cases in total\n",
       "$dates: 86 dates marking the left-side of bins\n",
       "$interval: 1 day\n",
       "$timespan: 86 days\n",
       "$cumulative: FALSE\n"
      ]
     },
     "metadata": {},
     "output_type": "display_data"
    },
    {
     "data": {
      "image/png": "[encoded data removed]",
      "text/plain": [
       "plot without title"
      ]
     },
     "metadata": {
      "image/png": {
       "height": 420,
       "width": 420
      }
     },
     "output_type": "display_data"
    }
   ],
   "source": [
    "\n",
    "# son tarihi genişlet:\n",
    "i_daily <- incidence(linelist_clean$date_of_onset, \n",
    "                     last_date = as.Date(max(linelist_clean$date_of_hospitalisation, na.rm = TRUE)))\n",
    "i_daily\n",
    "plot(i_daily, border = \"black\")\n"
   ]
  },
  {
   "cell_type": "markdown",
   "id": "0b88c1c8",
   "metadata": {},
   "source": [
    "Başka bir sorun da günlük insidansa bakarken trendleri yorumlamanın zor olabilmesi, bu nedenle haftalık insidansı `i_weekly`'yi de şu şekilde hesaplayın ve çizin:"
   ]
  },
  {
   "cell_type": "code",
   "execution_count": 16,
   "id": "22f89ad8",
   "metadata": {
    "name": "show_weekly_incidence",
    "vscode": {
     "languageId": "r"
    }
   },
   "outputs": [
    {
     "data": {
      "text/plain": [
       "<incidence object>\n",
       "[166 cases from days 2014-04-07 to 2014-06-30]\n",
       "[166 cases from ISO weeks 2014-W15 to 2014-W27]\n",
       "\n",
       "$counts: matrix with 13 rows and 1 columns\n",
       "$n: 166 cases in total\n",
       "$dates: 13 dates marking the left-side of bins\n",
       "$interval: 7 days\n",
       "$timespan: 85 days\n",
       "$cumulative: FALSE\n"
      ]
     },
     "metadata": {},
     "output_type": "display_data"
    },
    {
     "data": {
      "image/png": "[encoded data removed]",
      "text/plain": [
       "plot without title"
      ]
     },
     "metadata": {
      "image/png": {
       "height": 420,
       "width": 420
      }
     },
     "output_type": "display_data"
    }
   ],
   "source": [
    "i_weekly <- incidence(linelist_clean$date_of_onset, interval = 7, \n",
    "                      last_date = as.Date(max(linelist_clean$date_of_hospitalisation, na.rm = TRUE)))\n",
    "i_weekly\n",
    "\n",
    "plot(i_weekly, border = \"black\")"
   ]
  },
  {
   "cell_type": "markdown",
   "id": "c3d9bfcf",
   "metadata": {},
   "source": [
    "## Veri ve çıktıları kaydetme\n",
    "\n",
    "Bu uygulamanın [bölüm 1](./real-time-response-1.html)'inin sonudur. \n",
    "[Bölüm 2](./real-time-response-2.html)'ye geçmeden önce, aşağıdaki nesneleri kaydetmeniz gerekecek:"
   ]
  },
  {
   "cell_type": "code",
   "execution_count": 17,
   "id": "f4617a3d",
   "metadata": {
    "name": "save_data_ni",
    "tags": [
     "remove_cell"
    ],
    "vscode": {
     "languageId": "r"
    }
   },
   "outputs": [
    {
     "name": "stderr",
     "output_type": "stream",
     "text": [
      "Warning message in dir.create(here(\"data/clean\")):\n",
      "\"'C:\\Users\\juano\\Dropbox\\Code\\Git\\ankara-modelling-2025-notebooks\\data\\clean' already exists\"\n"
     ]
    }
   ],
   "source": [
    "dir.create(here(\"data/clean\")) # yoksa temiz veri dizini oluştur\n",
    "saveRDS(i_daily, here(\"data/clean/i_daily.rds\"))\n",
    "saveRDS(i_weekly, here(\"data/clean/i_weekly.rds\"))\n",
    "saveRDS(linelist, here(\"data/clean/linelist.rds\"))\n",
    "saveRDS(linelist_clean, here(\"data/clean/linelist_clean.rds\"))\n",
    "saveRDS(contacts, here(\"data/clean/contacts.rds\"))"
   ]
  }
 ],
 "metadata": {
  "jupytext": {
   "cell_metadata_filter": "tags,warning,name,message,echo,eval,results,-all",
   "main_language": "R",
   "notebook_metadata_filter": "-all"
  },
  "kernelspec": {
   "display_name": "R",
   "language": "R",
   "name": "ir"
  },
  "language_info": {
   "codemirror_mode": "r",
   "file_extension": ".r",
   "mimetype": "text/x-r-source",
   "name": "R",
   "pygments_lexer": "r",
   "version": "4.3.2"
  }
 },
 "nbformat": 4,
 "nbformat_minor": 5
}
