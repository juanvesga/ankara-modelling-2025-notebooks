{
 "cells": [
  {
   "cell_type": "markdown",
   "id": "cc70fc45",
   "metadata": {},
   "source": [
    "# Gün 1 bölüm 1: Basit bir bölmeli modelin gösterimi"
   ]
  },
  {
   "cell_type": "markdown",
   "id": "ee528a1c",
   "metadata": {},
   "source": [
    "<div style=\"background: #f8f9fa; padding: 0.5rem 1rem; border-radius: 8px; margin-bottom: 1rem; border-left: 4px solid #007bff;\">\n",
    "<a href=\"../../index.ipynb\" style=\"text-decoration: none; color: #007bff; font-weight: bold;\">← Kurs Dizinine Geri Dön</a> | \n",
    "<a href=\"../../index-tr.ipynb\" style=\"text-decoration: none; color: #dc3545; font-weight: bold;\">🇹🇷 Türkçe Index</a>\n",
    "</div>\n",
    "\n",
    "---"
   ]
  },
  {
   "cell_type": "markdown",
   "id": "db11da82",
   "metadata": {},
   "source": [
    "Önceki oturumlarımızda bulaşıcı hastalıkları tanımlamak için bölmeli modellerin nasıl kullanılabileceğini gözden geçirdik. Ayrıca geçiş oranlarının nasıl belirtileceğini, zaman dağılımları ile ilişkisini ve basit modelleme çıktılarını nasıl yorumlayacağımızı inceledik. Bu ilk pratik çalışma sırasında önce basit bir kohort modelinin nasıl kodlandığını göreceğiz ve ayrıca modelin temel varsayımlarını test etmeyi de inceleyeceğiz.\n",
    "\n",
    "## 1. Basit bir kohort modeli\n",
    "\n",
    "Çalıştığımız kohort modelini hatırlayın, burada enfekte bireylerin bir başlangıç popülasyonuyla başlayıp iyileşmeye geçişe izin veriyoruz. O modelin temel yapı taşlarının neler olduğunu görelim."
   ]
  },
  {
   "cell_type": "code",
   "execution_count": 1,
   "id": "85d3ec6b",
   "metadata": {
    "echo": true,
    "vscode": {
     "languageId": "r"
    },
    "warning": false
   },
   "outputs": [
    {
     "name": "stderr",
     "output_type": "stream",
     "text": [
      "here() starts at C:/Users/juano/Dropbox/Code/Git/ankara-modelling-2025-notebooks\n",
      "\n"
     ]
    }
   ],
   "source": [
    "\n",
    "# Bazı yararlı paketleri yükle:\n",
    "library(deSolve)  # Diferansiyel denklemleri çözmek için \n",
    "library(reshape2) # Model çıktımızı düzenlemek için\n",
    "library(ggplot2)  # Güzel grafikler üretmek için!\n",
    "library(here)     # Her zaman çalışma dizinimizde olduğumuzdan emin olmak için\n",
    "\n",
    "\n",
    "###################\n",
    "#  Şimdi kohort modelimizi kodlayalım \n",
    "\n",
    "# Toplam popülasyonumuzu N olarak adlandıracağız. N için bir parametre oluşturalım\n",
    "N <- 1000\n",
    "\n",
    "### Bazı model girdileri\n",
    "\n",
    "# Başlangıç koşulları: Kodlamak istediğimiz kohort modelinin iki aşaması var, I Enfekte ve R (iyileşen) \n",
    "\n",
    "# Modelin durum değişkenlerini içeren bir vektör oluşturalım\n",
    "\n",
    "initial_state_values <- c(\n",
    "                          I = N,\n",
    "                          R = 0)           \n",
    "\n",
    "# Model bölmelerine I ve R'ye başlangıç değerleri atadığımızı unutmayın\n",
    "\n",
    "# Günlük parametre değerleri: Enfeksiyon süresinin ortalama 2 gün olduğunu biliyoruz\n",
    "# Buna göre iyileşme oranını (gamma) şu şekilde ifade edebiliriz:\n",
    "\n",
    "parameters <- c(gamma = 1/2)\n",
    "\n",
    "\n",
    "# ZAMAN ADIMLARI:\n",
    "\n",
    "# Bu, modeli çözeceğimiz zaman adımları dizisini saklayan bir vektör\n",
    "times <- seq(from = 0, to = 50, by = 1)   # 0'dan 50 güne kadar günlük aralıklarla\n",
    "\n",
    "\n",
    "### Şimdi modeli kodlayalım ! \n",
    "\n",
    "## ODEs \n",
    "# Aşağıdaki model fonksiyonu giriş argümanları olarak \n",
    "# (şu sırayla) alır: zaman, durum ve parametreler\n",
    "# Diferansiyel denklemlerin nasıl kodlandığını not edin ve notlarınızla karşılaştırın ! \n",
    "\n",
    "cohort_model <- function(time, state, parameters) {  \n",
    "  \n",
    "  with(as.list(c(state, parameters)), {     \n",
    "    \n",
    "    # Toplam popülasyon büyüklüğü N'i hesaplama (her bölmedeki kişi sayısının toplamı)\n",
    "    N <- I+R\n",
    "    \n",
    "    # Diferansiyel denklemler\n",
    "    dI  <- -gamma * I     \n",
    "    dR <- gamma * I\n",
    "\n",
    "    return(list(c(dI, dR))) \n",
    "  })\n",
    "  \n",
    "}\n"
   ]
  },
  {
   "cell_type": "markdown",
   "id": "7be8fabd",
   "metadata": {},
   "source": [
    "### 1.1 Kohort modelini çalıştırma\n",
    "\n",
    "I ve R bölmeli basit bir kohort modeli kodladık, bu durumlar için başlangıç koşulları ve ayrıca iyileşme oranını yansıtmak için gamma geçiş parametresini tanımladık.\n",
    "\n",
    "Şimdi modeli çalıştıralım ve bazı çıktıları görelim:"
   ]
  },
  {
   "cell_type": "code",
   "execution_count": 2,
   "id": "0775a3d3",
   "metadata": {
    "echo": true,
    "vscode": {
     "languageId": "r"
    },
    "warning": false
   },
   "outputs": [
    {
     "name": "stderr",
     "output_type": "stream",
     "text": [
      "Warning message:\n",
      "\"\u001b[1m\u001b[22mUsing `size` aesthetic for lines was deprecated in ggplot2 3.4.0.\n",
      "\u001b[36mℹ\u001b[39m Please use `linewidth` instead.\"\n"
     ]
    },
    {
     "data": {
      "image/png": "[encoded data removed]",
      "text/plain": [
       "plot without title"
      ]
     },
     "metadata": {
      "image/png": {
       "height": 420,
       "width": 420
      }
     },
     "output_type": "display_data"
    }
   ],
   "source": [
    "## MODEL ÇIKTISI (ode entegrasyon algoritmasını kullanarak diferansiyel denklemleri çözme)\n",
    "\n",
    "# ode fonksiyonunu (deSolve paketinden) kullanıyoruz ve yukarıda oluşturduğumuz \n",
    "# sistemi ve parametreleri geçiriyoruz\n",
    "\n",
    "# Model çıktısı output1 veri çerçevesinde saklanacak\n",
    "\n",
    "output1 <- as.data.frame(ode(y = initial_state_values, \n",
    "                             times = times, \n",
    "                             func = cohort_model,\n",
    "                             parms = parameters))\n",
    "\n",
    "# Konsolda output1 yazarak çıktıya bir göz atalım\n",
    "\n",
    "# Her durum değişkeninin (I ve R) her birinin bir sütunu olduğunu görürsünüz\n",
    "# Bu sonuçları çizmek için uzun format denilen şeyi istiyoruz, bu yüzden rehsape \n",
    "# paketini ve \"melt\" fonksiyonunu kullanarak çıktımızı o formatta alalım\n",
    "\n",
    "# çıktı veri setini uzun formata çevir\n",
    "output1_long <- melt(as.data.frame(output1), id = \"time\")                  \n",
    "\n",
    "# Konsolda output1_long yazarak çıktıya bir göz atalım\n",
    "\n",
    "\n",
    "## Model çıktısını çiz\n",
    "\n",
    "# I ve R bölmelerindeki kişi sayısını zaman içinde çiz\n",
    "ggplot(data = output1_long,                                              # çizilecek verileri içeren nesneyi belirt\n",
    "       aes(x = time, y = value, colour = variable, group = variable)) +  # sütunları eksenlere ve gruplara ata\n",
    "  geom_line(size=2) +                                                    # verileri çizgi olarak temsil et\n",
    "  xlab(\"Zaman (gün)\")+                                                   # x ekseni için etiket ekle\n",
    "  ylab(\"Sayı\") +                                                         # y ekseni için etiket ekle\n",
    "  labs(colour = \"Bölme\",                                                 # açıklama başlığı ekle  \n",
    "  title = \"Kohort modeli\")  \n",
    "\n",
    "\n",
    "\n"
   ]
  },
  {
   "cell_type": "markdown",
   "id": "66c9e40d",
   "metadata": {},
   "source": [
    "Görev: Yukarıdaki kodu kullanarak aynı modeli çalıştırmayı keşfedin ama şimdi kohortumuzda ortalama enfeksiyon süresinin iki gün yerine 10 gün olduğu bir senaryoyu hayal edin. Grafiğin neden farklı göründüğünü açıklayabilir misiniz?\n",
    "\n",
    "### Çözüm"
   ]
  },
  {
   "cell_type": "code",
   "execution_count": 3,
   "id": "94203e5c",
   "metadata": {
    "echo": true,
    "vscode": {
     "languageId": "r"
    },
    "warning": false
   },
   "outputs": [
    {
     "data": {
      "image/png": "[encoded data removed]",
      "text/plain": [
       "plot without title"
      ]
     },
     "metadata": {
      "image/png": {
       "height": 420,
       "width": 420
      }
     },
     "output_type": "display_data"
    }
   ],
   "source": [
    "\n",
    "# İpucu: gamma'yı 10 günlük bir oran olarak değiştir \n",
    "\n",
    "parameters <- c(gamma = 1/10)\n",
    "\n",
    "# Tekrar çalıştır \n",
    "output1 <- as.data.frame(ode(y = initial_state_values, \n",
    "                             times = times, \n",
    "                             func = cohort_model,\n",
    "                             parms = parameters))\n",
    "\n",
    "# Konsolda output1 yazarak çıktıya bir göz atalım\n",
    "\n",
    "# Her durum değişkeninin (I ve R) her birinin bir sütunu olduğunu görürsünüz\n",
    "# Bu sonuçları çizmek için uzun format denilen şeyi istiyoruz, bu yüzden rehsape \n",
    "# paketini ve \"melt\" fonksiyonunu kullanarak çıktımızı o formatta alalım\n",
    "\n",
    "# çıktı veri setini uzun formata çevir\n",
    "output1_long <- melt(as.data.frame(output1), id = \"time\")                  \n",
    "\n",
    "# Konsolda output1_long yazarak çıktıya bir göz atalım\n",
    "\n",
    "\n",
    "## Model çıktısını çiz\n",
    "\n",
    "# I ve R bölmelerindeki kişi sayısını zaman içinde çiz\n",
    "ggplot(data = output1_long,                                              # çizilecek verileri içeren nesneyi belirt\n",
    "       aes(x = time, y = value, colour = variable, group = variable)) +  # sütunları eksenlere ve gruplara ata\n",
    "  geom_line(size=2) +                                                    # verileri çizgi olarak temsil et\n",
    "  xlab(\"Zaman (gün)\")+                                                   # x ekseni için etiket ekle\n",
    "  ylab(\"Sayı\") +                                                         # y ekseni için etiket ekle\n",
    "  labs(colour = \"Bölme\",                                                 # açıklama başlığı ekle  \n",
    "  title = \"Kohort modeli\")  \n",
    "\n",
    "\n",
    "\n"
   ]
  },
  {
   "cell_type": "markdown",
   "id": "c2d1fecd",
   "metadata": {},
   "source": [
    "Bu grafik temel olarak iyileşme zamanının (gamma) şimdi daha uzun olduğu gerçeğini yansıtıyor (iki gün yerine 10 gün). Bu nedenle, \"I\"nin azalması ve \"R\"nin artması daha az keskin."
   ]
  }
 ],
 "metadata": {
  "jupytext": {
   "cell_metadata_filter": "warning,tags,echo,name,-all",
   "main_language": "R",
   "notebook_metadata_filter": "-all"
  },
  "kernelspec": {
   "display_name": "R",
   "language": "R",
   "name": "ir"
  },
  "language_info": {
   "codemirror_mode": "r",
   "file_extension": ".r",
   "mimetype": "text/x-r-source",
   "name": "R",
   "pygments_lexer": "r",
   "version": "4.3.2"
  }
 },
 "nbformat": 4,
 "nbformat_minor": 5
}
