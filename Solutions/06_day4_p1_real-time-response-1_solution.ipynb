{
 "cells": [
  {
   "cell_type": "markdown",
   "id": "3b4af502",
   "metadata": {},
   "source": [
    "# Day 4 part 1: Real-time with outbreak data"
   ]
  },
  {
   "cell_type": "code",
   "execution_count": null,
   "id": "fd838b17",
   "metadata": {
    "name": "setup",
    "tags": [
     "remove_cell"
    ],
    "vscode": {
     "languageId": "r"
    }
   },
   "outputs": [],
   "source": [
    "knitr::opts_chunk$set(echo = TRUE)\n",
    "\n",
    "# toggle to render full version \n",
    "render_snippet <- if (params$full_version) 'asis' else FALSE"
   ]
  },
  {
   "cell_type": "markdown",
   "id": "91bdfe56",
   "metadata": {},
   "source": [
    "## Introduction\n",
    "\n",
    "This practical (in two parts) simulates the early assessment and\n",
    "reconstruction of an Ebola Virus Disease (EVD) outbreak. It introduces various\n",
    "aspects of analysis of the early stage of an outbreak, including case fatality\n",
    "ratio (CFR), epicurves, growth rate\n",
    "estimation, contact tracing data, delays, and estimates of transmissibility."
   ]
  },
  {
   "cell_type": "code",
   "execution_count": null,
   "id": "fee39d15",
   "metadata": {
    "name": "complete_data",
    "tags": [
     "remove_input"
    ],
    "vscode": {
     "languageId": "r"
    }
   },
   "outputs": [],
   "source": [
    "# ### this is what we used to create the dataset:\n",
    "# # assuming that cases are reported on the hospitalisation date\n",
    "# data <- outbreaks::ebola_sim\n",
    "# threshold_date <- as.Date(\"2014-07-01\")\n",
    "# linelist_20140701 <- data$linelist[data$linelist$date_of_hospitalisation <= threshold_date, ]\n",
    "# # remove any outcome dates that are after present\n",
    "# linelist_20140701$outcome[linelist_20140701$date_of_outcome > threshold_date] <- NA\n",
    "# linelist_20140701$date_of_outcome[linelist_20140701$date_of_outcome > threshold_date] <- NA\n",
    "# write.csv(linelist_20140701, \"data/linelist_20140701.csv\", row.names = FALSE) # then manually change to excel file\n",
    "# ### NOTE FROM ZNK (2019-06-13)\n",
    "# # Opening this file in excel to convert to an excel document caused two case\n",
    "# # ids to be interpreted as numbers: 700e84 and 8940e5. It's actually a pretty\n",
    "# # good example to use for highlighting the errors of excel, but a better way\n",
    "# # to preserve these tags would be to use the rio package:\n",
    "# # rio::export(data, 'path/to/file.xlsx')\n",
    "# \n",
    "# contacts_20140701 <- data$contacts\n",
    "# contacts_20140701 <- contacts_20140701[!(is.na(match(contacts_20140701$case_id, linelist_20140701$case_id)) | is.na(match(contacts_20140701$infector, linelist_20140701$case_id))), ]\n",
    "# id <- intersect(contacts_20140701$infector, linelist_20140701$case_id)\n",
    "# id_maybe_dead <- linelist_20140701$case_id[(linelist_20140701$case_id %in% id) &\n",
    "#                             !(linelist_20140701$outcome %in% \"Recover\")]\n",
    "# set.seed(1)\n",
    "# change_source_to_funeral <- sample(which(contacts_20140701$infector %in% id_maybe_dead), 20) # add some funeral exposures as well\n",
    "# contacts_20140701$source[change_source_to_funeral] <- \"funeral\"\n",
    "# write.csv(contacts_20140701, \"data/contacts_20140701.csv\", row.names = FALSE) # then manually change to excel file\n"
   ]
  },
  {
   "cell_type": "markdown",
   "id": "35de6626",
   "metadata": {},
   "source": [
    "## Learning outcomes\n",
    "\n",
    "By the end of this practical, you should be able to:\n",
    "\n",
    "- Load and clean outbreak data in R ([part 1](./real-time-response-1.html))\n",
    "\n",
    "- Estimate the case fatality ratio (CFR) ([part 1](./real-time-response-1.html))\n",
    "\n",
    "- Compute and plot incidence from linelist ([part 1](./real-time-response-1.html))\n",
    "\n",
    "- Estimate & interpret the growth rate & doubling time of the epidemic ([part 2](./real-time-response-2.html))\n",
    "\n",
    "- Estimate the serial interval from data on pairs infector / infected individuals ([part 2](./real-time-response-2.html))\n",
    "\n",
    "- Estimate & interpret the reproduction number of the epidemic ([part 2](./real-time-response-2.html))\n",
    "\n",
    "- Forecast short-term future incidence ([part 2](./real-time-response-2.html))\n",
    "\n",
    "- Reconstruct who infected whom using epidemiological and genetic data ([part 3](./real-time-response-3.html))\n",
    "\n",
    "## A novel EVD outbreak in a fictional country in West Africa\n",
    "\n",
    "A new EVD outbreak has been notified in a fictional country in West Africa. The Ministry of Health is in charge of coordinating the outbreak response, and have contracted you as a consultant in epidemic analysis to inform the response in real time.\n",
    "\n",
    "## Required packages \n",
    "\n",
    "The following packages, available on CRAN or github, are needed for this analysis.\n",
    "Install necessary packages as follows:"
   ]
  },
  {
   "cell_type": "code",
   "execution_count": null,
   "id": "fe682f61",
   "metadata": {
    "echo": true,
    "eval": false,
    "name": "install_packages",
    "vscode": {
     "languageId": "r"
    }
   },
   "outputs": [],
   "source": [
    "# install.packages(\"remotes\")\n",
    "# install.packages(\"readxl\")\n",
    "# install.packages(\"outbreaks\")\n",
    "# install.packages(\"incidence\")\n",
    "# remotes::install_github(\"reconhub/epicontacts@ttree\")\n",
    "# install.packages(\"distcrete\")\n",
    "# install.packages(\"epitrix\")\n",
    "# remotes::install_github(\"annecori/EpiEstim\")\n",
    "# remotes::install_github(\"reconhub/projections\")\n",
    "# install.packages(\"ggplot2\")\n",
    "# install.packages(\"magrittr\")\n",
    "# install.packages(\"binom\")\n",
    "# install.packages(\"ape\")\n",
    "# install.packages(\"outbreaker2\")\n",
    "# install.packages(\"here\")"
   ]
  },
  {
   "cell_type": "markdown",
   "id": "cef7ede4",
   "metadata": {},
   "source": [
    "Once the packages are installed, you may need to open a new R session. Then load the libraries as follows:"
   ]
  },
  {
   "cell_type": "code",
   "execution_count": null,
   "id": "9f37f7c0",
   "metadata": {
    "message": false,
    "name": "load_library",
    "vscode": {
     "languageId": "r"
    },
    "warning": false
   },
   "outputs": [],
   "source": [
    "library(readxl)\n",
    "library(outbreaks)\n",
    "library(incidence)\n",
    "library(epicontacts)\n",
    "library(distcrete)\n",
    "library(epitrix)\n",
    "library(EpiEstim)\n",
    "library(projections)\n",
    "library(ggplot2)\n",
    "library(magrittr)\n",
    "library(binom)\n",
    "library(ape)\n",
    "library(outbreaker2)\n",
    "library(here)"
   ]
  },
  {
   "cell_type": "markdown",
   "id": "3b35eafe",
   "metadata": {},
   "source": [
    "## Early data (reading data into R)\n",
    "\n",
    "You have been given the following linelist and contact data:\n",
    "\n",
    "**linelist_20140701.xlsx**: a linelist containing case information up to the 1st July 2014; and\n",
    "\n",
    "**contact_20140701.xlsx**: a list of contacts reported between cases up to the 1st July 2014. \"infector\" indicates a potential source of infection, and \"case_id\" the recipient of the contact.\n",
    "\n",
    "To read into R, download these files and use the function `read_xlsx()` from the `readxl` package to import the data. Each import will create a data table stored as a `tibble` object. \n",
    "\n",
    "- Call the first one `linelist`, and  \n",
    "- the second one `contacts`. \n",
    "\n",
    "For instance, you first command line could look like:  \n",
    "\n"
   ]
  },
  {
   "cell_type": "code",
   "execution_count": null,
   "id": "fe403f6e",
   "metadata": {
    "name": "read_data_ni",
    "tags": [
     "remove_cell"
    ],
    "vscode": {
     "languageId": "r"
    }
   },
   "outputs": [],
   "source": [
    "linelist <- read_excel(here(\"data\",\"linelist_20140701.xlsx\"), na = c(\"\", \"NA\"))\n",
    "contacts <- read_excel(here(\"data\",\"contacts_20140701.xlsx\"), na = c(\"\", \"NA\"))"
   ]
  },
  {
   "cell_type": "markdown",
   "id": "10d61613",
   "metadata": {},
   "source": [
    "Take some time to look at the data and structure here. \n",
    "\n",
    "- Are the data and format similar to linelists that you have seen in the past? \n",
    "- If you were part of the outbreak investigation team, what other information might you want to collect?"
   ]
  },
  {
   "cell_type": "code",
   "execution_count": null,
   "id": "9020c169",
   "metadata": {
    "echo": "#R_CODE#params$full_version",
    "name": "explore_data",
    "vscode": {
     "languageId": "r"
    }
   },
   "outputs": [],
   "source": [
    "dim(linelist)\n",
    "head(linelist)"
   ]
  },
  {
   "cell_type": "markdown",
   "id": "2358439f",
   "metadata": {},
   "source": [
    "- You may want to also collect data on date of report, age, household identifier, occupation, etc."
   ]
  },
  {
   "cell_type": "markdown",
   "id": "5dcb6c77",
   "metadata": {},
   "source": [
    "Note that for further analyses, you will need to make sure that all dates as\n",
    "stored correctly as `Date` objects.  You can do this by using the function\n",
    "`as.Date`, for example:  "
   ]
  },
  {
   "cell_type": "code",
   "execution_count": null,
   "id": "cf2600b7",
   "metadata": {
    "name": "format_date_example",
    "vscode": {
     "languageId": "r"
    }
   },
   "outputs": [],
   "source": [
    "linelist$date_of_onset <- as.Date(linelist$date_of_onset, format = \"%Y-%m-%d\")"
   ]
  },
  {
   "cell_type": "code",
   "execution_count": null,
   "id": "12f6af65",
   "metadata": {
    "echo": "#R_CODE#params$full_version",
    "name": "format_dates",
    "vscode": {
     "languageId": "r"
    }
   },
   "outputs": [],
   "source": [
    "linelist$date_of_infection <- as.Date(linelist$date_of_infection, format = \"%Y-%m-%d\")\n",
    "linelist$date_of_hospitalisation <- as.Date(linelist$date_of_hospitalisation, format = \"%Y-%m-%d\")\n",
    "linelist$date_of_outcome <- as.Date(linelist$date_of_outcome, format = \"%Y-%m-%d\")"
   ]
  },
  {
   "cell_type": "markdown",
   "id": "ea14fd08",
   "metadata": {},
   "source": [
    "The formatted data should then look like:"
   ]
  },
  {
   "cell_type": "code",
   "execution_count": null,
   "id": "63d3ffb8",
   "metadata": {
    "name": "show_data",
    "tags": [
     "remove_input"
    ],
    "vscode": {
     "languageId": "r"
    }
   },
   "outputs": [],
   "source": [
    "head(linelist)\n",
    "head(contacts)"
   ]
  },
  {
   "cell_type": "markdown",
   "id": "ac3d1bb6",
   "metadata": {},
   "source": [
    "## Data cleaning and descriptive analysis\n",
    "\n",
    "Look more closely at the data contained in this `linelist`.   \n",
    "\n",
    "- What do you notice?  "
   ]
  },
  {
   "cell_type": "code",
   "execution_count": null,
   "id": "7985a249",
   "metadata": {
    "echo": "#R_CODE#params$full_version",
    "name": "explore",
    "vscode": {
     "languageId": "r"
    }
   },
   "outputs": [],
   "source": [
    "head(linelist)\n",
    "names(linelist)"
   ]
  },
  {
   "cell_type": "markdown",
   "id": "312b6031",
   "metadata": {},
   "source": [
    "You may notice that there are missing entries.  \n",
    "An important step in analysis is to identify any mistakes in data entry. \n",
    "Although it can be difficult to assess errors in hospital names, we would expect the date of infection to always be before the date of symptom onset.  \n",
    "  \n",
    "Clean this dataset to remove any entries with negative or 0 day incubation periods.  "
   ]
  },
  {
   "cell_type": "code",
   "execution_count": null,
   "id": "7da0b4b3",
   "metadata": {
    "eval": false,
    "name": "clean_data",
    "vscode": {
     "languageId": "r"
    }
   },
   "outputs": [],
   "source": [
    "## identify mistakes in data entry (negative incubation period)\n",
    "mistakes <- which(linelist$date_of_onset <= linelist$date_of_infection)\n",
    "mistakes\n",
    "linelist[mistakes, ]\n"
   ]
  },
  {
   "cell_type": "code",
   "execution_count": null,
   "id": "c942f9a3",
   "metadata": {
    "echo": "#R_CODE#params$full_version",
    "name": "clean_data_answers",
    "vscode": {
     "languageId": "r"
    }
   },
   "outputs": [],
   "source": [
    "## identify mistakes in data entry (negative incubation period)\n",
    "mistakes <- which(linelist$date_of_onset <= linelist$date_of_infection)\n",
    "mistakes\n",
    "linelist[mistakes, ] # show just the first few entries where there is negative or 0 incubation times."
   ]
  },
  {
   "cell_type": "markdown",
   "id": "d84de7e6",
   "metadata": {},
   "source": [
    "Save your \"cleaned\" linelist as a new object: `linelist_clean`  "
   ]
  },
  {
   "cell_type": "code",
   "execution_count": null,
   "id": "d933fa04",
   "metadata": {
    "name": "save_clean",
    "vscode": {
     "languageId": "r"
    }
   },
   "outputs": [],
   "source": [
    "linelist_clean <- linelist[-mistakes, ]"
   ]
  },
  {
   "cell_type": "markdown",
   "id": "2fe403a1",
   "metadata": {},
   "source": [
    "What other negative dates or mistakes might you want to check if you had the full dataset?"
   ]
  },
  {
   "cell_type": "code",
   "execution_count": null,
   "id": "680db792",
   "metadata": {
    "eval": "#R_CODE#params$full_version",
    "name": "other_checks",
    "results": "#R_CODE#render_snippet",
    "tags": [
     "remove_input"
    ],
    "vscode": {
     "languageId": "r"
    }
   },
   "outputs": [],
   "source": [
    "\n",
    "cat(\"- You may want to see if there are mistakes including but not restricted to: i) negative symptom onset to hospitalisation or outcome delays and ii) spelling errors such as hospital and names\")  \n"
   ]
  },
  {
   "cell_type": "markdown",
   "id": "d4fefe2a",
   "metadata": {
    "lines_to_next_cell": 0
   },
   "source": [
    "## Calculating the case fatality ratio (CFR)\n",
    "\n",
    "Here are the number of cases by outcome status. How would you calculate the CFR from this? "
   ]
  },
  {
   "cell_type": "code",
   "execution_count": null,
   "id": "21e9baf4",
   "metadata": {
    "name": "cfr_table",
    "vscode": {
     "languageId": "r"
    }
   },
   "outputs": [],
   "source": [
    "table(linelist_clean$outcome, useNA = \"ifany\")"
   ]
  },
  {
   "cell_type": "markdown",
   "id": "9823a54b",
   "metadata": {
    "lines_to_next_cell": 0
   },
   "source": [
    "Think about what to do with cases whose outcome is NA?"
   ]
  },
  {
   "cell_type": "code",
   "execution_count": null,
   "id": "177cd59d",
   "metadata": {
    "eval": "#R_CODE#params$full_version",
    "lines_to_next_cell": 2,
    "name": "cfr",
    "vscode": {
     "languageId": "r"
    }
   },
   "outputs": [],
   "source": [
    "n_dead <- sum(linelist_clean$outcome %in% \"Death\")\n",
    "n_known_outcome <- sum(linelist_clean$outcome %in% c(\"Death\", \"Recover\"))\n",
    "n_all <- nrow(linelist_clean)\n",
    "cfr <- n_dead / n_known_outcome\n",
    "cfr_wrong <- n_dead / n_all\n",
    "\n",
    "cfr_with_CI <- binom.confint(n_dead, n_known_outcome, method = \"exact\")\n",
    "cfr_wrong_with_CI <- binom.confint(n_dead, n_all, method = \"exact\")"
   ]
  },
  {
   "cell_type": "code",
   "execution_count": null,
   "id": "7519060e",
   "metadata": {
    "eval": "#R_CODE#params$full_version",
    "name": "cfr_snippet",
    "results": "#R_CODE#render_snippet",
    "tags": [
     "remove_input"
    ],
    "vscode": {
     "languageId": "r"
    }
   },
   "outputs": [],
   "source": [
    "\n",
    "cat(\"- Not properly accounting for the cases with unknown outcome status typically leads to underestimation of the CFR. This is particularly problematic early on in an outbreak where the final status of a large proportion of cases has not yet been observed.\")  \n"
   ]
  },
  {
   "cell_type": "markdown",
   "id": "0493fca5",
   "metadata": {},
   "source": [
    "## Looking at incidence curves\n",
    "\n",
    "The first question we want to know is simply: how bad is it?. The first step of the analysis is descriptive - we want to draw an epidemic curve or epicurve. This visualises the incidence over time by date of symptom onset.\n",
    "\n",
    "Using the package `incidence`, compute the daily incidence from the `linelist_clean` based on the dates of symptom onset. Store the result in an object called i_daily; the result should look like:  "
   ]
  },
  {
   "cell_type": "code",
   "execution_count": null,
   "id": "8ffc3387",
   "metadata": {
    "echo": "#R_CODE#params$full_version",
    "name": "incidence",
    "vscode": {
     "languageId": "r"
    }
   },
   "outputs": [],
   "source": [
    "i_daily <- incidence(linelist_clean$date_of_onset) # daily incidence"
   ]
  },
  {
   "cell_type": "code",
   "execution_count": null,
   "id": "5a9f2393",
   "metadata": {
    "name": "show_incidence",
    "vscode": {
     "languageId": "r"
    }
   },
   "outputs": [],
   "source": [
    "i_daily\n",
    "\n",
    "plot(i_daily, border = \"black\")"
   ]
  },
  {
   "cell_type": "markdown",
   "id": "1bed8d35",
   "metadata": {},
   "source": [
    "You might notice that the incidence dates `i_daily$dates` stops on the last date where we have data on date of symptom onset (29th June 2014). However close inspection of the linelist shows that the last date in the linelist (of any entry) is in fact a bit later (1st July 2014). You can use the argument `last_date` in the `incidence` function to change this.  "
   ]
  },
  {
   "cell_type": "code",
   "execution_count": null,
   "id": "0a680243",
   "metadata": {
    "echo": "#R_CODE#params$full_version",
    "name": "update_last_date",
    "vscode": {
     "languageId": "r"
    }
   },
   "outputs": [],
   "source": [
    "\n",
    "#extend last date:\n",
    "i_daily <- incidence(linelist_clean$date_of_onset, \n",
    "                     last_date = as.Date(max(linelist_clean$date_of_hospitalisation, na.rm = TRUE)))\n",
    "i_daily\n",
    "plot(i_daily, border = \"black\")\n"
   ]
  },
  {
   "cell_type": "markdown",
   "id": "0b88c1c8",
   "metadata": {},
   "source": [
    "Another issue is that it may be hard to interpret trends when looking at daily \n",
    "incidence, so also compute and plot the weekly incidence `i_weekly`, as follows:"
   ]
  },
  {
   "cell_type": "code",
   "execution_count": null,
   "id": "22f89ad8",
   "metadata": {
    "name": "show_weekly_incidence",
    "vscode": {
     "languageId": "r"
    }
   },
   "outputs": [],
   "source": [
    "i_weekly <- incidence(linelist_clean$date_of_onset, interval = 7, \n",
    "                      last_date = as.Date(max(linelist_clean$date_of_hospitalisation, na.rm = TRUE)))\n",
    "i_weekly\n",
    "\n",
    "plot(i_weekly, border = \"black\")"
   ]
  },
  {
   "cell_type": "markdown",
   "id": "c3d9bfcf",
   "metadata": {},
   "source": [
    "## Save data and outputs\n",
    "\n",
    "This is the end of [part 1](./real-time-response-1.html) of the practical. \n",
    "Before going on to [part 2](./real-time-response-2.html), you'll need to save the following objects:"
   ]
  },
  {
   "cell_type": "code",
   "execution_count": null,
   "id": "f4617a3d",
   "metadata": {
    "name": "save_data_ni",
    "tags": [
     "remove_cell"
    ],
    "vscode": {
     "languageId": "r"
    }
   },
   "outputs": [],
   "source": [
    "dir.create(here(\"data/clean\")) # create clean data directory if it doesn't exist\n",
    "saveRDS(i_daily, here(\"data/clean/i_daily.rds\"))\n",
    "saveRDS(i_weekly, here(\"data/clean/i_weekly.rds\"))\n",
    "saveRDS(linelist, here(\"data/clean/linelist.rds\"))\n",
    "saveRDS(linelist_clean, here(\"data/clean/linelist_clean.rds\"))\n",
    "saveRDS(contacts, here(\"data/clean/contacts.rds\"))"
   ]
  }
 ],
 "metadata": {
  "jupytext": {
   "cell_metadata_filter": "tags,warning,name,message,echo,eval,results,-all",
   "main_language": "R",
   "notebook_metadata_filter": "-all"
  },
  "kernelspec": {
   "display_name": "R",
   "language": "R",
   "name": "ir"
  },
  "language_info": {
   "codemirror_mode": "r",
   "file_extension": ".r",
   "mimetype": "text/x-r-source",
   "name": "R",
   "pygments_lexer": "r",
   "version": "4.3.2"
  }
 },
 "nbformat": 4,
 "nbformat_minor": 5
}
