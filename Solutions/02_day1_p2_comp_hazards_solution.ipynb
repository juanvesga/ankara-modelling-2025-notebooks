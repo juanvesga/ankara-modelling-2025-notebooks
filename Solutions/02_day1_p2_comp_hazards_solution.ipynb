{
 "cells": [
  {
   "cell_type": "markdown",
   "id": "56a8469a",
   "metadata": {},
   "source": [
    "# Day 1 part 2: Demonstration of a simple compartmental model with competing hazards"
   ]
  },
  {
   "cell_type": "code",
   "execution_count": 1,
   "id": "3443c5f8",
   "metadata": {
    "lines_to_next_cell": 2,
    "name": "setup",
    "tags": [
     "remove_cell"
    ],
    "vscode": {
     "languageId": "r"
    }
   },
   "outputs": [],
   "source": [
    "knitr::opts_chunk$set(echo = TRUE)"
   ]
  },
  {
   "cell_type": "markdown",
   "id": "b0a35c1d",
   "metadata": {},
   "source": [
    "## 1. Competing hazards\n",
    "\n",
    "Now that we have our model we can add complexity by examining further compartments and the case of competing hazards. In the next exercise we want to add a mortality compartment, that flows out of I, to describe the probability of death among the infected individuals.\n",
    "\n",
    "For the next steps, imagine that we have gathered information which suggets that the CFR for the disease we are modelling is 30%. Using that information, and the concepts we have reviewed try to incorporate a new M compartment, specify a mortality rate rate mu and run the model.\n",
    "\n",
    "Try and fill out the missing gaps in the script below:"
   ]
  },
  {
   "cell_type": "code",
   "execution_count": 2,
   "id": "d5719df8",
   "metadata": {
    "echo": true,
    "vscode": {
     "languageId": "r"
    },
    "warning": false
   },
   "outputs": [
    {
     "name": "stderr",
     "output_type": "stream",
     "text": [
      "Warning message:\n",
      "\"package 'ggplot2' was built under R version 4.3.3\"\n",
      "here() starts at C:/Users/juano/Dropbox/Code/Git/ankara-modelling-2025-notebooks\n",
      "\n",
      "Warning message:\n",
      "\"\u001b[1m\u001b[22mUsing `size` aesthetic for lines was deprecated in ggplot2 3.4.0.\n",
      "\u001b[36mℹ\u001b[39m Please use `linewidth` instead.\"\n"
     ]
    },
    {
     "data": {
      "image/png": "[encoded data removed]",
      "text/plain": [
       "plot without title"
      ]
     },
     "metadata": {
      "image/png": {
       "height": 420,
       "width": 420
      }
     },
     "output_type": "display_data"
    }
   ],
   "source": [
    "# Load some useful packages:\n",
    "library(deSolve)  # To solve differential equations \n",
    "library(reshape2) # To To manipulate our model output\n",
    "library(ggplot2)  # To produce nice plots!\n",
    "library(here)     # To ensure that we always are in our working directory\n",
    "\n",
    "\n",
    "\n",
    "## Add mortality to our cohort model \n",
    "\n",
    "# Population size:\n",
    "N <- 1000\n",
    "\n",
    "# MODEL INPUTS:\n",
    "\n",
    "# Initial conditions\n",
    "initial_state_values <- c(\n",
    "  I = N,\n",
    "  M = 0,\n",
    "  R = 0)           \n",
    "\n",
    "# Parameter values per day\n",
    "\n",
    "# For a CFR of 30% , what is mu? \n",
    "\n",
    "mu= 0.5*0.3/(1-0.3) # gamma*CFR/(1-CFR)\n",
    "\n",
    "parameters <- c(gamma = 1/2, mu)\n",
    "\n",
    "# TIMESTEPS:\n",
    "\n",
    "# Vector storing the sequence of timesteps to solve the model at\n",
    "times <- seq(from = 0, to = 50, by = 1)   # from 0 to 365 days in daily intervals\n",
    "\n",
    "# MODEL FUNCTION: \n",
    "\n",
    "# The model function takes as input arguments (in the following order): time, state and parameters\n",
    "cohort_model2 <- function(time, state, parameters) {  \n",
    "  \n",
    "  with(as.list(c(state, parameters)), {     \n",
    "    \n",
    "    # Calculating the total population size N (the sum of the number of people in each compartment)\n",
    "    N <- I + R\n",
    "    \n",
    "    # The differential equations\n",
    "    dI <- -(gamma+mu) * I     \n",
    "    dM <- I*mu\n",
    "    dR <- gamma * I\n",
    "    \n",
    "    return(list(c(dI, dM, dR))) \n",
    "  })\n",
    "  \n",
    "}\n",
    "\n",
    "# MODEL OUTPUT (solving the differential equations):\n",
    "\n",
    "# Solving the differential equations using the ode integration algorithm\n",
    "output2 <- as.data.frame(ode(y = initial_state_values, \n",
    "                             times = times, \n",
    "                             func = cohort_model2,\n",
    "                             parms = parameters))\n",
    "\n",
    "\n",
    "# turn output dataset into long format\n",
    "output2_long <- melt(as.data.frame(output2), id = \"time\")                 \n",
    "\n",
    "\n",
    "# Plot the new output\n",
    "ggplot(data = output2_long,                                               \n",
    "       aes(x = time, y = value, colour = variable, group = variable)) +  \n",
    "  geom_line(size=2) +                                                          \n",
    "  xlab(\"Time (days)\")+                                                   \n",
    "  ylab(\"Number\") +                                                       \n",
    "  labs(colour = \"Compartment\",                                          \n",
    "       title = \"Cohort model\")    "
   ]
  },
  {
   "cell_type": "markdown",
   "id": "abe3c9fe",
   "metadata": {},
   "source": [
    "### 2.1 Explore CFR from our simulation\n",
    "\n",
    "We have our model now with added mortality, try and check if CFR as estimated from the model corresponds to CFR =30%\n",
    "\n",
    "For that, we might want to see the proportion of people in each compartment"
   ]
  },
  {
   "cell_type": "code",
   "execution_count": 3,
   "id": "44d47a81",
   "metadata": {
    "echo": true,
    "vscode": {
     "languageId": "r"
    },
    "warning": false
   },
   "outputs": [
    {
     "data": {
      "image/png": "[encoded data removed]",
      "text/plain": [
       "plot without title"
      ]
     },
     "metadata": {
      "image/png": {
       "height": 420,
       "width": 420
      }
     },
     "output_type": "display_data"
    }
   ],
   "source": [
    "\n",
    "\n",
    "output3_long<- output2_long\n",
    "output3_long$value<-output2_long$value/N\n",
    "\n",
    "\n",
    "# Plot the proportion of people in the S, I and R compartments over time\n",
    "ggplot(data = output3_long,                                               \n",
    "       aes(x = time, y = value, colour = variable, group = variable)) +  \n",
    "  geom_line(size=2) +                                                        \n",
    "  xlab(\"Time (days)\")+                                                  \n",
    "  ylab(\"Number\") +                                                      \n",
    "  labs(colour = \"Compartment\",                                          \n",
    "       title = \"Cohort model\")  \n",
    "\n",
    "\n"
   ]
  },
  {
   "cell_type": "markdown",
   "id": "dfcaf625",
   "metadata": {},
   "source": [
    "Can you tell from the graph what proportion of people have died as a result of the disease?\n",
    "\n",
    "R/ Around 33%"
   ]
  }
 ],
 "metadata": {
  "jupytext": {
   "cell_metadata_filter": "warning,tags,echo,name,-all",
   "main_language": "R",
   "notebook_metadata_filter": "-all"
  },
  "kernelspec": {
   "display_name": "R",
   "language": "R",
   "name": "ir"
  },
  "language_info": {
   "codemirror_mode": "r",
   "file_extension": ".r",
   "mimetype": "text/x-r-source",
   "name": "R",
   "pygments_lexer": "r",
   "version": "4.3.2"
  }
 },
 "nbformat": 4,
 "nbformat_minor": 5
}
