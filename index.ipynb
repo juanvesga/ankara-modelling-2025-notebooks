{
 "cells": [
  {
   "cell_type": "markdown",
   "id": "f26cf193",
   "metadata": {},
   "source": [
    "# Short Course on Modelling Infectious Disease Dynamics in R\n",
    "# \n",
    "# Welcome to the interactive course materials! This 5-day intensive workshop provides hands-on experience with computational epidemiological models.\n",
    "# \n",
    "# ## 🚀 Getting Started\n",
    "# - Click on any notebook link below to open it in a new tab\n",
    "# - Start with the **Notebooks** for guided exercises\n",
    "# - Check **Solutions** after attempting the exercises yourself\n",
    "# - All required data files are included in the `data/` folder\n",
    "# \n",
    "# ---"
   ]
  },
  {
   "cell_type": "code",
   "execution_count": null,
   "id": "3bab4b3b",
   "metadata": {
    "vscode": {
     "languageId": "r"
    }
   },
   "outputs": [],
   "source": [
    "library(IRdisplay)\n",
    "display_html('<div style=\"background: linear-gradient(135deg, rgba(255, 193, 7, 0.1), rgba(255, 138, 101, 0.1)); border-left: 4px solid #ffc107; padding: 1rem; margin: 1rem 0; border-radius: 0 10px 10px 0;\">\n",
    "<h4>📢 Course Information</h4>\n",
    "<ul>\n",
    "<li><strong>Duration:</strong> 5 days intensive workshop</li>\n",
    "<li><strong>Tools:</strong> R with Jupyter Notebooks</li>\n",
    "<li><strong>Format:</strong> Interactive hands-on learning</li>\n",
    "</ul>\n",
    "</div>')\n"
   ]
  },
  {
   "cell_type": "markdown",
   "id": "0879f374",
   "metadata": {},
   "source": [
    "# ## 📅 Day 1: Introduction to Modelling Infectious Disease\n",
    "# \n",
    "# Learn the fundamentals of compartmental models and competing hazards.\n",
    "# \n",
    "# | Exercise | Description | Links |\n",
    "# |----------|-------------|-------|\n",
    "# | **Exercise 1.1** | Compartmental Models | [📓 Notebook](Notebooks/01_day1_p1_compartmental.ipynb) \\| [✅ Solution](Solutions/01_day1_p1_compartmental_solution.ipynb) |\n",
    "# | **Exercise 1.2** | Competing Hazards | [📓 Notebook](Notebooks/02_day1_p2_competing_hazards.ipynb) \\| [✅ Solution](Solutions/02_day1_p2_comp_hazards_solution.ipynb) |\n",
    "# \n",
    "# ---"
   ]
  },
  {
   "cell_type": "markdown",
   "id": "c407bd92",
   "metadata": {},
   "source": [
    "# ## 📅 Day 2: The SIR Model\n",
    "# \n",
    "# Explore SIR models, basic reproduction numbers, and herd immunity concepts.\n",
    "# \n",
    "# | Exercise | Description | Links |\n",
    "# |----------|-------------|-------|\n",
    "# | **Exercise 2.1** | SIR Model Basics | [📓 Notebook](Notebooks/03_day2_p1_SIR.ipynb) \\| [✅ Solution](Solutions/03_day2_p1_SIR_solution.ipynb) |\n",
    "# | **Exercise 2.2** | R₀ and Herd Immunity | [📓 Notebook](Notebooks/04_day2_p2_R0_herd.ipynb) \\| [✅ Solution](Solutions/04_day2_p2_R0_herd_solution.ipynb) |\n",
    "# \n",
    "# **Additional R Scripts:**\n",
    "# - [📄 SIR Model Script](R/day3_p1_SIR%20model.R)\n",
    "# - [📄 R₀ and Herd Immunity Script](R/day3_p2_R0%20and%20herd%20immunity.R)\n",
    "# \n",
    "# ---"
   ]
  },
  {
   "cell_type": "markdown",
   "id": "1ad2799a",
   "metadata": {},
   "source": [
    "# ## 📅 Day 3: Stochastic Models and Assessing Uncertainty\n",
    "# \n",
    "# Introduction to stochastic processes and uncertainty quantification.\n",
    "# \n",
    "# | Exercise | Description | Links |\n",
    "# |----------|-------------|-------|\n",
    "# | **Exercise 3.1** | Stochastic Models | [📓 Notebook](Notebooks/05_day3_p1_stochastic_models.ipynb) \\| [✅ Solution](Solutions/05_day3_p1_stochastic_models_solution.ipynb) |\n",
    "# \n",
    "# **Additional R Scripts:**\n",
    "# - [📄 Stochastic SIR](R/day4_stochastic_SIR.R)\n",
    "# - [📄 Stochastic Norovirus Model](R/day5_stochastic_Noro.R)\n",
    "# - [📄 COVID-19 SEIR Model](R/day5_stochastic_covid19_SEIR.R)\n",
    "# \n",
    "# ---"
   ]
  },
  {
   "cell_type": "markdown",
   "id": "d1ff8c1a",
   "metadata": {},
   "source": [
    "# ## 📅 Day 4: Outbreaks and Data\n",
    "# \n",
    "# Real-time response methods and practical outbreak analysis.\n",
    "# \n",
    "# | Exercise | Description | Links |\n",
    "# |----------|-------------|-------|\n",
    "# | **Exercise 4.1** | Real-time Response Part 1 | [📓 Notebook](Notebooks/06_day4_p1_real-time-response-1.ipynb) \\| [✅ Solution](Solutions/06_day4_p1_real-time-response-1_solution.ipynb) |\n",
    "# | **Exercise 4.2** | Real-time Response Part 2 | [📓 Notebook](Notebooks/07_day4_p2_real-time-response-2.ipynb) \\| [✅ Solution](Solutions/07_day4_p2_real-time-response-2_solution.ipynb) |\n",
    "# \n",
    "# ---"
   ]
  },
  {
   "cell_type": "markdown",
   "id": "bcda6e94",
   "metadata": {},
   "source": [
    "# ## 📅 Day 5: Final Assignment and Wrap-up\n",
    "# \n",
    "# The final assignment will be introduced on Day 4 and completed on Day 5. Groups will work on a comprehensive project integrating all course concepts.\n",
    "# \n",
    "# *Final assignment materials will be made available during the course.*\n",
    "# \n",
    "# ---"
   ]
  },
  {
   "cell_type": "code",
   "execution_count": null,
   "id": "77dfa53c",
   "metadata": {
    "vscode": {
     "languageId": "r"
    }
   },
   "outputs": [],
   "source": [
    "display_html('<div style=\"background: linear-gradient(135deg, rgba(108, 117, 125, 0.1), rgba(73, 80, 87, 0.1)); border-left: 4px solid #6c757d; padding: 1.5rem; margin: 1rem 0; border-radius: 0 10px 10px 0;\">\n",
    "<h3>📊 Course Resources</h3>\n",
    "<ul>\n",
    "<li><strong>📁 Data Files:</strong> All required datasets are in the <code>data/</code> folder</li>\n",
    "<li><strong>🖼️ Images:</strong> Reference images and plots in <code>static/img/</code></li>\n",
    "<li><strong>📋 Clean Data:</strong> Processed datasets available in <code>data/clean/</code></li>\n",
    "</ul>\n",
    "</div>')"
   ]
  },
  {
   "cell_type": "markdown",
   "id": "3efcbdb4",
   "metadata": {},
   "source": [
    "# ## 🔗 Quick Navigation\n",
    "# \n",
    "# **All Notebooks:** [Day 1](#day-1-introduction-to-modelling-infectious-disease) | [Day 2](#day-2-the-sir-model) | [Day 3](#day-3-stochastic-models-and-assessing-uncertainty) | [Day 4](#day-4-outbreaks-and-data)\n",
    "# \n",
    "# **Need Help?** \n",
    "# - 📧 Contact instructor: juan.vesga@ukhsa.gov.uk\n",
    "# - 📝 [Course feedback form](https://docs.google.com/forms/d/e/1FAIpQLSdFiJ5aNAhuntxj9zGolBcCIZTiXQmPzMwFkwPtQgmi8mPBYQ/viewform)\n",
    "# \n",
    "# ---\n",
    "# \n",
    "# *Created by Juan F Vesga for The Health Security Project (HSP) in Türkiye*"
   ]
  }
 ],
 "metadata": {
  "kernelspec": {
   "display_name": "R",
   "language": "R",
   "name": "ir"
  },
  "language_info": {
   "name": "R"
  }
 },
 "nbformat": 4,
 "nbformat_minor": 5
}
