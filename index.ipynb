{
 "cells": [
  {
   "cell_type": "markdown",
   "id": "f26cf193",
   "metadata": {},
   "source": [
    "# Course Materials - Infectious Disease Modeling\n",
    "\n",
    "Welcome to the interactive course materials! Click on the links below to open each notebook.\n",
    "\n",
    "## Day 1: Introduction to Modeling\n",
    "- [Notebook 1.1: Basic Concepts](Day1_Basic_Concepts.ipynb)\n",
    "- [Notebook 1.2: First Model](Day1_First_Model.ipynb)"
   ]
  },
  {
   "cell_type": "code",
   "execution_count": null,
   "id": "3bab4b3b",
   "metadata": {},
   "outputs": [],
   "source": [
    "library(IRdisplay)\n",
    "display_html('<h3 style=\"color: #e74c3c;\">Ready to start modeling! 🚀</h3>')"
   ]
  }
 ],
 "metadata": {
  "language_info": {
   "name": "python"
  }
 },
 "nbformat": 4,
 "nbformat_minor": 5
}
