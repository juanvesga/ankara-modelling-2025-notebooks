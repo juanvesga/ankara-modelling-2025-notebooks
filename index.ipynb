{
 "cells": [
  {
   "cell_type": "markdown",
   "id": "f26cf193",
   "metadata": {},
   "source": [
    "# Short Course on Modelling Infectious Disease Dynamics in R\n",
    "# \n",
    "# Welcome to the interactive course materials! This 5-day intensive workshop provides hands-on experience with computational epidemiological models.\n",
    "# \n",
    "# ### 🚀 Getting Started\n",
    "# - Click on any notebook link below to open it in a new tab\n",
    "# - Start with the **Notebooks** for guided exercises  \n",
    "# - Check **Solutions** after attempting the exercises yourself\n",
    "# - All required data files are included in the `data/` folder\n"
   ]
  },
  {
   "cell_type": "code",
   "execution_count": 16,
   "id": "3bab4b3b",
   "metadata": {
    "vscode": {
     "languageId": "r"
    }
   },
   "outputs": [
    {
     "data": {
      "text/html": [
       "<style>\n",
       ".jp-RenderedHTMLCommon h1 { \n",
       "  font-size: 2.2em !important; \n",
       "  color: #2c3e50 !important; \n",
       "  margin-bottom: 0.5em !important;\n",
       "}\n",
       ".jp-RenderedHTMLCommon h2 { \n",
       "  font-size: 1.6em !important; \n",
       "  color: #34495e !important; \n",
       "  margin-top: 1.5em !important;\n",
       "  margin-bottom: 0.8em !important;\n",
       "}\n",
       ".jp-RenderedHTMLCommon h3 { \n",
       "  font-size: 1.3em !important; \n",
       "  color: #2c3e50 !important; \n",
       "}\n",
       ".jp-RenderedHTMLCommon h4 { \n",
       "  font-size: 1.1em !important; \n",
       "  color: #34495e !important; \n",
       "}\n",
       ".jp-RenderedHTMLCommon table {\n",
       "  border-collapse: collapse !important;\n",
       "  width: 100% !important;\n",
       "  margin: 1em 0 !important;\n",
       "  font-size: 0.9em !important;\n",
       "}\n",
       ".jp-RenderedHTMLCommon table th {\n",
       "  background-color: #f8f9fa !important;\n",
       "  border: 1px solid #dee2e6 !important;\n",
       "  padding: 0.75rem !important;\n",
       "  text-align: left !important;\n",
       "  font-weight: 600 !important;\n",
       "}\n",
       ".jp-RenderedHTMLCommon table td {\n",
       "  border: 1px solid #dee2e6 !important;\n",
       "  padding: 0.75rem !important;\n",
       "  vertical-align: top !important;\n",
       "}\n",
       ".jp-RenderedHTMLCommon table tr:nth-child(even) {\n",
       "  background-color: #f8f9fa !important;\n",
       "}\n",
       ".info-box {\n",
       "  background: linear-gradient(135deg, rgba(52, 152, 219, 0.1), rgba(155, 89, 182, 0.1)) !important;\n",
       "  border-left: 4px solid #3498db !important;\n",
       "  padding: 1rem !important;\n",
       "  margin: 1rem 0 !important;\n",
       "  border-radius: 0 8px 8px 0 !important;\n",
       "}\n",
       ".warning-box {\n",
       "  background: linear-gradient(135deg, rgba(255, 193, 7, 0.1), rgba(255, 138, 101, 0.1)) !important;\n",
       "  border-left: 4px solid #f39c12 !important;\n",
       "  padding: 1rem !important;\n",
       "  margin: 1rem 0 !important;\n",
       "  border-radius: 0 8px 8px 0 !important;\n",
       "}\n",
       "</style>"
      ]
     },
     "metadata": {},
     "output_type": "display_data"
    }
   ],
   "source": [
    "\n",
    "library(IRdisplay)\n",
    "\n",
    "display_html('<style>\n",
    ".jp-RenderedHTMLCommon h1 { \n",
    "  font-size: 2.2em !important; \n",
    "  color: #2c3e50 !important; \n",
    "  margin-bottom: 0.5em !important;\n",
    "}\n",
    ".jp-RenderedHTMLCommon h2 { \n",
    "  font-size: 1.6em !important; \n",
    "  color: #34495e !important; \n",
    "  margin-top: 1.5em !important;\n",
    "  margin-bottom: 0.8em !important;\n",
    "}\n",
    ".jp-RenderedHTMLCommon h3 { \n",
    "  font-size: 1.3em !important; \n",
    "  color: #2c3e50 !important; \n",
    "}\n",
    ".jp-RenderedHTMLCommon h4 { \n",
    "  font-size: 1.1em !important; \n",
    "  color: #34495e !important; \n",
    "}\n",
    ".jp-RenderedHTMLCommon table {\n",
    "  border-collapse: collapse !important;\n",
    "  width: 100% !important;\n",
    "  margin: 1em 0 !important;\n",
    "  font-size: 0.9em !important;\n",
    "}\n",
    ".jp-RenderedHTMLCommon table th {\n",
    "  background-color: #f8f9fa !important;\n",
    "  border: 1px solid #dee2e6 !important;\n",
    "  padding: 0.75rem !important;\n",
    "  text-align: left !important;\n",
    "  font-weight: 600 !important;\n",
    "}\n",
    ".jp-RenderedHTMLCommon table td {\n",
    "  border: 1px solid #dee2e6 !important;\n",
    "  padding: 0.75rem !important;\n",
    "  vertical-align: top !important;\n",
    "}\n",
    ".jp-RenderedHTMLCommon table tr:nth-child(even) {\n",
    "  background-color: #f8f9fa !important;\n",
    "}\n",
    ".info-box {\n",
    "  background: linear-gradient(135deg, rgba(52, 152, 219, 0.1), rgba(155, 89, 182, 0.1)) !important;\n",
    "  border-left: 4px solid #3498db !important;\n",
    "  padding: 1rem !important;\n",
    "  margin: 1rem 0 !important;\n",
    "  border-radius: 0 8px 8px 0 !important;\n",
    "}\n",
    ".warning-box {\n",
    "  background: linear-gradient(135deg, rgba(255, 193, 7, 0.1), rgba(255, 138, 101, 0.1)) !important;\n",
    "  border-left: 4px solid #f39c12 !important;\n",
    "  padding: 1rem !important;\n",
    "  margin: 1rem 0 !important;\n",
    "  border-radius: 0 8px 8px 0 !important;\n",
    "}\n",
    "</style>')\n"
   ]
  },
  {
   "cell_type": "markdown",
   "id": "0879f374",
   "metadata": {},
   "source": [
    "# ## Day 1: Introduction to Modelling Infectious Disease\n",
    "# \n",
    "# Learn the fundamentals of compartmental models and competing hazards.\n",
    "# \n",
    "# | Exercise | Description | Notebook | Solution |\n",
    "# |----------|-------------|----------|----------|\n",
    "# | **1.1** | Compartmental Models | [📓 Exercise](Notebooks/EN/01_day1_p1_compartmental.ipynb) | [✅ Solution](Solutions/EN/01_day1_p1_compartmental_solution.ipynb) |\n",
    "# | **1.2** | Competing Hazards | [📓 Exercise](Notebooks/EN/02_day1_p2_competing_hazards.ipynb) | [✅ Solution](Solutions/EN/02_day1_p2_comp_hazards_solution.ipynb) |\n"
   ]
  },
  {
   "cell_type": "markdown",
   "id": "c407bd92",
   "metadata": {},
   "source": [
    "# ## Day 2: The SIR Model\n",
    "# \n",
    "# Explore SIR models, basic reproduction numbers, and herd immunity concepts.\n",
    "# \n",
    "# | Exercise | Description | Notebook | Solution |\n",
    "# |----------|-------------|----------|----------|\n",
    "# | **2.1** | SIR Model Basics | [📓 Exercise](Notebooks/EN/03_day2_p1_SIR.ipynb) | [✅ Solution](Solutions/EN/03_day2_p1_SIR_solution.ipynb) |\n",
    "# | **2.2** | R₀ and Herd Immunity | [📓 Exercise](Notebooks/EN/04_day2_p2_R0_herd.ipynb) | [✅ Solution](Solutions/EN/04_day2_p2_R0_herd_solution.ipynb) |\n",
    "# \n",
    "# **Additional R Scripts:**\n",
    "# - [📄 SIR Model Script](R/day3_p1_SIR%20model.R)\n",
    "# - [📄 R₀ and Herd Immunity Script](R/day3_p2_R0%20and%20herd%20immunity.R)\n"
   ]
  },
  {
   "cell_type": "markdown",
   "id": "1ad2799a",
   "metadata": {},
   "source": [
    "# ## Day 3: Stochastic Models and Assessing Uncertainty\n",
    "# \n",
    "# Introduction to stochastic processes and uncertainty quantification.\n",
    "# \n",
    "# | Exercise | Description | Notebook | Solution |\n",
    "# |----------|-------------|----------|----------|\n",
    "# | **3.1** | Stochastic Models | [📓 Exercise](Notebooks/EN/05_day3_p1_stochastic_models.ipynb) | [✅ Solution](Solutions/EN/05_day3_p1_stochastic_models_solution.ipynb) |\n",
    "# \n",
    "# **Additional R Scripts:**\n",
    "# - [📄 Stochastic SIR](R/day4_stochastic_SIR.R)\n",
    "# - [📄 Stochastic Norovirus Model](R/day5_stochastic_Noro.R)\n",
    "# - [📄 COVID-19 SEIR Model](R/day5_stochastic_covid19_SEIR.R)\n"
   ]
  },
  {
   "cell_type": "markdown",
   "id": "d1ff8c1a",
   "metadata": {},
   "source": [
    "# ## Day 4: Outbreaks and Data\n",
    "# \n",
    "# Real-time response methods and practical outbreak analysis.\n",
    "# \n",
    "# | Exercise | Description | Notebook | Solution |\n",
    "# |----------|-------------|----------|----------|\n",
    "# | **4.1** | Real-time Response Part 1 | [📓 Exercise](Notebooks/EN/06_day4_p1_real-time-response-1.ipynb) | [✅ Solution](Solutions/EN/06_day4_p1_real-time-response-1_solution.ipynb) |\n",
    "# | **4.2** | Real-time Response Part 2 | [📓 Exercise](Notebooks/EN/07_day4_p2_real-time-response-2.ipynb) | [✅ Solution](Solutions/EN/07_day4_p2_real-time-response-2_solution.ipynb) |\n"
   ]
  },
  {
   "cell_type": "markdown",
   "id": "bcda6e94",
   "metadata": {},
   "source": [
    "# ## Day 5: Final Assignment and Wrap-up\n",
    "# \n",
    "# The final assignment will be introduced on Day 4 and completed on Day 5. Groups will work on a comprehensive project integrating all course concepts.\n",
    "# \n",
    "# *Final assignment materials will be made available during the course.*\n"
   ]
  },
  {
   "cell_type": "code",
   "execution_count": null,
   "id": "77dfa53c",
   "metadata": {
    "vscode": {
     "languageId": "r"
    }
   },
   "outputs": [
    {
     "data": {
      "text/html": [
       "<div class=\"info-box\">\n",
       "<h4>📊 Course Resources</h4>\n",
       "<ul style=\"margin: 0.5em 0; padding-left: 1.5em;\">\n",
       "<li><strong>📁 Data Files:</strong> All required datasets are in the <code>data/</code> folder</li>\n",
       "<li><strong>🖼️ Images:</strong> Reference images and plots in <code>static/img/</code></li>\n",
       "<li><strong>📋 Clean Data:</strong> Processed datasets available in <code>data/clean/</code></li>\n",
       "</ul>\n",
       "</div>"
      ]
     },
     "metadata": {},
     "output_type": "display_data"
    }
   ],
   "source": [
    "\n",
    "display_html('<div class=\"info-box\">\n",
    "<h4>📊 Course Resources</h4>\n",
    "<ul style=\"margin: 0.5em 0; padding-left: 1.5em;\">\n",
    "<li><strong>📁 Data Files:</strong> All required datasets are in the <code>data/</code> folder</li>\n",
    "<li><strong>🖼️ Images:</strong> Reference images and plots in <code>static/img/</code></li>\n",
    "<li><strong>📋 Clean Data:</strong> Processed datasets available in <code>data/clean/</code></li>\n",
    "</ul>\n",
    "</div>')"
   ]
  },
  {
   "cell_type": "code",
   "execution_count": 18,
   "id": "d4cd9812",
   "metadata": {
    "vscode": {
     "languageId": "r"
    }
   },
   "outputs": [
    {
     "data": {
      "text/html": [
       "<div class=\"warning-box\">\n",
       "<h4>🌐 Language Options</h4>\n",
       "<p style=\"margin: 0.5em 0;\">This course is available in multiple languages:</p>\n",
       "<ul style=\"margin: 0.5em 0; padding-left: 1.5em;\">\n",
       "<li><strong>🇬🇧 English:</strong> You are currently viewing the English version</li>\n",
       "<li><strong>🇹🇷 Türkçe:</strong> <a href=\"index-tr.ipynb\" style=\"color: #e74c3c; font-weight: bold;\">Switch to Turkish version</a></li>\n",
       "</ul>\n",
       "</div>"
      ]
     },
     "metadata": {},
     "output_type": "display_data"
    }
   ],
   "source": [
    "\n",
    "display_html('<div class=\"warning-box\">\n",
    "<h4>🌐 Language Options</h4>\n",
    "<p style=\"margin: 0.5em 0;\">This course is available in multiple languages:</p>\n",
    "<ul style=\"margin: 0.5em 0; padding-left: 1.5em;\">\n",
    "<li><strong>🇬🇧 English:</strong> You are currently viewing the English version</li>\n",
    "<li><strong>🇹🇷 Türkçe:</strong> <a href=\"index-tr.ipynb\" style=\"color: #e74c3c; font-weight: bold;\">Switch to Turkish version</a></li>\n",
    "</ul>\n",
    "</div>')"
   ]
  },
  {
   "cell_type": "markdown",
   "id": "3efcbdb4",
   "metadata": {},
   "source": [
    "# ---\n",
    "# \n",
    "# ### 📞 Need Help?\n",
    "# \n",
    "# - **📧 Instructor:** juan.vesga@ukhsa.gov.uk  \n",
    "# - **📝 Feedback:** [Course feedback form](https://docs.google.com/forms/d/e/1FAIpQLSdFiJ5aNAhuntxj9zGolBcCIZTiXQmPzMwFkwPtQgmi8mPBYQ/viewform)\n",
    "# \n",
    "# *Created by Juan F Vesga for The Health Security Project (HSP) in Türkiye*"
   ]
  }
 ],
 "metadata": {
  "kernelspec": {
   "display_name": "R",
   "language": "R",
   "name": "ir"
  },
  "language_info": {
   "codemirror_mode": "r",
   "file_extension": ".r",
   "mimetype": "text/x-r-source",
   "name": "R",
   "pygments_lexer": "r",
   "version": "4.3.2"
  }
 },
 "nbformat": 4,
 "nbformat_minor": 5
}
