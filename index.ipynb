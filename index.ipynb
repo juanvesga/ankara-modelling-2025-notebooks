{
 "cells": [
  {
   "cell_type": "markdown",
   "id": "f26cf193",
   "metadata": {},
   "source": [
    "<h1 style=\"font-size: 2.2em; color: #2c3e50; margin-bottom: 0.5em; text-align: center;\">Short Course on Modelling Infectious Disease Dynamics in R</h1>\n",
    "\n",
    "<p style=\"text-align: center; font-size: 1.1em; color: #7f8c8d; margin-bottom: 1.5em;\">Welcome to the interactive course materials! This 5-day intensive workshop provides hands-on experience with computational epidemiological models.</p>\n",
    "\n",
    "<h3 style=\"font-size: 1.3em; color: #2c3e50; margin-top: 1.5em;\">🚀 Getting Started</h3>\n",
    "<ul style=\"font-size: 0.95em; line-height: 1.6;\">\n",
    "<li>Click on any notebook link below to open it in a new tab</li>\n",
    "<li>Start with the <strong>Notebooks</strong> for guided exercises</li>\n",
    "<li>Check <strong>Solutions</strong> after attempting the exercises yourself</li>\n",
    "<li>All required data files are included in the <code>data/</code> folder</li>\n",
    "</ul>\n"
   ]
  },
  {
   "cell_type": "markdown",
   "id": "b3bf2c71",
   "metadata": {},
   "source": [
    "<div style=\"background: linear-gradient(135deg, rgba(52, 152, 219, 0.15), rgba(155, 89, 182, 0.15)); border-left: 4px solid #3498db; padding: 1rem; margin: 1rem 0; border-radius: 0 8px 8px 0;\">\n",
    "<h4 style=\"font-size: 1.1em; color: #2c3e50; margin: 0 0 0.5em 0;\">📢 Course Information</h4>\n",
    "<ul style=\"margin: 0.5em 0; padding-left: 1.5em; font-size: 0.95em;\">\n",
    "<li><strong>Duration:</strong> 5 days intensive workshop</li>\n",
    "<li><strong>Tools:</strong> R with Jupyter Notebooks</li>\n",
    "<li><strong>Format:</strong> Interactive hands-on learning</li>\n",
    "<li><strong>Location:</strong> Ankara, Turkey</li>\n",
    "</ul>\n",
    "</div>"
   ]
  },
  {
   "cell_type": "markdown",
   "id": "0879f374",
   "metadata": {},
   "source": [
    "<h2 style=\"font-size: 1.6em; color: #34495e; margin-top: 2em; margin-bottom: 1em; border-bottom: 2px solid #3498db; padding-bottom: 0.5em;\">Day 1: Introduction to Modelling Infectious Disease</h2>\n",
    "\n",
    "<p style=\"font-size: 0.95em; margin-bottom: 1em;\">Learn the fundamentals of compartmental models and competing hazards.</p>\n",
    "\n",
    "<table style=\"border-collapse: collapse; width: 100%; font-size: 0.9em; margin: 1em 0; box-shadow: 0 2px 4px rgba(0,0,0,0.1);\">\n",
    "  <thead>\n",
    "    <tr style=\"background: linear-gradient(135deg, #e8f4f8, #d6eaf8);\">\n",
    "      <th style=\"border: 1px solid #bdc3c7; padding: 0.75rem; font-weight: 600; color: #2c3e50;\">Exercise</th>\n",
    "      <th style=\"border: 1px solid #bdc3c7; padding: 0.75rem; font-weight: 600; color: #2c3e50;\">Description</th>\n",
    "      <th style=\"border: 1px solid #bdc3c7; padding: 0.75rem; font-weight: 600; color: #2c3e50;\">Notebook</th>\n",
    "      <th style=\"border: 1px solid #bdc3c7; padding: 0.75rem; font-weight: 600; color: #2c3e50;\">Solution</th>\n",
    "    </tr>\n",
    "  </thead>\n",
    "  <tbody>\n",
    "    <tr>\n",
    "      <td style=\"border: 1px solid #bdc3c7; padding: 0.75rem;\"><strong>1.1</strong></td>\n",
    "      <td style=\"border: 1px solid #bdc3c7; padding: 0.75rem;\">Compartmental Models</td>\n",
    "      <td style=\"border: 1px solid #bdc3c7; padding: 0.75rem;\"><a href=\"Notebooks/EN/01_day1_p1_compartmental.ipynb\" style=\"color: #3498db; text-decoration: none;\">📓 Exercise</a></td>\n",
    "      <td style=\"border: 1px solid #bdc3c7; padding: 0.75rem;\"><a href=\"Solutions/EN/01_day1_p1_compartmental_solution.ipynb\" style=\"color: #27ae60; text-decoration: none;\">✅ Solution</a></td>\n",
    "    </tr>\n",
    "    <tr style=\"background-color: #f8f9fa;\">\n",
    "      <td style=\"border: 1px solid #bdc3c7; padding: 0.75rem;\"><strong>1.2</strong></td>\n",
    "      <td style=\"border: 1px solid #bdc3c7; padding: 0.75rem;\">Competing Hazards</td>\n",
    "      <td style=\"border: 1px solid #bdc3c7; padding: 0.75rem;\"><a href=\"Notebooks/EN/02_day1_p2_competing_hazards.ipynb\" style=\"color: #3498db; text-decoration: none;\">📓 Exercise</a></td>\n",
    "      <td style=\"border: 1px solid #bdc3c7; padding: 0.75rem;\"><a href=\"Solutions/EN/02_day1_p2_comp_hazards_solution.ipynb\" style=\"color: #27ae60; text-decoration: none;\">✅ Solution</a></td>\n",
    "    </tr>\n",
    "  </tbody>\n",
    "</table>"
   ]
  },
  {
   "cell_type": "markdown",
   "id": "c407bd92",
   "metadata": {},
   "source": [
    "<h2 style=\"font-size: 1.6em; color: #34495e; margin-top: 2em; margin-bottom: 1em; border-bottom: 2px solid #e67e22; padding-bottom: 0.5em;\">Day 2: The SIR Model</h2>\n",
    "\n",
    "<p style=\"font-size: 0.95em; margin-bottom: 1em;\">Explore SIR models, basic reproduction numbers, and herd immunity concepts.</p>\n",
    "\n",
    "<table style=\"border-collapse: collapse; width: 100%; font-size: 0.9em; margin: 1em 0; box-shadow: 0 2px 4px rgba(0,0,0,0.1);\">\n",
    "  <thead>\n",
    "    <tr style=\"background: linear-gradient(135deg, #fef9e7, #fcf3cf);\">\n",
    "      <th style=\"border: 1px solid #bdc3c7; padding: 0.75rem; font-weight: 600; color: #2c3e50;\">Exercise</th>\n",
    "      <th style=\"border: 1px solid #bdc3c7; padding: 0.75rem; font-weight: 600; color: #2c3e50;\">Description</th>\n",
    "      <th style=\"border: 1px solid #bdc3c7; padding: 0.75rem; font-weight: 600; color: #2c3e50;\">Notebook</th>\n",
    "      <th style=\"border: 1px solid #bdc3c7; padding: 0.75rem; font-weight: 600; color: #2c3e50;\">Solution</th>\n",
    "    </tr>\n",
    "  </thead>\n",
    "  <tbody>\n",
    "    <tr>\n",
    "      <td style=\"border: 1px solid #bdc3c7; padding: 0.75rem;\"><strong>2.1</strong></td>\n",
    "      <td style=\"border: 1px solid #bdc3c7; padding: 0.75rem;\">SIR Model Basics</td>\n",
    "      <td style=\"border: 1px solid #bdc3c7; padding: 0.75rem;\"><a href=\"Notebooks/EN/03_day2_p1_SIR.ipynb\" style=\"color: #3498db; text-decoration: none;\">📓 Exercise</a></td>\n",
    "      <td style=\"border: 1px solid #bdc3c7; padding: 0.75rem;\"><a href=\"Solutions/EN/03_day2_p1_SIR_solution.ipynb\" style=\"color: #27ae60; text-decoration: none;\">✅ Solution</a></td>\n",
    "    </tr>\n",
    "    <tr style=\"background-color: #f8f9fa;\">\n",
    "      <td style=\"border: 1px solid #bdc3c7; padding: 0.75rem;\"><strong>2.2</strong></td>\n",
    "      <td style=\"border: 1px solid #bdc3c7; padding: 0.75rem;\">R₀ and Herd Immunity</td>\n",
    "      <td style=\"border: 1px solid #bdc3c7; padding: 0.75rem;\"><a href=\"Notebooks/EN/04_day2_p2_R0_herd.ipynb\" style=\"color: #3498db; text-decoration: none;\">📓 Exercise</a></td>\n",
    "      <td style=\"border: 1px solid #bdc3c7; padding: 0.75rem;\"><a href=\"Solutions/EN/04_day2_p2_R0_herd_solution.ipynb\" style=\"color: #27ae60; text-decoration: none;\">✅ Solution</a></td>\n",
    "    </tr>\n",
    "  </tbody>\n",
    "</table>\n",
    "\n",
    "<div style=\"background: #f0f8ff; border-left: 4px solid #3498db; padding: 1rem; margin: 1rem 0; border-radius: 0 8px 8px 0;\">\n",
    "<h4 style=\"font-size: 1.1em; color: #2c3e50; margin: 0 0 0.5em 0;\">Additional R Scripts:</h4>\n",
    "<ul style=\"margin: 0; padding-left: 1.5em;\">\n",
    "<li><a href=\"R/day3_p1_SIR%20model.R\" style=\"color: #8e44ad; text-decoration: none;\">📄 SIR Model Script</a></li>\n",
    "<li><a href=\"R/day3_p2_R0%20and%20herd%20immunity.R\" style=\"color: #8e44ad; text-decoration: none;\">📄 R₀ and Herd Immunity Script</a></li>\n",
    "</ul>\n",
    "</div>\n"
   ]
  },
  {
   "cell_type": "markdown",
   "id": "1ad2799a",
   "metadata": {},
   "source": [
    "<h2 style=\"font-size: 1.6em; color: #34495e; margin-top: 2em; margin-bottom: 1em; border-bottom: 2px solid #9b59b6; padding-bottom: 0.5em;\">Day 3: Stochastic Models and Assessing Uncertainty</h2>\n",
    "\n",
    "<p style=\"font-size: 0.95em; margin-bottom: 1em;\">Introduction to stochastic processes and uncertainty quantification.</p>\n",
    "\n",
    "<table style=\"border-collapse: collapse; width: 100%; font-size: 0.9em; margin: 1em 0; box-shadow: 0 2px 4px rgba(0,0,0,0.1);\">\n",
    "  <thead>\n",
    "    <tr style=\"background: linear-gradient(135deg, #f4ecf7, #e8daef);\">\n",
    "      <th style=\"border: 1px solid #bdc3c7; padding: 0.75rem; font-weight: 600; color: #2c3e50;\">Exercise</th>\n",
    "      <th style=\"border: 1px solid #bdc3c7; padding: 0.75rem; font-weight: 600; color: #2c3e50;\">Description</th>\n",
    "      <th style=\"border: 1px solid #bdc3c7; padding: 0.75rem; font-weight: 600; color: #2c3e50;\">Notebook</th>\n",
    "      <th style=\"border: 1px solid #bdc3c7; padding: 0.75rem; font-weight: 600; color: #2c3e50;\">Solution</th>\n",
    "    </tr>\n",
    "  </thead>\n",
    "  <tbody>\n",
    "    <tr>\n",
    "      <td style=\"border: 1px solid #bdc3c7; padding: 0.75rem;\"><strong>3.1</strong></td>\n",
    "      <td style=\"border: 1px solid #bdc3c7; padding: 0.75rem;\">Stochastic Models</td>\n",
    "      <td style=\"border: 1px solid #bdc3c7; padding: 0.75rem;\"><a href=\"Notebooks/EN/05_day3_p1_stochastic_models.ipynb\" style=\"color: #3498db; text-decoration: none;\">📓 Exercise</a></td>\n",
    "      <td style=\"border: 1px solid #bdc3c7; padding: 0.75rem;\"><a href=\"Solutions/EN/05_day3_p1_stochastic_models_solution.ipynb\" style=\"color: #27ae60; text-decoration: none;\">✅ Solution</a></td>\n",
    "    </tr>\n",
    "  </tbody>\n",
    "</table>\n",
    "\n",
    "<div style=\"background: #f0f8ff; border-left: 4px solid #9b59b6; padding: 1rem; margin: 1rem 0; border-radius: 0 8px 8px 0;\">\n",
    "<h4 style=\"font-size: 1.1em; color: #2c3e50; margin: 0 0 0.5em 0;\">Additional R Scripts:</h4>\n",
    "<ul style=\"margin: 0; padding-left: 1.5em;\">\n",
    "<li><a href=\"R/day4_stochastic_SIR.R\" style=\"color: #8e44ad; text-decoration: none;\">📄 Stochastic SIR</a></li>\n",
    "<li><a href=\"R/day5_stochastic_Noro.R\" style=\"color: #8e44ad; text-decoration: none;\">📄 Stochastic Norovirus Model</a></li>\n",
    "<li><a href=\"R/day5_stochastic_covid19_SEIR.R\" style=\"color: #8e44ad; text-decoration: none;\">📄 COVID-19 SEIR Model</a></li>\n",
    "</ul>\n",
    "</div>"
   ]
  },
  {
   "cell_type": "markdown",
   "id": "d1ff8c1a",
   "metadata": {},
   "source": [
    "<h2 style=\"font-size: 1.6em; color: #34495e; margin-top: 2em; margin-bottom: 1em; border-bottom: 2px solid #e74c3c; padding-bottom: 0.5em;\">Day 4: Outbreaks and Data</h2>\n",
    "\n",
    "<p style=\"font-size: 0.95em; margin-bottom: 1em;\">Real-time response methods and practical outbreak analysis.</p>\n",
    "\n",
    "<table style=\"border-collapse: collapse; width: 100%; font-size: 0.9em; margin: 1em 0; box-shadow: 0 2px 4px rgba(0,0,0,0.1);\">\n",
    "  <thead>\n",
    "    <tr style=\"background: linear-gradient(135deg, #fdedec, #fadbd8);\">\n",
    "      <th style=\"border: 1px solid #bdc3c7; padding: 0.75rem; font-weight: 600; color: #2c3e50;\">Exercise</th>\n",
    "      <th style=\"border: 1px solid #bdc3c7; padding: 0.75rem; font-weight: 600; color: #2c3e50;\">Description</th>\n",
    "      <th style=\"border: 1px solid #bdc3c7; padding: 0.75rem; font-weight: 600; color: #2c3e50;\">Notebook</th>\n",
    "      <th style=\"border: 1px solid #bdc3c7; padding: 0.75rem; font-weight: 600; color: #2c3e50;\">Solution</th>\n",
    "    </tr>\n",
    "  </thead>\n",
    "  <tbody>\n",
    "    <tr>\n",
    "      <td style=\"border: 1px solid #bdc3c7; padding: 0.75rem;\"><strong>4.1</strong></td>\n",
    "      <td style=\"border: 1px solid #bdc3c7; padding: 0.75rem;\">Real-time Response Part 1</td>\n",
    "      <td style=\"border: 1px solid #bdc3c7; padding: 0.75rem;\"><a href=\"Notebooks/EN/06_day4_p1_real-time-response-1.ipynb\" style=\"color: #3498db; text-decoration: none;\">📓 Exercise</a></td>\n",
    "      <td style=\"border: 1px solid #bdc3c7; padding: 0.75rem;\"><a href=\"Solutions/EN/06_day4_p1_real-time-response-1_solution.ipynb\" style=\"color: #27ae60; text-decoration: none;\">✅ Solution</a></td>\n",
    "    </tr>\n",
    "    <tr style=\"background-color: #f8f9fa;\">\n",
    "      <td style=\"border: 1px solid #bdc3c7; padding: 0.75rem;\"><strong>4.2</strong></td>\n",
    "      <td style=\"border: 1px solid #bdc3c7; padding: 0.75rem;\">Real-time Response Part 2</td>\n",
    "      <td style=\"border: 1px solid #bdc3c7; padding: 0.75rem;\"><a href=\"Notebooks/EN/07_day4_p2_real-time-response-2.ipynb\" style=\"color: #3498db; text-decoration: none;\">📓 Exercise</a></td>\n",
    "      <td style=\"border: 1px solid #bdc3c7; padding: 0.75rem;\"><a href=\"Solutions/EN/07_day4_p2_real-time-response-2_solution.ipynb\" style=\"color: #27ae60; text-decoration: none;\">✅ Solution</a></td>\n",
    "    </tr>\n",
    "  </tbody>\n",
    "</table>\n"
   ]
  },
  {
   "cell_type": "markdown",
   "id": "bcda6e94",
   "metadata": {},
   "source": [
    "<h2 style=\"font-size: 1.6em; color: #34495e; margin-top: 2em; margin-bottom: 1em; border-bottom: 2px solid #16a085; padding-bottom: 0.5em;\">Day 5: Final Assignment and Wrap-up</h2>\n",
    "\n",
    "<p style=\"font-size: 0.95em; margin-bottom: 1em;\">The final assignment will be introduced on Day 4 and completed on Day 5. Groups will work on a comprehensive project integrating all course concepts.</p>\n",
    "\n",
    "<div style=\"background: linear-gradient(135deg, rgba(255, 193, 7, 0.1), rgba(255, 138, 101, 0.1)); border-left: 4px solid #f39c12; padding: 1rem; margin: 1rem 0; border-radius: 0 8px 8px 0;\">\n",
    "<p style=\"margin: 0; font-style: italic; color: #8e44ad;\"><strong>Final assignment materials will be made available during the course.</strong></p>\n",
    "</div>\n"
   ]
  },
  {
   "cell_type": "markdown",
   "id": "77dfa53c",
   "metadata": {
    "vscode": {
     "languageId": "r"
    }
   },
   "source": [
    "\n",
    "<div style=\"background: linear-gradient(135deg, rgba(52, 152, 219, 0.15), rgba(155, 89, 182, 0.15)); border-left: 4px solid #3498db; padding: 1rem; margin: 1rem 0; border-radius: 0 8px 8px 0;\">\n",
    "<h4 style=\"font-size: 1.1em; color: #2c3e50; margin: 0 0 0.5em 0;\">📊 Course Resources</h4>\n",
    "<ul style=\"margin: 0.5em 0; padding-left: 1.5em; font-size: 0.95em;\">\n",
    "<li><strong>📁 Data Files:</strong> All required datasets are in the <code>data/</code> folder</li>\n",
    "<li><strong>🖼️ Images:</strong> Reference images and plots in <code>static/img/</code></li>\n",
    "<li><strong>📋 Clean Data:</strong> Processed datasets available in <code>data/clean/</code></li>\n",
    "</ul>\n",
    "</div>"
   ]
  },
  {
   "cell_type": "markdown",
   "id": "9ae1ee10",
   "metadata": {},
   "source": [
    "<div style=\"background: linear-gradient(135deg, rgba(255, 193, 7, 0.15), rgba(255, 138, 101, 0.15)); border-left: 4px solid #f39c12; padding: 1rem; margin: 1rem 0; border-radius: 0 8px 8px 0;\">\n",
    "<h4 style=\"font-size: 1.1em; color: #2c3e50; margin: 0 0 0.5em 0;\">🌐 Language Options</h4>\n",
    "<p style=\"margin: 0.5em 0; font-size: 0.95em;\">This course is available in multiple languages:</p>\n",
    "<ul style=\"margin: 0.5em 0; padding-left: 1.5em; font-size: 0.95em;\">\n",
    "<li><strong>🇬🇧 English:</strong> You are currently viewing the English version</li>\n",
    "<li><strong>🇹🇷 Türkçe:</strong> <a href=\"index-tr.ipynb\" style=\"color: #e74c3c; font-weight: bold; text-decoration: none;\">Switch to Turkish version</a></li>\n",
    "</ul>\n",
    "</div>"
   ]
  },
  {
   "cell_type": "markdown",
   "id": "3efcbdb4",
   "metadata": {},
   "source": [
    "<hr style=\"margin: 2em 0; border: none; height: 1px; background: linear-gradient(to right, transparent, #bdc3c7, transparent);\">\n",
    "\n",
    "<h3 style=\"font-size: 1.3em; color: #2c3e50; margin-bottom: 1em;\">📞 Need Help?</h3>\n",
    "\n",
    "<ul style=\"font-size: 0.95em; line-height: 1.8; list-style: none; padding-left: 0;\">\n",
    "<li style=\"margin-bottom: 0.5em;\"><strong>📧 Instructor:</strong> <a href=\"mailto:juan.vesga@ukhsa.gov.uk\" style=\"color: #3498db; text-decoration: none;\">juan.vesga@ukhsa.gov.uk</a></li>\n",
    "<li style=\"margin-bottom: 1em;\"><strong>📝 Feedback:</strong> <a href=\"https://docs.google.com/forms/d/e/1FAIpQLSdFiJ5aNAhuntxj9zGolBcCIZTiXQmPzMwFkwPtQgmi8mPBYQ/viewform\" target=\"_blank\" style=\"color: #e74c3c; text-decoration: none;\">Course feedback form</a></li>\n",
    "</ul>\n",
    "\n",
    "<p style=\"font-style: italic; color: #7f8c8d; font-size: 0.9em; text-align: center; margin-top: 2em;\">Created by Juan F Vesga for The Health Security Project (HSP) in Türkiye</p>\n",
    "\n",
    "---\n"
   ]
  }
 ],
 "metadata": {
  "kernelspec": {
   "display_name": "R",
   "language": "R",
   "name": "ir"
  },
  "language_info": {
   "codemirror_mode": "r",
   "file_extension": ".r",
   "mimetype": "text/x-r-source",
   "name": "R",
   "pygments_lexer": "r",
   "version": "4.3.2"
  }
 },
 "nbformat": 4,
 "nbformat_minor": 5
}
