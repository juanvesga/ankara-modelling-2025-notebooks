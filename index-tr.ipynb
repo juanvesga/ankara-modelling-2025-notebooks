{
 "cells": [
  {
   "cell_type": "markdown",
   "id": "082761e7",
   "metadata": {},
   "source": [
    "# R ile Enfeksiyöz Hastalık Dinamikleri Modellemesi Kısa Kursu\n",
    "# \n",
    "# Etkileşimli kurs materyallerine hoş geldiniz! Bu 5 günlük yoğun atölye hesaplamalı epidemiyolojik modeller ile uygulamalı deneyim sağlamaktadır.\n",
    "# \n",
    "# ### 🚀 Başlangıç\n",
    "# - Herhangi bir notebook linkine tıklayarak yeni sekmede açın\n",
    "# - Rehberli egzersizler için **Notebook'lar** ile başlayın  \n",
    "# - Egzersizleri denedikten sonra **Çözümler**i kontrol edin\n",
    "# - Gerekli tüm veri dosyaları `data/` klasöründe bulunmaktadır"
   ]
  },
  {
   "cell_type": "code",
   "execution_count": null,
   "id": "cb2e006e",
   "metadata": {},
   "outputs": [],
   "source": [
    "\n",
    "library(IRdisplay)\n",
    "display_html('<style>\n",
    ".jp-RenderedHTMLCommon h1 { \n",
    "  font-size: 2.2em !important; \n",
    "  color: #2c3e50 !important; \n",
    "  margin-bottom: 0.5em !important;\n",
    "}\n",
    ".jp-RenderedHTMLCommon h2 { \n",
    "  font-size: 1.6em !important; \n",
    "  color: #34495e !important; \n",
    "  margin-top: 1.5em !important;\n",
    "  margin-bottom: 0.8em !important;\n",
    "}\n",
    ".jp-RenderedHTMLCommon h3 { \n",
    "  font-size: 1.3em !important; \n",
    "  color: #2c3e50 !important; \n",
    "}\n",
    ".jp-RenderedHTMLCommon h4 { \n",
    "  font-size: 1.1em !important; \n",
    "  color: #34495e !important; \n",
    "}\n",
    ".jp-RenderedHTMLCommon table {\n",
    "  border-collapse: collapse !important;\n",
    "  width: 100% !important;\n",
    "  margin: 1em 0 !important;\n",
    "  font-size: 0.9em !important;\n",
    "}\n",
    ".jp-RenderedHTMLCommon table th {\n",
    "  background-color: #f8f9fa !important;\n",
    "  border: 1px solid #dee2e6 !important;\n",
    "  padding: 0.75rem !important;\n",
    "  text-align: left !important;\n",
    "  font-weight: 600 !important;\n",
    "}\n",
    ".jp-RenderedHTMLCommon table td {\n",
    "  border: 1px solid #dee2e6 !important;\n",
    "  padding: 0.75rem !important;\n",
    "  vertical-align: top !important;\n",
    "}\n",
    ".jp-RenderedHTMLCommon table tr:nth-child(even) {\n",
    "  background-color: #f8f9fa !important;\n",
    "}\n",
    ".info-box {\n",
    "  background: linear-gradient(135deg, rgba(52, 152, 219, 0.1), rgba(155, 89, 182, 0.1)) !important;\n",
    "  border-left: 4px solid #3498db !important;\n",
    "  padding: 1rem !important;\n",
    "  margin: 1rem 0 !important;\n",
    "  border-radius: 0 8px 8px 0 !important;\n",
    "}\n",
    ".warning-box {\n",
    "  background: linear-gradient(135deg, rgba(255, 193, 7, 0.1), rgba(255, 138, 101, 0.1)) !important;\n",
    "  border-left: 4px solid #f39c12 !important;\n",
    "  padding: 1rem !important;\n",
    "  margin: 1rem 0 !important;\n",
    "  border-radius: 0 8px 8px 0 !important;\n",
    "}\n",
    "</style>')"
   ]
  },
  {
   "cell_type": "code",
   "execution_count": null,
   "id": "3171469b",
   "metadata": {},
   "outputs": [],
   "source": [
    "\n",
    "display_html('<div class=\"info-box\">\n",
    "<h4>📢 Kurs Bilgileri</h4>\n",
    "<ul style=\"margin: 0.5em 0; padding-left: 1.5em;\">\n",
    "<li><strong>Süre:</strong> 5 günlük yoğun atölye</li>\n",
    "<li><strong>Araçlar:</strong> Jupyter Notebook\\'ları ile R</li>\n",
    "<li><strong>Format:</strong> Etkileşimli uygulamalı öğrenme</li>\n",
    "<li><strong>Konum:</strong> Ankara, Türkiye</li>\n",
    "</ul>\n",
    "</div>')"
   ]
  },
  {
   "cell_type": "markdown",
   "id": "7052d595",
   "metadata": {},
   "source": [
    "# ## 1. Gün: Enfeksiyöz Hastalık Modellemesine Giriş\n",
    "# \n",
    "# Kompartman modellerinin ve rekabet eden tehlikelerin temellerini öğrenin.\n",
    "# \n",
    "# | Egzersiz | Açıklama | Notebook | Çözüm |\n",
    "# |----------|----------|----------|-------|\n",
    "# | **1.1** | Kompartman Modelleri | [📓 Egzersiz](Notebooks/TR/01_day1_p1_compartmental.ipynb) | [✅ Çözüm](Solutions/TR/01_day1_p1_compartmental_solution.ipynb) |\n",
    "# | **1.2** | Rekabet Eden Tehlikeler | [📓 Egzersiz](Notebooks/TR/02_day1_p2_competing_hazards.ipynb) | [✅ Çözüm](Solutions/TR/02_day1_p2_comp_hazards_solution.ipynb) |\n"
   ]
  },
  {
   "cell_type": "markdown",
   "id": "e22bfd3b",
   "metadata": {},
   "source": [
    "# ## 2. Gün: SIR Modeli\n",
    "# \n",
    "# SIR modellerini, temel üreme sayılarını ve sürü bağışıklığı kavramlarını keşfedin.\n",
    "# \n",
    "# | Egzersiz | Açıklama | Notebook | Çözüm |\n",
    "# |----------|----------|----------|-------|\n",
    "# | **2.1** | SIR Model Temelleri | [📓 Egzersiz](Notebooks/TR/03_day2_p1_SIR.ipynb) | [✅ Çözüm](Solutions/TR/03_day2_p1_SIR_solution.ipynb) |\n",
    "# | **2.2** | R₀ ve Sürü Bağışıklığı | [📓 Egzersiz](Notebooks/TR/04_day2_p2_R0_herd.ipynb) | [✅ Çözüm](Solutions/TR/04_day2_p2_R0_herd_solution.ipynb) |\n",
    "# \n",
    "# **Ek R Betikleri:**\n",
    "# - [📄 SIR Model Betiği](R/day3_p1_SIR%20model.R)\n",
    "# - [📄 R₀ ve Sürü Bağışıklığı Betiği](R/day3_p2_R0%20and%20herd%20immunity.R)\n"
   ]
  },
  {
   "cell_type": "markdown",
   "id": "f818b0db",
   "metadata": {},
   "source": [
    "# ## 3. Gün: Stokastik Modeller ve Belirsizliği Değerlendirme\n",
    "# \n",
    "# Stokastik süreçlere ve belirsizlik ölçümüne giriş.\n",
    "# \n",
    "# | Egzersiz | Açıklama | Notebook | Çözüm |\n",
    "# |----------|----------|----------|-------|\n",
    "# | **3.1** | Stokastik Modeller | [📓 Egzersiz](Notebooks/TR/05_day3_p1_stochastic_models.ipynb) | [✅ Çözüm](Solutions/TR/05_day3_p1_stochastic_models_solution.ipynb) |\n",
    "# \n",
    "# **Ek R Betikleri:**\n",
    "# - [📄 Stokastik SIR](R/day4_stochastic_SIR.R)\n",
    "# - [📄 Stokastik Norovirüs Modeli](R/day5_stochastic_Noro.R)\n",
    "# - [📄 COVID-19 SEIR Modeli](R/day5_stochastic_covid19_SEIR.R)\n"
   ]
  },
  {
   "cell_type": "markdown",
   "id": "1cc51f8a",
   "metadata": {},
   "source": [
    "# ## 4. Gün: Salgınlar ve Veri\n",
    "# \n",
    "# Gerçek zamanlı tepki yöntemleri ve pratik salgın analizi.\n",
    "# \n",
    "# | Egzersiz | Açıklama | Notebook | Çözüm |\n",
    "# |----------|----------|----------|-------|\n",
    "# | **4.1** | Gerçek Zamanlı Tepki Bölüm 1 | [📓 Egzersiz](Notebooks/TR/06_day4_p1_real-time-response-1.ipynb) | [✅ Çözüm](Solutions/TR/06_day4_p1_real-time-response-1_solution.ipynb) |\n",
    "# | **4.2** | Gerçek Zamanlı Tepki Bölüm 2 | [📓 Egzersiz](Notebooks/TR/07_day4_p2_real-time-response-2.ipynb) | [✅ Çözüm](Solutions/TR/07_day4_p2_real-time-response-2_solution.ipynb) |\n",
    "\n",
    "# Cell 8 (Markdown)\n",
    "# ## 5. Gün: Final Ödevi ve Kursun Bitişi\n",
    "# \n",
    "# Final ödevi 4. gün tanıtılacak ve 5. gün tamamlanacaktır. Gruplar tüm kurs kavramlarını entegre eden kapsamlı bir proje üzerinde çalışacaklardır.\n",
    "# \n",
    "# *Final ödev materyalleri kurs süresince kullanıma sunulacaktır.*\n"
   ]
  },
  {
   "cell_type": "code",
   "execution_count": null,
   "id": "8ce8fe95",
   "metadata": {},
   "outputs": [],
   "source": [
    "\n",
    "display_html('<div class=\"info-box\">\n",
    "<h4>📊 Kurs Kaynakları</h4>\n",
    "<ul style=\"margin: 0.5em 0; padding-left: 1.5em;\">\n",
    "<li><strong>📁 Veri Dosyaları:</strong> Gerekli tüm veri setleri <code>data/</code> klasöründedir</li>\n",
    "<li><strong>🖼️ Görüntüler:</strong> Referans görüntüleri ve grafikler <code>static/img/</code> klasöründe</li>\n",
    "<li><strong>📋 Temiz Veri:</strong> İşlenmiş veri setleri <code>data/clean/</code> klasöründe mevcuttur</li>\n",
    "</ul>\n",
    "</div>')"
   ]
  },
  {
   "cell_type": "code",
   "execution_count": null,
   "id": "46bf8380",
   "metadata": {},
   "outputs": [],
   "source": [
    "\n",
    "display_html('<div class=\"warning-box\">\n",
    "<h4>🌐 Dil Seçenekleri</h4>\n",
    "<p style=\"margin: 0.5em 0;\">Bu kurs birden fazla dilde mevcuttur:</p>\n",
    "<ul style=\"margin: 0.5em 0; padding-left: 1.5em;\">\n",
    "<li><strong>🇹🇷 Türkçe:</strong> Şu anda Türkçe versiyonu görüntülüyorsunuz</li>\n",
    "<li><strong>🇬🇧 English:</strong> <a href=\"index.ipynb\" style=\"color: #e74c3c; font-weight: bold;\">İngilizce versiyona geç</a></li>\n",
    "</ul>\n",
    "</div>')"
   ]
  },
  {
   "cell_type": "markdown",
   "id": "5a4ffed7",
   "metadata": {},
   "source": [
    "# ---\n",
    "# \n",
    "# ### 📞 Yardıma İhtiyacınız mı Var?\n",
    "# \n",
    "# - **📧 Eğitmen:** juan.vesga@ukhsa.gov.uk  \n",
    "# - **📝 Geri Bildirim:** [Kurs geri bildirim formu](https://docs.google.com/forms/d/e/1FAIpQLSdFiJ5aNAhuntxj9zGolBcCIZTiXQmPzMwFkwPtQgmi8mPBYQ/viewform)\n",
    "# \n",
    "# *Türkiye'deki Sağlık Güvenlik Projesi (HSP) için Juan F Vesga tarafından oluşturulmuştur*"
   ]
  }
 ],
 "metadata": {
  "language_info": {
   "name": "python"
  }
 },
 "nbformat": 4,
 "nbformat_minor": 5
}
